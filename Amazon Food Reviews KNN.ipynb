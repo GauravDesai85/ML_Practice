{
 "cells": [
  {
   "cell_type": "code",
   "execution_count": 30,
   "metadata": {},
   "outputs": [],
   "source": [
    "%matplotlib inline\n",
    "import warnings\n",
    "warnings.filterwarnings('ignore')"
   ]
  },
  {
   "cell_type": "code",
   "execution_count": 2,
   "metadata": {},
   "outputs": [],
   "source": [
    "import pandas as pd\n",
    "import numpy as np\n",
    "import sqlite3\n",
    "import nltk\n",
    "import string\n",
    "import matplotlib.pyplot as plt"
   ]
  },
  {
   "cell_type": "code",
   "execution_count": 3,
   "metadata": {},
   "outputs": [],
   "source": [
    "from sklearn import neighbors"
   ]
  },
  {
   "cell_type": "code",
   "execution_count": 4,
   "metadata": {},
   "outputs": [],
   "source": [
    "from gensim.models import Word2Vec\n",
    "from gensim.models import KeyedVectors\n",
    "import pickle"
   ]
  },
  {
   "cell_type": "code",
   "execution_count": 5,
   "metadata": {},
   "outputs": [],
   "source": [
    "con=sqlite3.connect('final_data.sqlite')"
   ]
  },
  {
   "cell_type": "code",
   "execution_count": 6,
   "metadata": {},
   "outputs": [],
   "source": [
    "## We had cleansed and saved the final data for TSNE assignment. We use the same for this assignment.\n",
    "\n",
    "review_data=pd.read_sql_query(\"\"\"Select * from  Reviews\"\"\",con)"
   ]
  },
  {
   "cell_type": "code",
   "execution_count": 7,
   "metadata": {
    "scrolled": true
   },
   "outputs": [
    {
     "data": {
      "text/html": [
       "<div>\n",
       "<style scoped>\n",
       "    .dataframe tbody tr th:only-of-type {\n",
       "        vertical-align: middle;\n",
       "    }\n",
       "\n",
       "    .dataframe tbody tr th {\n",
       "        vertical-align: top;\n",
       "    }\n",
       "\n",
       "    .dataframe thead th {\n",
       "        text-align: right;\n",
       "    }\n",
       "</style>\n",
       "<table border=\"1\" class=\"dataframe\">\n",
       "  <thead>\n",
       "    <tr style=\"text-align: right;\">\n",
       "      <th></th>\n",
       "      <th>index</th>\n",
       "      <th>Id</th>\n",
       "      <th>ProductId</th>\n",
       "      <th>UserId</th>\n",
       "      <th>ProfileName</th>\n",
       "      <th>HelpfulnessNumerator</th>\n",
       "      <th>HelpfulnessDenominator</th>\n",
       "      <th>Score</th>\n",
       "      <th>Time</th>\n",
       "      <th>Summary</th>\n",
       "      <th>Text</th>\n",
       "      <th>CleanedText</th>\n",
       "    </tr>\n",
       "  </thead>\n",
       "  <tbody>\n",
       "    <tr>\n",
       "      <th>0</th>\n",
       "      <td>138706</td>\n",
       "      <td>150524</td>\n",
       "      <td>0006641040</td>\n",
       "      <td>ACITT7DI6IDDL</td>\n",
       "      <td>shari zychinski</td>\n",
       "      <td>0</td>\n",
       "      <td>0</td>\n",
       "      <td>Positive</td>\n",
       "      <td>939340800</td>\n",
       "      <td>EVERY book is educational</td>\n",
       "      <td>this witty little book makes my son laugh at l...</td>\n",
       "      <td>witti littl book make son laugh loud  recit ca...</td>\n",
       "    </tr>\n",
       "    <tr>\n",
       "      <th>1</th>\n",
       "      <td>138688</td>\n",
       "      <td>150506</td>\n",
       "      <td>0006641040</td>\n",
       "      <td>A2IW4PEEKO2R0U</td>\n",
       "      <td>Tracy</td>\n",
       "      <td>1</td>\n",
       "      <td>1</td>\n",
       "      <td>Positive</td>\n",
       "      <td>1194739200</td>\n",
       "      <td>Love the book, miss the hard cover version</td>\n",
       "      <td>I grew up reading these Sendak books, and watc...</td>\n",
       "      <td>grew read sendak books  watch realli rosi movi...</td>\n",
       "    </tr>\n",
       "    <tr>\n",
       "      <th>2</th>\n",
       "      <td>138689</td>\n",
       "      <td>150507</td>\n",
       "      <td>0006641040</td>\n",
       "      <td>A1S4A3IQ2MU7V4</td>\n",
       "      <td>sally sue \"sally sue\"</td>\n",
       "      <td>1</td>\n",
       "      <td>1</td>\n",
       "      <td>Positive</td>\n",
       "      <td>1191456000</td>\n",
       "      <td>chicken soup with rice months</td>\n",
       "      <td>This is a fun way for children to learn their ...</td>\n",
       "      <td>fun way children learn month year learn poem t...</td>\n",
       "    </tr>\n",
       "    <tr>\n",
       "      <th>3</th>\n",
       "      <td>138690</td>\n",
       "      <td>150508</td>\n",
       "      <td>0006641040</td>\n",
       "      <td>AZGXZ2UUK6X</td>\n",
       "      <td>Catherine Hallberg \"(Kate)\"</td>\n",
       "      <td>1</td>\n",
       "      <td>1</td>\n",
       "      <td>Positive</td>\n",
       "      <td>1076025600</td>\n",
       "      <td>a good swingy rhythm for reading aloud</td>\n",
       "      <td>This is a great little book to read aloud- it ...</td>\n",
       "      <td>great littl book read aloud- nice rhythm well ...</td>\n",
       "    </tr>\n",
       "    <tr>\n",
       "      <th>4</th>\n",
       "      <td>138691</td>\n",
       "      <td>150509</td>\n",
       "      <td>0006641040</td>\n",
       "      <td>A3CMRKGE0P909G</td>\n",
       "      <td>Teresa</td>\n",
       "      <td>3</td>\n",
       "      <td>4</td>\n",
       "      <td>Positive</td>\n",
       "      <td>1018396800</td>\n",
       "      <td>A great way to learn the months</td>\n",
       "      <td>This is a book of poetry about the months of t...</td>\n",
       "      <td>book poetri month year  goe month cute littl p...</td>\n",
       "    </tr>\n",
       "  </tbody>\n",
       "</table>\n",
       "</div>"
      ],
      "text/plain": [
       "    index      Id   ProductId          UserId                  ProfileName  \\\n",
       "0  138706  150524  0006641040   ACITT7DI6IDDL              shari zychinski   \n",
       "1  138688  150506  0006641040  A2IW4PEEKO2R0U                        Tracy   \n",
       "2  138689  150507  0006641040  A1S4A3IQ2MU7V4        sally sue \"sally sue\"   \n",
       "3  138690  150508  0006641040     AZGXZ2UUK6X  Catherine Hallberg \"(Kate)\"   \n",
       "4  138691  150509  0006641040  A3CMRKGE0P909G                       Teresa   \n",
       "\n",
       "   HelpfulnessNumerator  HelpfulnessDenominator     Score        Time  \\\n",
       "0                     0                       0  Positive   939340800   \n",
       "1                     1                       1  Positive  1194739200   \n",
       "2                     1                       1  Positive  1191456000   \n",
       "3                     1                       1  Positive  1076025600   \n",
       "4                     3                       4  Positive  1018396800   \n",
       "\n",
       "                                      Summary  \\\n",
       "0                   EVERY book is educational   \n",
       "1  Love the book, miss the hard cover version   \n",
       "2               chicken soup with rice months   \n",
       "3      a good swingy rhythm for reading aloud   \n",
       "4             A great way to learn the months   \n",
       "\n",
       "                                                Text  \\\n",
       "0  this witty little book makes my son laugh at l...   \n",
       "1  I grew up reading these Sendak books, and watc...   \n",
       "2  This is a fun way for children to learn their ...   \n",
       "3  This is a great little book to read aloud- it ...   \n",
       "4  This is a book of poetry about the months of t...   \n",
       "\n",
       "                                         CleanedText  \n",
       "0  witti littl book make son laugh loud  recit ca...  \n",
       "1  grew read sendak books  watch realli rosi movi...  \n",
       "2  fun way children learn month year learn poem t...  \n",
       "3  great littl book read aloud- nice rhythm well ...  \n",
       "4  book poetri month year  goe month cute littl p...  "
      ]
     },
     "execution_count": 7,
     "metadata": {},
     "output_type": "execute_result"
    }
   ],
   "source": [
    "review_data.head()"
   ]
  },
  {
   "cell_type": "code",
   "execution_count": 8,
   "metadata": {},
   "outputs": [],
   "source": [
    "from sklearn.feature_extraction.text import CountVectorizer\n",
    "#from sklearn.manifold import TSNE\n",
    "from sklearn.preprocessing import StandardScaler\n",
    "import seaborn as sn"
   ]
  },
  {
   "cell_type": "markdown",
   "metadata": {},
   "source": [
    "## Data Sampling, Time Based Splitting"
   ]
  },
  {
   "cell_type": "code",
   "execution_count": 9,
   "metadata": {},
   "outputs": [],
   "source": [
    "## To avoid Out of Memory error, let's sample some rows and try on the sample data\n",
    "sampled_data=review_data[['Time','Score','CleanedText']].sample(100000)"
   ]
  },
  {
   "cell_type": "code",
   "execution_count": 10,
   "metadata": {},
   "outputs": [],
   "source": [
    "# Sort the data based on time for time based splitting.\n",
    "sampled_data_sort=sampled_data.sort_values('Time')"
   ]
  },
  {
   "cell_type": "code",
   "execution_count": 11,
   "metadata": {},
   "outputs": [
    {
     "name": "stdout",
     "output_type": "stream",
     "text": [
      "          Time     Score                                        CleanedText\n",
      "424  944092800  Positive  beetlejuic well written movi       everyth exc...\n",
      "261  951523200  Positive  happen say name three time michael keaten star...\n",
      "325  959990400  Positive  im get crazy im look beatlejuic french version...\n",
      "242  962236800  Positive  receiv shipment could hard wait tri product  l...\n",
      "837  965779200  Positive  much easier use wilson past colors  color vibr...\n"
     ]
    },
    {
     "data": {
      "text/plain": [
       "Positive    84414\n",
       "Negative    15586\n",
       "Name: Score, dtype: int64"
      ]
     },
     "execution_count": 11,
     "metadata": {},
     "output_type": "execute_result"
    }
   ],
   "source": [
    "# Check the data again\n",
    "print(sampled_data_sort.head())\n",
    "sampled_data_sort['Score'].value_counts()"
   ]
  },
  {
   "cell_type": "code",
   "execution_count": 12,
   "metadata": {},
   "outputs": [
    {
     "name": "stdout",
     "output_type": "stream",
     "text": [
      "Train data dim : (70000, 3)\n",
      "Test data dim : (30000, 3)\n"
     ]
    }
   ],
   "source": [
    "#Create Train/Test Split of data (based on time, as we have sorted data already)\n",
    "\n",
    "Train_data=sampled_data_sort.iloc[0:70000]\n",
    "print(\"Train data dim :\",Train_data.shape)\n",
    "\n",
    "Test_data=sampled_data_sort.iloc[70000:]\n",
    "print(\"Test data dim :\",Test_data.shape)"
   ]
  },
  {
   "cell_type": "markdown",
   "metadata": {},
   "source": [
    "## KNN With BOW"
   ]
  },
  {
   "cell_type": "code",
   "execution_count": 13,
   "metadata": {},
   "outputs": [
    {
     "data": {
      "text/plain": [
       "(70000, 55393)"
      ]
     },
     "execution_count": 13,
     "metadata": {},
     "output_type": "execute_result"
    }
   ],
   "source": [
    "# Create BOW with Train data\n",
    "count_vect=CountVectorizer()\n",
    "vocab=count_vect.fit(Train_data['CleanedText'].values) ## Create Vocabulary to be used by Train and Test Data\n",
    "Train_counts=count_vect.transform(Train_data['CleanedText'].values)\n",
    "Train_counts.get_shape()"
   ]
  },
  {
   "cell_type": "code",
   "execution_count": 14,
   "metadata": {},
   "outputs": [
    {
     "data": {
      "text/plain": [
       "scipy.sparse.csr.csr_matrix"
      ]
     },
     "execution_count": 14,
     "metadata": {},
     "output_type": "execute_result"
    }
   ],
   "source": [
    "type(Train_counts)"
   ]
  },
  {
   "cell_type": "code",
   "execution_count": 33,
   "metadata": {},
   "outputs": [],
   "source": [
    "Y_train_Polarity=Train_data['Score'].values"
   ]
  },
  {
   "cell_type": "code",
   "execution_count": 31,
   "metadata": {},
   "outputs": [],
   "source": [
    "from sklearn import cross_validation\n",
    "from sklearn.cross_validation import cross_val_score\n",
    "from sklearn.metrics import accuracy_score"
   ]
  },
  {
   "cell_type": "markdown",
   "metadata": {},
   "source": [
    "##### Find optimal K Value using 10 fold CV"
   ]
  },
  {
   "cell_type": "code",
   "execution_count": 19,
   "metadata": {},
   "outputs": [
    {
     "name": "stdout",
     "output_type": "stream",
     "text": [
      "\n",
      "The optimal number of neighbors is 13.\n"
     ]
    }
   ],
   "source": [
    "# KNN on Train data \n",
    "## Find best value of K using 10 fold CV\n",
    "k_list=list(range(0,50))\n",
    "K_odd=[k for k in k_list if k%2 !=0]\n",
    "cv_scores=[]\n",
    "for k in K_odd:\n",
    "    BOW_KNN=neighbors.KNeighborsClassifier(k)\n",
    "    scores = cross_val_score(BOW_KNN, Train_counts, Y_train_Polarity, cv=10, scoring='accuracy')\n",
    "    cv_scores.append(scores.mean())\n",
    "\n",
    "misclassification_rate=[1-r for r in cv_scores]\n",
    "# determining best k\n",
    "optimal_k = K_odd[misclassification_rate.index(min(misclassification_rate))]\n",
    "print('\\nThe optimal number of neighbors is %d.' % optimal_k)"
   ]
  },
  {
   "cell_type": "code",
   "execution_count": 30,
   "metadata": {},
   "outputs": [
    {
     "name": "stdout",
     "output_type": "stream",
     "text": [
      "[0.8096421540585862, 0.8461283240256507, 0.8540142731314866, 0.8552428200895037, 0.8557714139725945, 0.8556571323387752, 0.8557714323413995, 0.8553856915201162, 0.8554428404999996, 0.8551571139653055, 0.8551427955962086, 0.8548856649787162, 0.8548142568154512, 0.8547428119169087, 0.8544284955871705, 0.8543570690539344, 0.8543713506871706, 0.8541999527259467, 0.8540714037431482, 0.8539142527186583, 0.8536285649591836, 0.8534571363860056, 0.8534000037314871, 0.8532571486274053, 0.853228558830612]\n"
     ]
    }
   ],
   "source": [
    "print(cv_scores)"
   ]
  },
  {
   "cell_type": "code",
   "execution_count": 22,
   "metadata": {},
   "outputs": [
    {
     "data": {
      "image/png": "[encoded data removed]",
      "text/plain": [
       "<Figure size 432x288 with 1 Axes>"
      ]
     },
     "metadata": {},
     "output_type": "display_data"
    },
    {
     "name": "stdout",
     "output_type": "stream",
     "text": [
      "the misclassification error for each k value is :  [0.19036 0.15387 0.14599 0.14476 0.14423 0.14434 0.14423 0.14461 0.14456\n",
      " 0.14484 0.14486 0.14511 0.14519 0.14526 0.14557 0.14564 0.14563 0.1458\n",
      " 0.14593 0.14609 0.14637 0.14654 0.1466  0.14674 0.14677]\n"
     ]
    }
   ],
   "source": [
    "plt.plot(K_odd, misclassification_rate)\n",
    "\n",
    "#for xy in zip(K_odd, np.round(misclassification_rate,3)):\n",
    "#    plt.annotate('(%s, %s)' % xy, xy=xy, textcoords='data')\n",
    "\n",
    "plt.xlabel('Number of Neighbors K')\n",
    "plt.ylabel('Misclassification Error')\n",
    "plt.show()\n",
    "\n",
    "print(\"the misclassification error for each k value is : \", np.round(misclassification_rate,5))"
   ]
  },
  {
   "cell_type": "markdown",
   "metadata": {},
   "source": [
    "###### Check Test Accuracy"
   ]
  },
  {
   "cell_type": "code",
   "execution_count": 23,
   "metadata": {},
   "outputs": [
    {
     "data": {
      "text/plain": [
       "KNeighborsClassifier(algorithm='auto', leaf_size=30, metric='minkowski',\n",
       "           metric_params=None, n_jobs=1, n_neighbors=13, p=2,\n",
       "           weights='uniform')"
      ]
     },
     "execution_count": 23,
     "metadata": {},
     "output_type": "execute_result"
    }
   ],
   "source": [
    "BOW_KNN=neighbors.KNeighborsClassifier(n_neighbors=13)\n",
    "BOW_KNN.fit(Train_counts,Y_train_Polarity)"
   ]
  },
  {
   "cell_type": "code",
   "execution_count": 24,
   "metadata": {},
   "outputs": [
    {
     "data": {
      "text/plain": [
       "(30000, 55393)"
      ]
     },
     "execution_count": 24,
     "metadata": {},
     "output_type": "execute_result"
    }
   ],
   "source": [
    "Test_counts=count_vect.transform(Test_data['CleanedText'].values)\n",
    "Test_counts.get_shape()"
   ]
  },
  {
   "cell_type": "code",
   "execution_count": 27,
   "metadata": {},
   "outputs": [],
   "source": [
    "Test_Predict=BOW_KNN.predict(Test_counts)"
   ]
  },
  {
   "cell_type": "code",
   "execution_count": 28,
   "metadata": {},
   "outputs": [
    {
     "name": "stdout",
     "output_type": "stream",
     "text": [
      "\n",
      "The accuracy of the knn classifier for k = 13 is 83.336667%\n"
     ]
    }
   ],
   "source": [
    "Test_acc = accuracy_score(Test_data['Score'].values, Test_Predict) * 100\n",
    "print('\\nThe accuracy of the knn classifier for k = %d is %f%%' % (optimal_k, Test_acc))"
   ]
  },
  {
   "cell_type": "markdown",
   "metadata": {},
   "source": [
    "* Thus, our Test Accuracy using BOW KNN is around 83 %, which is close to our CV accuracy of around 85%\n",
    "* We can say that our BOW KNN is not overfitting\n",
    "* Other things which we could try are :scale the data, use a specific KNN algo such as KD Tree, try bi-grams instead of unigrams etc."
   ]
  },
  {
   "cell_type": "markdown",
   "metadata": {},
   "source": [
    "## KNN with TF-IDF"
   ]
  },
  {
   "cell_type": "code",
   "execution_count": 13,
   "metadata": {},
   "outputs": [],
   "source": [
    "from sklearn.feature_extraction.text import TfidfTransformer\n",
    "from sklearn.feature_extraction.text import TfidfVectorizer"
   ]
  },
  {
   "cell_type": "code",
   "execution_count": 14,
   "metadata": {},
   "outputs": [
    {
     "data": {
      "text/plain": [
       "(70000, 54964)"
      ]
     },
     "execution_count": 14,
     "metadata": {},
     "output_type": "execute_result"
    }
   ],
   "source": [
    "## Create a tf-idf vectorizer-unigram\n",
    "\n",
    "## For Train data\n",
    "\n",
    "tf_idf_vect = TfidfVectorizer(ngram_range=(1,1))\n",
    "tf_idf_vocab=tf_idf_vect.fit(Train_data['CleanedText'].values) ## Create Vocabulary to be used by Train and Test Data\n",
    "tf_idf_train_counts=tf_idf_vect.transform(Train_data['CleanedText'].values)\n",
    "tf_idf_train_counts.get_shape()"
   ]
  },
  {
   "cell_type": "code",
   "execution_count": 15,
   "metadata": {},
   "outputs": [
    {
     "data": {
      "text/plain": [
       "(30000, 54964)"
      ]
     },
     "execution_count": 15,
     "metadata": {},
     "output_type": "execute_result"
    }
   ],
   "source": [
    "## For Test Data\n",
    "tf_idf_test_counts=tf_idf_vect.transform(Test_data['CleanedText'].values)\n",
    "tf_idf_test_counts.get_shape()"
   ]
  },
  {
   "cell_type": "markdown",
   "metadata": {},
   "source": [
    "#### Find Optimal K value for TF-IDF"
   ]
  },
  {
   "cell_type": "code",
   "execution_count": 23,
   "metadata": {},
   "outputs": [
    {
     "name": "stdout",
     "output_type": "stream",
     "text": [
      "\n",
      "The optimal number of neighbors is 9.\n"
     ]
    }
   ],
   "source": [
    "# KNN on Train data \n",
    "## Find best value of K using 10 fold CV\n",
    "tf_idf_k_list=list(range(0,50))\n",
    "tf_idf_K_odd=[k for k in tf_idf_k_list if k%2 !=0]\n",
    "tf_idf_cv_scores=[]\n",
    "for k in tf_idf_K_odd:\n",
    "    tf_idf_KNN=neighbors.KNeighborsClassifier(k)\n",
    "    tf_idf_scores = cross_val_score(tf_idf_KNN, tf_idf_train_counts, Y_train_Polarity, cv=10, scoring='accuracy')\n",
    "    tf_idf_cv_scores.append(tf_idf_scores.mean())\n",
    "\n",
    "tf_idf_misclassification_rate=[1-r for r in tf_idf_cv_scores]\n",
    "# determining best k\n",
    "tf_idf_optimal_k = tf_idf_K_odd[tf_idf_misclassification_rate.index(min(tf_idf_misclassification_rate))]\n",
    "print('\\nThe optimal number of neighbors is %d.' % tf_idf_optimal_k)"
   ]
  },
  {
   "cell_type": "code",
   "execution_count": 24,
   "metadata": {},
   "outputs": [
    {
     "name": "stdout",
     "output_type": "stream",
     "text": [
      "[0.8439571252787168, 0.8546286171816335, 0.8607000376451902, 0.8623713805139932, 0.8630714233702623, 0.8629714743892137, 0.8628571764311961, 0.8625571968370274, 0.862214335609622, 0.8620000927492729, 0.8619857927530628, 0.8619572090790101, 0.8617286254067066, 0.8611429070335287, 0.8611714662142866, 0.8608571886615171, 0.8609572131513132, 0.860742939682509, 0.8608000743763864, 0.8608286396822173, 0.8606429253959199, 0.8605143478422754, 0.8601286233498552, 0.8601000396769687, 0.8599714988603514]\n"
     ]
    }
   ],
   "source": [
    "print(tf_idf_cv_scores)"
   ]
  },
  {
   "cell_type": "code",
   "execution_count": 25,
   "metadata": {},
   "outputs": [
    {
     "data": {
      "image/png": "[encoded data removed]",
      "text/plain": [
       "<Figure size 432x288 with 1 Axes>"
      ]
     },
     "metadata": {},
     "output_type": "display_data"
    },
    {
     "name": "stdout",
     "output_type": "stream",
     "text": [
      "the misclassification error for each k value is :  [0.15604 0.14537 0.1393  0.13763 0.13693 0.13703 0.13714 0.13744 0.13779\n",
      " 0.138   0.13801 0.13804 0.13827 0.13886 0.13883 0.13914 0.13904 0.13926\n",
      " 0.1392  0.13917 0.13936 0.13949 0.13987 0.1399  0.14003]\n"
     ]
    }
   ],
   "source": [
    "plt.plot(tf_idf_K_odd, tf_idf_misclassification_rate)\n",
    "plt.xlabel('Number of Neighbors K')\n",
    "plt.ylabel('Misclassification Error')\n",
    "plt.show()\n",
    "\n",
    "print(\"the misclassification error for each k value is : \", np.round(tf_idf_misclassification_rate,5))"
   ]
  },
  {
   "cell_type": "markdown",
   "metadata": {},
   "source": [
    "#### Check Test Accuracy"
   ]
  },
  {
   "cell_type": "code",
   "execution_count": 26,
   "metadata": {},
   "outputs": [
    {
     "data": {
      "text/plain": [
       "KNeighborsClassifier(algorithm='auto', leaf_size=30, metric='minkowski',\n",
       "           metric_params=None, n_jobs=1, n_neighbors=9, p=2,\n",
       "           weights='uniform')"
      ]
     },
     "execution_count": 26,
     "metadata": {},
     "output_type": "execute_result"
    }
   ],
   "source": [
    "tf_idf_KNN=neighbors.KNeighborsClassifier(n_neighbors=tf_idf_optimal_k)\n",
    "tf_idf_KNN.fit(tf_idf_train_counts,Y_train_Polarity)"
   ]
  },
  {
   "cell_type": "code",
   "execution_count": 27,
   "metadata": {},
   "outputs": [],
   "source": [
    "Test_Predict_tf_idf=tf_idf_KNN.predict(tf_idf_test_counts)"
   ]
  },
  {
   "cell_type": "code",
   "execution_count": 28,
   "metadata": {},
   "outputs": [
    {
     "name": "stdout",
     "output_type": "stream",
     "text": [
      "\n",
      "The accuracy of the knn classifier for k = 9 is 83.960000%\n"
     ]
    }
   ],
   "source": [
    "Test_acc_tf_idf = accuracy_score(Test_data['Score'].values, Test_Predict_tf_idf) * 100\n",
    "print('\\nThe accuracy of the knn classifier for k = %d is %f%%' % (tf_idf_optimal_k, Test_acc_tf_idf))"
   ]
  },
  {
   "cell_type": "markdown",
   "metadata": {},
   "source": [
    "* We see that Test Accuracy with TF-IDF is almost equal to Test Accuracy with BOW"
   ]
  },
  {
   "cell_type": "markdown",
   "metadata": {},
   "source": [
    "## KNN with Avg Word2Vec"
   ]
  },
  {
   "cell_type": "code",
   "execution_count": 16,
   "metadata": {},
   "outputs": [],
   "source": [
    "from gensim.models import Word2Vec\n",
    "from gensim.models import keyedvectors"
   ]
  },
  {
   "cell_type": "markdown",
   "metadata": {},
   "source": [
    "#### Preprocessing text and creating avg word vectors for train and test data"
   ]
  },
  {
   "cell_type": "code",
   "execution_count": 17,
   "metadata": {},
   "outputs": [
    {
     "name": "stdout",
     "output_type": "stream",
     "text": [
      "['beetlejuic', 'well', 'written', 'movi', 'everyth', 'excel', 'act', 'special', 'effect', 'delight', 'chose', 'view', 'movie']\n"
     ]
    }
   ],
   "source": [
    "## Split each text row into words for train data\n",
    "sent_split_train=[sent.split() for sent in Train_data['CleanedText'].values]\n",
    "print(sent_split_train[0])"
   ]
  },
  {
   "cell_type": "code",
   "execution_count": 18,
   "metadata": {},
   "outputs": [],
   "source": [
    "## Train Word2Vec Model.Consider words with min frequency 3.\n",
    "\n",
    "w2vModel=Word2Vec(sent_split_train,min_count=3,size=50,workers=2)"
   ]
  },
  {
   "cell_type": "code",
   "execution_count": 19,
   "metadata": {},
   "outputs": [
    {
     "name": "stdout",
     "output_type": "stream",
     "text": [
      "number of words that occured minimum 5 times  22349\n",
      "sample words  ['beetlejuic', 'well', 'written', 'movi', 'everyth', 'excel', 'act', 'special', 'effect', 'delight', 'chose', 'view', 'movie', 'happen', 'say', 'name', 'three', 'time', 'michael', 'star', 'comedi', 'two', 'coupl', 'live', 'old', 'stori', 'house', 'come', 'back', 'suppli', 'store', 'sudden', 'get', 'caught', 'insid', 'bridg', 'start', 'tumbl', 'lake', 'board', 'catch', 'them', 'theyv', 'got', 'hope', 'up', 'small', 'dog', 'step', 'car']\n"
     ]
    }
   ],
   "source": [
    "## W2V Train Vocab\n",
    "w2v_words_train = list(w2vModel.wv.vocab)\n",
    "print(\"number of words that occured minimum 5 times \",len(w2v_words_train))\n",
    "print(\"sample words \", w2v_words_train[0:50])"
   ]
  },
  {
   "cell_type": "code",
   "execution_count": 36,
   "metadata": {},
   "outputs": [
    {
     "name": "stdout",
     "output_type": "stream",
     "text": [
      "[('shown', 0.8134374618530273), ('letter', 0.7582100629806519), ('imag', 0.7494668960571289), ('print', 0.7385543584823608), ('video', 0.724541962146759), ('text', 0.7226758003234863), ('page', 0.7109229564666748), ('receipt', 0.7064568400382996), ('inspect', 0.6982311606407166), ('confirm', 0.6928055286407471)]\n"
     ]
    }
   ],
   "source": [
    "print(w2vModel.wv.most_similar('show'))"
   ]
  },
  {
   "cell_type": "code",
   "execution_count": 17,
   "metadata": {},
   "outputs": [],
   "source": [
    "## Find Avg Word Vectors for each sentence. Use for both Train and Test Data\n",
    "\n",
    "def AvgWord2Vec(sent_split):\n",
    "    '''\n",
    "    This function takes the sentences from the text and computes avg word vectors.\n",
    "    input:\n",
    "    sent_split :List of input sentences split into words for each row of text\n",
    "    output:\n",
    "    avg_sent_vectors: List of avg word vectors of dimension 50\n",
    "    '''\n",
    "    avg_sent_vectors=[]\n",
    "    for sent in sent_split:\n",
    "        sent_vect=np.zeros(50)\n",
    "        cnt_word=0\n",
    "        for word in sent:\n",
    "            if word in w2v_words_train:\n",
    "                word_vec=w2vModel.wv[word]\n",
    "                cnt_word+=1\n",
    "                sent_vect+=word_vec\n",
    "        if cnt_word != 0:\n",
    "            sent_vect/=cnt_word\n",
    "        avg_sent_vectors.append(sent_vect)\n",
    "    return(avg_sent_vectors)\n",
    "            "
   ]
  },
  {
   "cell_type": "code",
   "execution_count": 40,
   "metadata": {},
   "outputs": [
    {
     "name": "stdout",
     "output_type": "stream",
     "text": [
      "[-6.97999308e-04  5.28442559e-02  3.45157362e-01  1.01740464e-01\n",
      " -6.86518845e-02  3.60810341e-01 -4.30521374e-01 -1.33634473e-02\n",
      "  2.68657674e-01  1.72403344e-01 -1.24174105e-01 -2.95325268e-01\n",
      "  3.97508746e-01 -6.03620206e-02  2.38875882e-02 -4.11606689e-01\n",
      " -4.42514302e-01  4.90166120e-01  1.35990607e-01  1.54694055e-01\n",
      " -4.17662551e-01  2.10643278e-01 -6.56334138e-03  2.55758159e-01\n",
      " -1.82628400e-01  6.88633112e-01 -1.09119027e-01 -4.94516636e-01\n",
      " -2.02103362e-01  5.44719720e-02  2.59796872e-01 -5.67040167e-02\n",
      " -6.43684995e-02  2.85885778e-01  2.76091228e-01  5.75670877e-01\n",
      " -5.12987186e-01  3.19221892e-01  7.45358316e-01  3.46882556e-01\n",
      " -2.96533585e-03 -7.64579436e-02  3.29741597e-01  3.77642468e-01\n",
      "  6.67268357e-02  6.35999202e-01  9.04566461e-01  3.14475198e-01\n",
      "  9.12057447e-02 -2.54162572e-01]\n"
     ]
    }
   ],
   "source": [
    "avg_vectors_train=AvgWord2Vec(sent_split_train)\n",
    "print(avg_vectors_train[0])"
   ]
  },
  {
   "cell_type": "code",
   "execution_count": 20,
   "metadata": {},
   "outputs": [
    {
     "name": "stdout",
     "output_type": "stream",
     "text": [
      "['ingredi', 'get', 'harder', 'harder', 'find', 'expensive', 'th', 'last', 'bottl', 'found', '1', '10', 'size', '1', '2', 'price', 'thank', 'you']\n"
     ]
    }
   ],
   "source": [
    "## Split each text row into words for test data\n",
    "sent_split_test=[sent.split() for sent in Test_data['CleanedText'].values]\n",
    "print(sent_split_test[0])"
   ]
  },
  {
   "cell_type": "code",
   "execution_count": 42,
   "metadata": {},
   "outputs": [
    {
     "name": "stdout",
     "output_type": "stream",
     "text": [
      "[-0.21278598 -0.04094665 -0.05528239 -0.11327226 -0.70508126 -0.09158412\n",
      "  0.19070062 -0.01884494 -0.13528853  0.73725942  0.48150643 -0.50242352\n",
      "  0.71782864 -0.65615754 -0.54473841 -0.58591975 -0.51819316 -0.17975949\n",
      "  0.16770733  0.20157985 -0.39195612 -0.6232702   0.2944977  -0.24431774\n",
      "  0.16763766 -0.04704335 -0.21272596  0.62193771  0.15621722 -0.0375582\n",
      "  0.40095529  0.25448149  0.52664429  0.39802628  0.20205752  0.81332998\n",
      "  0.87904     0.05811206  0.35853625  0.10330404 -0.63893384  0.19123873\n",
      "  0.0478396  -0.37278706 -0.305197    0.56215076  0.73727349  0.06203579\n",
      "  0.33860495 -0.00320454]\n"
     ]
    }
   ],
   "source": [
    "avg_vectors_test=AvgWord2Vec(sent_split_test)\n",
    "print(avg_vectors_test[0])"
   ]
  },
  {
   "cell_type": "markdown",
   "metadata": {},
   "source": [
    "#### Finding Optimal value of K"
   ]
  },
  {
   "cell_type": "code",
   "execution_count": 43,
   "metadata": {},
   "outputs": [
    {
     "name": "stdout",
     "output_type": "stream",
     "text": [
      "\n",
      "The optimal number of neighbors is 21.\n"
     ]
    }
   ],
   "source": [
    "# KNN on Train data \n",
    "## Find best value of K using 10 fold CV\n",
    "w2v_k_list=list(range(0,50))\n",
    "w2v_K_odd=[k for k in w2v_k_list if k%2 !=0]\n",
    "w2v_cv_scores=[]\n",
    "for k in w2v_K_odd:\n",
    "    w2v_KNN=neighbors.KNeighborsClassifier(k)\n",
    "    w2v_scores = cross_val_score(w2v_KNN, avg_vectors_train, Y_train_Polarity, cv=10, scoring='accuracy')\n",
    "    w2v_cv_scores.append(w2v_scores.mean())\n",
    "\n",
    "w2v_misclassification_rate=[1-r for r in w2v_cv_scores]\n",
    "# determining best k\n",
    "w2v_optimal_k = w2v_K_odd[w2v_misclassification_rate.index(min(w2v_misclassification_rate))]\n",
    "print('\\nThe optimal number of neighbors is %d.' % w2v_optimal_k)"
   ]
  },
  {
   "cell_type": "code",
   "execution_count": 44,
   "metadata": {},
   "outputs": [
    {
     "data": {
      "image/png": "[encoded data removed]",
      "text/plain": [
       "<Figure size 432x288 with 1 Axes>"
      ]
     },
     "metadata": {},
     "output_type": "display_data"
    },
    {
     "name": "stdout",
     "output_type": "stream",
     "text": [
      "the misclassification error for each k value is :  [0.16557 0.13651 0.12841 0.12494 0.12269 0.1226  0.12214 0.12159 0.1219\n",
      " 0.12183 0.12146 0.12189 0.1224  0.12267 0.1227  0.12264 0.12247 0.1227\n",
      " 0.12337 0.12353 0.12356 0.12343 0.12364 0.12406 0.1242 ]\n"
     ]
    }
   ],
   "source": [
    "plt.plot(w2v_K_odd, w2v_misclassification_rate)\n",
    "plt.xlabel('Number of Neighbors K')\n",
    "plt.ylabel('Misclassification Error')\n",
    "plt.show()\n",
    "\n",
    "print(\"the misclassification error for each k value is : \", np.round(w2v_misclassification_rate,5))"
   ]
  },
  {
   "cell_type": "markdown",
   "metadata": {},
   "source": [
    "#### Check Test Accuracy"
   ]
  },
  {
   "cell_type": "code",
   "execution_count": 45,
   "metadata": {},
   "outputs": [
    {
     "data": {
      "text/plain": [
       "KNeighborsClassifier(algorithm='auto', leaf_size=30, metric='minkowski',\n",
       "           metric_params=None, n_jobs=1, n_neighbors=21, p=2,\n",
       "           weights='uniform')"
      ]
     },
     "execution_count": 45,
     "metadata": {},
     "output_type": "execute_result"
    }
   ],
   "source": [
    "w2v_KNN=neighbors.KNeighborsClassifier(n_neighbors=w2v_optimal_k)\n",
    "w2v_KNN.fit(avg_vectors_train,Y_train_Polarity)"
   ]
  },
  {
   "cell_type": "code",
   "execution_count": 46,
   "metadata": {},
   "outputs": [],
   "source": [
    "Test_Predict_w2v=w2v_KNN.predict(avg_vectors_test)"
   ]
  },
  {
   "cell_type": "code",
   "execution_count": 47,
   "metadata": {},
   "outputs": [
    {
     "name": "stdout",
     "output_type": "stream",
     "text": [
      "\n",
      "The accuracy of the knn classifier for k = 21 is 85.866667%\n"
     ]
    }
   ],
   "source": [
    "Test_acc_w2v = accuracy_score(Test_data['Score'].values, Test_Predict_w2v) * 100\n",
    "print('\\nThe accuracy of the knn classifier for k = %d is %f%%' % (w2v_optimal_k, Test_acc_w2v))"
   ]
  },
  {
   "cell_type": "markdown",
   "metadata": {},
   "source": [
    "* Accuracy of avg Word2Vec model is better than BOW and TF-IDF model."
   ]
  },
  {
   "cell_type": "markdown",
   "metadata": {},
   "source": [
    "## KNN With TF-IDF Weighted Word2Vec"
   ]
  },
  {
   "cell_type": "markdown",
   "metadata": {},
   "source": [
    "#### Creating tf-idf weighted word vectors"
   ]
  },
  {
   "cell_type": "code",
   "execution_count": 21,
   "metadata": {},
   "outputs": [
    {
     "name": "stdout",
     "output_type": "stream",
     "text": [
      "some sample features(unique words in the corpus) ['00', '000', '0000', '00001', '000013', '0001', '000111052bulk', '0001bottl', '0002251337', '000dave', '000iuvit', '000kwh', '000mg', '000su', '001', '00100', '005', '0069615', '00703', '00704', '0099', '00dollar', '00for', '00gr', '00i', '00that', '00z', '01', '0100', '013', '01317', '01318', '017', '02', '022', '025', '025913', '026220', '028', '02th', '03', '0300', '031', '032', '03510', '035273', '037', '038', '039', '03jan12', '04', '040', '042', '044000025298', '04472700', '045', '0472066978', '0475', '048', '04830', '04oz', '05', '050', '050oz', '051', '05140', '052', '055', '05manganese2mgchromium5mcgpotassium11mgcholin', '06', '0610', '0625', '0631', '0688', '06oz', '07', '07003and', '07003fyi', '0738551856', '08', '080', '0810', '085', '089', '08m07c0', '09', '090', '0947', '095', '097', '09follow', '0carb', '0check', '0cholesterol', '0clock', '0g', '0g12', '0g5', '0gcholest', '0gcholesterol']\n"
     ]
    }
   ],
   "source": [
    "## Generate TF-IDF features using the TF Vectorizer that we used in KNN TF-IDF\n",
    "\n",
    "features = tf_idf_vect.get_feature_names()\n",
    "print(\"some sample features(unique words in the corpus)\",features[0:100])"
   ]
  },
  {
   "cell_type": "code",
   "execution_count": 22,
   "metadata": {},
   "outputs": [],
   "source": [
    "## Clean '-' from sentences\n",
    "import re\n",
    "def clean_wrd(wrd):\n",
    "    cleanhash=re.compile('-')\n",
    "    cleanwrd=re.sub(cleanhash,'',wrd)\n",
    "    return cleanwrd"
   ]
  },
  {
   "cell_type": "code",
   "execution_count": 23,
   "metadata": {},
   "outputs": [],
   "source": [
    "def AvgWord2Vectfidf(sent_split,tf_idf_counts):\n",
    "    '''\n",
    "    This function takes the sentences from the text and tf idf counts and computes tf idf weighted word vectors.\n",
    "    input:\n",
    "    sent_split :List of input sentences split into words for each row of text and tf idf counts\n",
    "    output:\n",
    "    tf_idf_sent_vectors: List of tf idf weighted word vectors of dimension 50\n",
    "    '''\n",
    "    tf_idf_sent_vectors=[]\n",
    "    for sent in sent_split:\n",
    "        sent_vect=np.zeros(50)\n",
    "        weight_sum=0\n",
    "        for word in sent:\n",
    "            word=clean_wrd(word)\n",
    "            if word in w2v_words_train:\n",
    "                word_vec=w2vModel.wv[word]\n",
    "                try:\n",
    "                    tf_idf = tf_idf_counts[row, features.index(word)]\n",
    "                    sent_vec += (word_vec * tf_idf)\n",
    "                    weight_sum += tf_idf\n",
    "                except:\n",
    "                    continue\n",
    "        if weight_sum != 0:\n",
    "            sent_vect/=weight_sum\n",
    "        tf_idf_sent_vectors.append(sent_vect)\n",
    "    return(tf_idf_sent_vectors)\n",
    "            "
   ]
  },
  {
   "cell_type": "code",
   "execution_count": 24,
   "metadata": {},
   "outputs": [],
   "source": [
    "tf_idf_vectors_train=AvgWord2Vectfidf(sent_split_train,tf_idf_train_counts)"
   ]
  },
  {
   "cell_type": "code",
   "execution_count": 25,
   "metadata": {},
   "outputs": [
    {
     "name": "stdout",
     "output_type": "stream",
     "text": [
      "70000\n"
     ]
    }
   ],
   "source": [
    "print(len(tf_idf_vectors_train))"
   ]
  },
  {
   "cell_type": "code",
   "execution_count": 26,
   "metadata": {},
   "outputs": [
    {
     "name": "stdout",
     "output_type": "stream",
     "text": [
      "30000\n"
     ]
    }
   ],
   "source": [
    "tf_idf_vectors_test=AvgWord2Vectfidf(sent_split_test,tf_idf_test_counts)\n",
    "print(len(tf_idf_vectors_test))"
   ]
  },
  {
   "cell_type": "markdown",
   "metadata": {},
   "source": [
    "#### Finding Optimal K value"
   ]
  },
  {
   "cell_type": "code",
   "execution_count": 34,
   "metadata": {},
   "outputs": [
    {
     "name": "stdout",
     "output_type": "stream",
     "text": [
      "\n",
      "The optimal number of neighbors is 1.\n"
     ]
    }
   ],
   "source": [
    "# KNN on Train data \n",
    "## Find best value of K using 10 fold CV\n",
    "w2v1_k_list=list(range(0,50))\n",
    "w2v1_K_odd=[k for k in w2v1_k_list if k%2 !=0]\n",
    "w2v1_cv_scores=[]\n",
    "for k in w2v1_K_odd:\n",
    "    w2v1_KNN=neighbors.KNeighborsClassifier(k)\n",
    "    w2v1_scores = cross_val_score(w2v1_KNN, tf_idf_vectors_train, Y_train_Polarity, cv=10, scoring='accuracy')\n",
    "    w2v1_cv_scores.append(w2v1_scores.mean())\n",
    "\n",
    "w2v1_misclassification_rate=[1-r for r in w2v1_cv_scores]\n",
    "# determining best k\n",
    "tf_idf_w2v_optimal_k = w2v1_K_odd[w2v1_misclassification_rate.index(min(w2v1_misclassification_rate))]\n",
    "print('\\nThe optimal number of neighbors is %d.' % tf_idf_w2v_optimal_k)"
   ]
  },
  {
   "cell_type": "code",
   "execution_count": 35,
   "metadata": {},
   "outputs": [
    {
     "data": {
      "image/png": "[encoded data removed]",
      "text/plain": [
       "<Figure size 432x288 with 1 Axes>"
      ]
     },
     "metadata": {},
     "output_type": "display_data"
    },
    {
     "name": "stdout",
     "output_type": "stream",
     "text": [
      "the misclassification error for each k value is :  [0.14689 0.14689 0.14689 0.14689 0.14689 0.14689 0.14689 0.14689 0.14689\n",
      " 0.14689 0.14689 0.14689 0.14689 0.14689 0.14689 0.14689 0.14689 0.14689\n",
      " 0.14689 0.14689 0.14689 0.14689 0.14689 0.14689 0.14689]\n"
     ]
    }
   ],
   "source": [
    "plt.plot(w2v1_K_odd, w2v1_misclassification_rate)\n",
    "plt.xlabel('Number of Neighbors K')\n",
    "plt.ylabel('Misclassification Error')\n",
    "plt.show()\n",
    "\n",
    "print(\"the misclassification error for each k value is : \", np.round(w2v1_misclassification_rate,5))"
   ]
  },
  {
   "cell_type": "markdown",
   "metadata": {},
   "source": [
    "* Strangely the error rate for all K is same"
   ]
  },
  {
   "cell_type": "markdown",
   "metadata": {},
   "source": [
    "#### Check Test Accuracy"
   ]
  },
  {
   "cell_type": "code",
   "execution_count": 36,
   "metadata": {},
   "outputs": [
    {
     "data": {
      "text/plain": [
       "KNeighborsClassifier(algorithm='auto', leaf_size=30, metric='minkowski',\n",
       "           metric_params=None, n_jobs=1, n_neighbors=1, p=2,\n",
       "           weights='uniform')"
      ]
     },
     "execution_count": 36,
     "metadata": {},
     "output_type": "execute_result"
    }
   ],
   "source": [
    "w2v_tfidf_KNN=neighbors.KNeighborsClassifier(n_neighbors=tf_idf_w2v_optimal_k)\n",
    "w2v_tfidf_KNN.fit(tf_idf_vectors_train,Y_train_Polarity)"
   ]
  },
  {
   "cell_type": "code",
   "execution_count": 37,
   "metadata": {},
   "outputs": [],
   "source": [
    "Test_Predict_w2v_tf_idf=w2v_tfidf_KNN.predict(tf_idf_vectors_test)"
   ]
  },
  {
   "cell_type": "code",
   "execution_count": 38,
   "metadata": {},
   "outputs": [
    {
     "name": "stdout",
     "output_type": "stream",
     "text": [
      "\n",
      "The accuracy of the knn classifier for k = 1 is 82.320000%\n"
     ]
    }
   ],
   "source": [
    "Test_acc_w2v_tf_idf = accuracy_score(Test_data['Score'].values, Test_Predict_w2v_tf_idf) * 100\n",
    "print('\\nThe accuracy of the knn classifier for k = %d is %f%%' % (tf_idf_w2v_optimal_k, Test_acc_w2v_tf_idf))"
   ]
  },
  {
   "cell_type": "markdown",
   "metadata": {},
   "source": [
    "* The accuracy with tf-idf weighted KNN with K=1 is less than that of BOW,tf-idf and w2v"
   ]
  },
  {
   "cell_type": "code",
   "execution_count": null,
   "metadata": {},
   "outputs": [],
   "source": []
  }
 ],
 "metadata": {
  "kernelspec": {
   "display_name": "Python 3",
   "language": "python",
   "name": "python3"
  },
  "language_info": {
   "codemirror_mode": {
    "name": "ipython",
    "version": 3
   },
   "file_extension": ".py",
   "mimetype": "text/x-python",
   "name": "python",
   "nbconvert_exporter": "python",
   "pygments_lexer": "ipython3",
   "version": "3.6.5"
  }
 },
 "nbformat": 4,
 "nbformat_minor": 2
}
