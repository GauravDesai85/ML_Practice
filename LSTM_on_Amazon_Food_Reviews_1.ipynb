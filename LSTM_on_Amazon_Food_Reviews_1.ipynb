{
 "cells": [
  {
   "cell_type": "code",
   "execution_count": 2,
   "metadata": {
    "colab": {
     "base_uri": "https://localhost:8080/",
     "height": 34
    },
    "colab_type": "code",
    "id": "6zAerrvP4-oB",
    "outputId": "b2b63823-bb0a-4c7c-c8e2-827fbd01c9df"
   },
   "outputs": [
    {
     "name": "stderr",
     "output_type": "stream",
     "text": [
      "Using TensorFlow backend.\n"
     ]
    }
   ],
   "source": [
    "import numpy as np\n",
    "import pandas as pd\n",
    "from keras.models import Sequential\n",
    "from keras.layers import Dense\n",
    "from keras.layers import LSTM\n",
    "from keras.layers.embeddings import Embedding\n",
    "from keras.preprocessing import sequence\n",
    "# fix random seed for reproducibility\n",
    "np.random.seed(7)"
   ]
  },
  {
   "cell_type": "code",
   "execution_count": 0,
   "metadata": {
    "colab": {},
    "colab_type": "code",
    "id": "9XwU_APHu8JE"
   },
   "outputs": [],
   "source": [
    "%matplotlib inline\n",
    "import warnings\n",
    "warnings.filterwarnings(\"ignore\")\n",
    "import matplotlib as mpl\n",
    "import matplotlib.pyplot as plt\n",
    "import time\n",
    "# https://gist.github.com/greydanus/f6eee59eaf1d90fcb3b534a25362cea4\n",
    "# https://stackoverflow.com/a/14434334\n",
    "# this function is used to update the plots for each epoch and error\n",
    "def plt_dynamic(x, vy, ty, ax, colors=['b']):\n",
    "    ax.plot(x, vy, 'b', label=\"Validation Loss\")\n",
    "    ax.plot(x, ty, 'r', label=\"Train Loss\")\n",
    "    plt.legend()\n",
    "    plt.grid()\n",
    "    #plt.show()\n",
    "    fig.canvas.draw()"
   ]
  },
  {
   "cell_type": "code",
   "execution_count": 4,
   "metadata": {
    "colab": {
     "base_uri": "https://localhost:8080/",
     "height": 230
    },
    "colab_type": "code",
    "id": "IbgCYj6nvcZH",
    "outputId": "cc865efa-2e4a-4339-fbff-6d83624619bf"
   },
   "outputs": [
    {
     "name": "stdout",
     "output_type": "stream",
     "text": [
      "\u001b[?25l\r",
      "\u001b[K    1% |▎                               | 10kB 19.5MB/s eta 0:00:01\r",
      "\u001b[K    2% |▋                               | 20kB 1.8MB/s eta 0:00:01\r",
      "\u001b[K    3% |█                               | 30kB 2.7MB/s eta 0:00:01\r",
      "\u001b[K    4% |█▎                              | 40kB 1.8MB/s eta 0:00:01\r",
      "\u001b[K    5% |█▋                              | 51kB 2.2MB/s eta 0:00:01\r",
      "\u001b[K    6% |██                              | 61kB 2.6MB/s eta 0:00:01\r",
      "\u001b[K    7% |██▎                             | 71kB 3.0MB/s eta 0:00:01\r",
      "\u001b[K    8% |██▋                             | 81kB 3.4MB/s eta 0:00:01\r",
      "\u001b[K    9% |███                             | 92kB 3.8MB/s eta 0:00:01\r",
      "\u001b[K    10% |███▎                            | 102kB 2.9MB/s eta 0:00:01\r",
      "\u001b[K    11% |███▋                            | 112kB 2.9MB/s eta 0:00:01\r",
      "\u001b[K    12% |████                            | 122kB 4.1MB/s eta 0:00:01\r",
      "\u001b[K    13% |████▎                           | 133kB 4.0MB/s eta 0:00:01\r",
      "\u001b[K    14% |████▋                           | 143kB 7.6MB/s eta 0:00:01\r",
      "\u001b[K    15% |█████                           | 153kB 7.6MB/s eta 0:00:01\r",
      "\u001b[K    16% |█████▎                          | 163kB 7.6MB/s eta 0:00:01\r",
      "\u001b[K    17% |█████▋                          | 174kB 7.6MB/s eta 0:00:01\r",
      "\u001b[K    18% |██████                          | 184kB 7.6MB/s eta 0:00:01\r",
      "\u001b[K    19% |██████▎                         | 194kB 7.6MB/s eta 0:00:01\r",
      "\u001b[K    20% |██████▋                         | 204kB 37.0MB/s eta 0:00:01\r",
      "\u001b[K    21% |███████                         | 215kB 8.5MB/s eta 0:00:01\r",
      "\u001b[K    22% |███████▎                        | 225kB 8.6MB/s eta 0:00:01\r",
      "\u001b[K    23% |███████▋                        | 235kB 8.6MB/s eta 0:00:01\r",
      "\u001b[K    24% |████████                        | 245kB 8.5MB/s eta 0:00:01\r",
      "\u001b[K    25% |████████▎                       | 256kB 8.5MB/s eta 0:00:01\r",
      "\u001b[K    26% |████████▋                       | 266kB 8.4MB/s eta 0:00:01\r",
      "\u001b[K    27% |█████████                       | 276kB 8.4MB/s eta 0:00:01\r",
      "\u001b[K    29% |█████████▎                      | 286kB 8.4MB/s eta 0:00:01\r",
      "\u001b[K    30% |█████████▋                      | 296kB 8.4MB/s eta 0:00:01\r",
      "\u001b[K    31% |██████████                      | 307kB 8.5MB/s eta 0:00:01\r",
      "\u001b[K    32% |██████████▎                     | 317kB 38.2MB/s eta 0:00:01\r",
      "\u001b[K    33% |██████████▋                     | 327kB 8.7MB/s eta 0:00:01\r",
      "\u001b[K    34% |███████████                     | 337kB 8.8MB/s eta 0:00:01\r",
      "\u001b[K    35% |███████████▎                    | 348kB 8.5MB/s eta 0:00:01\r",
      "\u001b[K    36% |███████████▋                    | 358kB 8.5MB/s eta 0:00:01\r",
      "\u001b[K    37% |████████████                    | 368kB 8.7MB/s eta 0:00:01\r",
      "\u001b[K    38% |████████████▎                   | 378kB 8.7MB/s eta 0:00:01\r",
      "\u001b[K    39% |████████████▋                   | 389kB 8.9MB/s eta 0:00:01\r",
      "\u001b[K    40% |█████████████                   | 399kB 8.9MB/s eta 0:00:01\r",
      "\u001b[K    41% |█████████████▎                  | 409kB 9.0MB/s eta 0:00:01\r",
      "\u001b[K    42% |█████████████▋                  | 419kB 9.0MB/s eta 0:00:01\r",
      "\u001b[K    43% |██████████████                  | 430kB 49.8MB/s eta 0:00:01\r",
      "\u001b[K    44% |██████████████▎                 | 440kB 49.3MB/s eta 0:00:01\r",
      "\u001b[K    45% |██████████████▋                 | 450kB 58.6MB/s eta 0:00:01\r",
      "\u001b[K    46% |███████████████                 | 460kB 57.0MB/s eta 0:00:01\r",
      "\u001b[K    47% |███████████████▎                | 471kB 57.8MB/s eta 0:00:01\r",
      "\u001b[K    48% |███████████████▋                | 481kB 58.2MB/s eta 0:00:01\r",
      "\u001b[K    49% |████████████████                | 491kB 56.0MB/s eta 0:00:01\r",
      "\u001b[K    50% |████████████████▎               | 501kB 57.7MB/s eta 0:00:01\r",
      "\u001b[K    51% |████████████████▋               | 512kB 9.5MB/s eta 0:00:01\r",
      "\u001b[K    52% |█████████████████               | 522kB 9.4MB/s eta 0:00:01\r",
      "\u001b[K    53% |█████████████████▎              | 532kB 9.4MB/s eta 0:00:01\r",
      "\u001b[K    54% |█████████████████▋              | 542kB 9.4MB/s eta 0:00:01\r",
      "\u001b[K    55% |██████████████████              | 552kB 9.5MB/s eta 0:00:01\r",
      "\u001b[K    57% |██████████████████▎             | 563kB 9.5MB/s eta 0:00:01\r",
      "\u001b[K    58% |██████████████████▋             | 573kB 9.5MB/s eta 0:00:01\r",
      "\u001b[K    59% |███████████████████             | 583kB 9.5MB/s eta 0:00:01\r",
      "\u001b[K    60% |███████████████████▎            | 593kB 9.5MB/s eta 0:00:01\r",
      "\u001b[K    61% |███████████████████▋            | 604kB 9.5MB/s eta 0:00:01\r",
      "\u001b[K    62% |████████████████████            | 614kB 57.6MB/s eta 0:00:01\r",
      "\u001b[K    63% |████████████████████▎           | 624kB 61.1MB/s eta 0:00:01\r",
      "\u001b[K    64% |████████████████████▋           | 634kB 61.9MB/s eta 0:00:01\r",
      "\u001b[K    65% |█████████████████████           | 645kB 63.8MB/s eta 0:00:01\r",
      "\u001b[K    66% |█████████████████████▎          | 655kB 64.0MB/s eta 0:00:01\r",
      "\u001b[K    67% |█████████████████████▋          | 665kB 47.6MB/s eta 0:00:01\r",
      "\u001b[K    68% |██████████████████████          | 675kB 47.3MB/s eta 0:00:01\r",
      "\u001b[K    69% |██████████████████████▎         | 686kB 47.9MB/s eta 0:00:01\r",
      "\u001b[K    70% |██████████████████████▋         | 696kB 47.4MB/s eta 0:00:01\r",
      "\u001b[K    71% |███████████████████████         | 706kB 46.6MB/s eta 0:00:01\r",
      "\u001b[K    72% |███████████████████████▎        | 716kB 45.6MB/s eta 0:00:01\r",
      "\u001b[K    73% |███████████████████████▋        | 727kB 45.8MB/s eta 0:00:01\r",
      "\u001b[K    74% |████████████████████████        | 737kB 45.0MB/s eta 0:00:01\r",
      "\u001b[K    75% |████████████████████████▎       | 747kB 45.7MB/s eta 0:00:01\r",
      "\u001b[K    76% |████████████████████████▋       | 757kB 45.5MB/s eta 0:00:01\r",
      "\u001b[K    77% |████████████████████████▉       | 768kB 58.5MB/s eta 0:00:01\r",
      "\u001b[K    78% |█████████████████████████▏      | 778kB 59.1MB/s eta 0:00:01\r",
      "\u001b[K    79% |█████████████████████████▌      | 788kB 56.7MB/s eta 0:00:01\r",
      "\u001b[K    80% |█████████████████████████▉      | 798kB 57.1MB/s eta 0:00:01\r",
      "\u001b[K    81% |██████████████████████████▏     | 808kB 55.9MB/s eta 0:00:01\r",
      "\u001b[K    82% |██████████████████████████▌     | 819kB 56.6MB/s eta 0:00:01\r",
      "\u001b[K    83% |██████████████████████████▉     | 829kB 56.9MB/s eta 0:00:01\r",
      "\u001b[K    85% |███████████████████████████▏    | 839kB 57.8MB/s eta 0:00:01\r",
      "\u001b[K    86% |███████████████████████████▌    | 849kB 56.5MB/s eta 0:00:01\r",
      "\u001b[K    87% |███████████████████████████▉    | 860kB 50.5MB/s eta 0:00:01\r",
      "\u001b[K    88% |████████████████████████████▏   | 870kB 50.6MB/s eta 0:00:01\r",
      "\u001b[K    89% |████████████████████████████▌   | 880kB 49.5MB/s eta 0:00:01\r",
      "\u001b[K    90% |████████████████████████████▉   | 890kB 50.7MB/s eta 0:00:01\r",
      "\u001b[K    91% |█████████████████████████████▏  | 901kB 51.1MB/s eta 0:00:01\r",
      "\u001b[K    92% |█████████████████████████████▌  | 911kB 53.0MB/s eta 0:00:01\r",
      "\u001b[K    93% |█████████████████████████████▉  | 921kB 53.3MB/s eta 0:00:01\r",
      "\u001b[K    94% |██████████████████████████████▏ | 931kB 53.4MB/s eta 0:00:01\r",
      "\u001b[K    95% |██████████████████████████████▌ | 942kB 54.0MB/s eta 0:00:01\r",
      "\u001b[K    96% |██████████████████████████████▉ | 952kB 54.6MB/s eta 0:00:01\r",
      "\u001b[K    97% |███████████████████████████████▏| 962kB 60.6MB/s eta 0:00:01\r",
      "\u001b[K    98% |███████████████████████████████▌| 972kB 62.9MB/s eta 0:00:01\r",
      "\u001b[K    99% |███████████████████████████████▉| 983kB 64.9MB/s eta 0:00:01\r",
      "\u001b[K    100% |████████████████████████████████| 993kB 21.8MB/s \n",
      "\u001b[?25h  Building wheel for PyDrive (setup.py) ... \u001b[?25ldone\n",
      "\u001b[?25h"
     ]
    },
    {
     "name": "stderr",
     "output_type": "stream",
     "text": [
      "IOPub data rate exceeded.\n",
      "The notebook server will temporarily stop sending output\n",
      "to the client in order to avoid crashing it.\n",
      "To change this limit, set the config variable\n",
      "`--NotebookApp.iopub_data_rate_limit`.\n",
      "\n",
      "Current values:\n",
      "NotebookApp.iopub_data_rate_limit=1000000.0 (bytes/sec)\n",
      "NotebookApp.rate_limit_window=3.0 (secs)\n",
      "\n"
     ]
    }
   ],
   "source": [
    "# Install the PyDrive wrapper & import libraries.\n",
    "# This only needs to be done once per notebook.\n",
    "!pip install -U -q PyDrive\n",
    "from pydrive.auth import GoogleAuth\n",
    "from pydrive.drive import GoogleDrive\n",
    "from google.colab import auth\n",
    "from oauth2client.client import GoogleCredentials\n",
    "\n",
    "# Authenticate and create the PyDrive client.\n",
    "# This only needs to be done once per notebook.\n",
    "auth.authenticate_user()\n",
    "gauth = GoogleAuth()\n",
    "gauth.credentials = GoogleCredentials.get_application_default()\n",
    "drive = GoogleDrive(gauth)\n",
    "\n",
    "# Download a file based on its file ID.\n",
    "#https://drive.google.com/open?id=1rSXDPBolZnP5F0aWQdAGACwV-kZZXFbK\n",
    "# A file ID looks like: laggVyWshwcyP6kEI-y_W3P8D26sz\n",
    "file_id = '1rSXDPBolZnP5F0aWQdAGACwV-kZZXFbK'\n",
    "downloaded = drive.CreateFile({'id': file_id})\n",
    "print('Downloaded content \"{}\"'.format(downloaded.GetContentString()))"
   ]
  },
  {
   "cell_type": "code",
   "execution_count": 0,
   "metadata": {
    "colab": {},
    "colab_type": "code",
    "id": "0CPRPHGtwO3S"
   },
   "outputs": [],
   "source": [
    "downloaded.GetContentFile('processed_reviews.csv')"
   ]
  },
  {
   "cell_type": "code",
   "execution_count": 6,
   "metadata": {
    "colab": {
     "base_uri": "https://localhost:8080/",
     "height": 125
    },
    "colab_type": "code",
    "id": "Yt-jwKig2IV-",
    "outputId": "9ac4d094-1c10-45b7-f9e3-0623d582df5e"
   },
   "outputs": [
    {
     "name": "stdout",
     "output_type": "stream",
     "text": [
      "Go to this URL in a browser: https://accounts.google.com/o/oauth2/auth?client_id=947318989803-6bn6qk8qdgf4n4g3pfee6491hc0brc4i.apps.googleusercontent.com&redirect_uri=urn%3Aietf%3Awg%3Aoauth%3A2.0%3Aoob&scope=email%20https%3A%2F%2Fwww.googleapis.com%2Fauth%2Fdocs.test%20https%3A%2F%2Fwww.googleapis.com%2Fauth%2Fdrive%20https%3A%2F%2Fwww.googleapis.com%2Fauth%2Fdrive.photos.readonly%20https%3A%2F%2Fwww.googleapis.com%2Fauth%2Fpeopleapi.readonly&response_type=code\n",
      "\n",
      "Enter your authorization code:\n",
      "··········\n",
      "Mounted at /content/gdrive\n"
     ]
    }
   ],
   "source": [
    "from google.colab import drive \n",
    "drive.mount('/content/gdrive')"
   ]
  },
  {
   "cell_type": "code",
   "execution_count": 7,
   "metadata": {
    "colab": {
     "base_uri": "https://localhost:8080/",
     "height": 197
    },
    "colab_type": "code",
    "id": "3SydUCVP1dkS",
    "outputId": "c1a6aaa9-6ac4-4db8-8a19-358518dbdbce"
   },
   "outputs": [
    {
     "data": {
      "text/html": [
       "<div>\n",
       "<style scoped>\n",
       "    .dataframe tbody tr th:only-of-type {\n",
       "        vertical-align: middle;\n",
       "    }\n",
       "\n",
       "    .dataframe tbody tr th {\n",
       "        vertical-align: top;\n",
       "    }\n",
       "\n",
       "    .dataframe thead th {\n",
       "        text-align: right;\n",
       "    }\n",
       "</style>\n",
       "<table border=\"1\" class=\"dataframe\">\n",
       "  <thead>\n",
       "    <tr style=\"text-align: right;\">\n",
       "      <th></th>\n",
       "      <th>processed_reviews</th>\n",
       "      <th>score</th>\n",
       "    </tr>\n",
       "  </thead>\n",
       "  <tbody>\n",
       "    <tr>\n",
       "      <th>0</th>\n",
       "      <td>dogs love saw pet store tag attached regarding...</td>\n",
       "      <td>1</td>\n",
       "    </tr>\n",
       "    <tr>\n",
       "      <th>1</th>\n",
       "      <td>dogs loves chicken product china wont buying a...</td>\n",
       "      <td>0</td>\n",
       "    </tr>\n",
       "    <tr>\n",
       "      <th>2</th>\n",
       "      <td>bought local hardware store terrible fly probl...</td>\n",
       "      <td>0</td>\n",
       "    </tr>\n",
       "    <tr>\n",
       "      <th>3</th>\n",
       "      <td>many flies house product weeks stuck fly thus far</td>\n",
       "      <td>0</td>\n",
       "    </tr>\n",
       "    <tr>\n",
       "      <th>4</th>\n",
       "      <td>time spent waiting order fly traps arrive went...</td>\n",
       "      <td>0</td>\n",
       "    </tr>\n",
       "  </tbody>\n",
       "</table>\n",
       "</div>"
      ],
      "text/plain": [
       "                                   processed_reviews  score\n",
       "0  dogs love saw pet store tag attached regarding...      1\n",
       "1  dogs loves chicken product china wont buying a...      0\n",
       "2  bought local hardware store terrible fly probl...      0\n",
       "3  many flies house product weeks stuck fly thus far      0\n",
       "4  time spent waiting order fly traps arrive went...      0"
      ]
     },
     "execution_count": 7,
     "metadata": {
      "tags": []
     },
     "output_type": "execute_result"
    }
   ],
   "source": [
    "reviews_df=pd.read_csv('processed_reviews.csv')\n",
    "reviews_df.head()"
   ]
  },
  {
   "cell_type": "code",
   "execution_count": 0,
   "metadata": {
    "colab": {},
    "colab_type": "code",
    "id": "MRPAJmsQx2q1"
   },
   "outputs": [],
   "source": [
    "reviews_df=reviews_df[reviews_df['processed_reviews']!='']"
   ]
  },
  {
   "cell_type": "code",
   "execution_count": 9,
   "metadata": {
    "colab": {
     "base_uri": "https://localhost:8080/",
     "height": 47
    },
    "colab_type": "code",
    "id": "v4XzdsgSyQyl",
    "outputId": "3a0f2da9-5b1f-488a-fecf-795000c20db8"
   },
   "outputs": [
    {
     "data": {
      "text/html": [
       "<div>\n",
       "<style scoped>\n",
       "    .dataframe tbody tr th:only-of-type {\n",
       "        vertical-align: middle;\n",
       "    }\n",
       "\n",
       "    .dataframe tbody tr th {\n",
       "        vertical-align: top;\n",
       "    }\n",
       "\n",
       "    .dataframe thead th {\n",
       "        text-align: right;\n",
       "    }\n",
       "</style>\n",
       "<table border=\"1\" class=\"dataframe\">\n",
       "  <thead>\n",
       "    <tr style=\"text-align: right;\">\n",
       "      <th></th>\n",
       "      <th>processed_reviews</th>\n",
       "      <th>score</th>\n",
       "    </tr>\n",
       "  </thead>\n",
       "  <tbody>\n",
       "  </tbody>\n",
       "</table>\n",
       "</div>"
      ],
      "text/plain": [
       "Empty DataFrame\n",
       "Columns: [processed_reviews, score]\n",
       "Index: []"
      ]
     },
     "execution_count": 9,
     "metadata": {
      "tags": []
     },
     "output_type": "execute_result"
    }
   ],
   "source": [
    "reviews_df[reviews_df['processed_reviews']=='']"
   ]
  },
  {
   "cell_type": "code",
   "execution_count": 0,
   "metadata": {
    "colab": {},
    "colab_type": "code",
    "id": "XZOilOXm0ZV2"
   },
   "outputs": [],
   "source": [
    "reviews_df=reviews_df.dropna()"
   ]
  },
  {
   "cell_type": "code",
   "execution_count": 11,
   "metadata": {
    "colab": {
     "base_uri": "https://localhost:8080/",
     "height": 34
    },
    "colab_type": "code",
    "id": "1AQHXQFf0we_",
    "outputId": "fa1c079c-8d30-4d7f-9272-7e5423b2ee8b"
   },
   "outputs": [
    {
     "data": {
      "text/plain": [
       "103655"
      ]
     },
     "execution_count": 11,
     "metadata": {
      "tags": []
     },
     "output_type": "execute_result"
    }
   ],
   "source": [
    "len(reviews_df)"
   ]
  },
  {
   "cell_type": "code",
   "execution_count": 0,
   "metadata": {
    "colab": {},
    "colab_type": "code",
    "id": "9o7MMNbe17ZR"
   },
   "outputs": [],
   "source": [
    "# Create vocabulary\n",
    "\n",
    "all_text=''.join(reviews_df.processed_reviews.astype('str'))"
   ]
  },
  {
   "cell_type": "code",
   "execution_count": 0,
   "metadata": {
    "colab": {},
    "colab_type": "code",
    "id": "RZBVsHTbx1wM"
   },
   "outputs": [],
   "source": [
    "# Find most common words\n",
    "from collections import Counter\n",
    "most_common_words=Counter(all_text.split()).most_common(40000)"
   ]
  },
  {
   "cell_type": "code",
   "execution_count": 14,
   "metadata": {
    "colab": {
     "base_uri": "https://localhost:8080/",
     "height": 194
    },
    "colab_type": "code",
    "id": "SQw0jqyrhpy2",
    "outputId": "c61f3cbb-d323-4bcc-fdc3-ea6f458bc419"
   },
   "outputs": [
    {
     "data": {
      "text/plain": [
       "[('not', 106111),\n",
       " ('like', 43181),\n",
       " ('good', 33199),\n",
       " ('one', 29911),\n",
       " ('taste', 29391),\n",
       " ('would', 27773),\n",
       " ('great', 27218),\n",
       " ('coffee', 25984),\n",
       " ('flavor', 24201),\n",
       " ('product', 23496)]"
      ]
     },
     "execution_count": 14,
     "metadata": {
      "tags": []
     },
     "output_type": "execute_result"
    }
   ],
   "source": [
    "most_common_words[:10]"
   ]
  },
  {
   "cell_type": "code",
   "execution_count": 0,
   "metadata": {
    "colab": {},
    "colab_type": "code",
    "id": "4dm6KjYqhy4H"
   },
   "outputs": [],
   "source": [
    "words,counts=list(zip(*most_common_words))"
   ]
  },
  {
   "cell_type": "code",
   "execution_count": 0,
   "metadata": {
    "colab": {},
    "colab_type": "code",
    "id": "P6tMGoX0mgL0"
   },
   "outputs": [],
   "source": [
    "#convert words to index\n",
    "\n",
    "from collections import defaultdict"
   ]
  },
  {
   "cell_type": "code",
   "execution_count": 0,
   "metadata": {
    "colab": {},
    "colab_type": "code",
    "id": "iEzSJwKcMgW9"
   },
   "outputs": [],
   "source": [
    "def wrd_to_idx(words):\n",
    "  word_to_idx=defaultdict(int)\n",
    "  for i in range(len(words)):\n",
    "    word_to_idx[words[i]]=i+1\n",
    "   \n",
    "  return word_to_idx"
   ]
  },
  {
   "cell_type": "code",
   "execution_count": 0,
   "metadata": {
    "colab": {},
    "colab_type": "code",
    "id": "JN1zoacqpYXF"
   },
   "outputs": [],
   "source": [
    "word_to_idx=wrd_to_idx(words)"
   ]
  },
  {
   "cell_type": "code",
   "execution_count": 19,
   "metadata": {
    "colab": {
     "base_uri": "https://localhost:8080/",
     "height": 34
    },
    "colab_type": "code",
    "id": "-mYwhmVjig9R",
    "outputId": "f267216e-0fde-446b-c5a1-bf157db7a134"
   },
   "outputs": [
    {
     "data": {
      "text/plain": [
       "85"
      ]
     },
     "execution_count": 19,
     "metadata": {
      "tags": []
     },
     "output_type": "execute_result"
    }
   ],
   "source": [
    "word_to_idx['dogs']"
   ]
  },
  {
   "cell_type": "code",
   "execution_count": 0,
   "metadata": {
    "colab": {},
    "colab_type": "code",
    "id": "MyNOuoK-y0RS"
   },
   "outputs": [],
   "source": [
    "#convert index to word\n",
    "def idx_to_wrd(words):\n",
    "  idx_to_wrd=defaultdict(str)\n",
    "  \n",
    "  for i in range(len(words)):\n",
    "    idx_to_wrd[i+1]=words[i]\n",
    "   \n",
    "  return idx_to_wrd"
   ]
  },
  {
   "cell_type": "code",
   "execution_count": 0,
   "metadata": {
    "colab": {},
    "colab_type": "code",
    "id": "c-9sI4d9YVtf"
   },
   "outputs": [],
   "source": [
    "idx_to_word=idx_to_wrd(words)"
   ]
  },
  {
   "cell_type": "code",
   "execution_count": 22,
   "metadata": {
    "colab": {
     "base_uri": "https://localhost:8080/",
     "height": 34
    },
    "colab_type": "code",
    "id": "uxigyY7HYrCI",
    "outputId": "d6da427d-9017-4717-9312-a56d1e545501"
   },
   "outputs": [
    {
     "data": {
      "text/plain": [
       "'not'"
      ]
     },
     "execution_count": 22,
     "metadata": {
      "tags": []
     },
     "output_type": "execute_result"
    }
   ],
   "source": [
    "idx_to_word[1]"
   ]
  },
  {
   "cell_type": "code",
   "execution_count": 23,
   "metadata": {
    "colab": {
     "base_uri": "https://localhost:8080/",
     "height": 232
    },
    "colab_type": "code",
    "id": "eMl543M5YtRP",
    "outputId": "0cc5be06-475e-4d4e-8b08-f60bf9d99af8"
   },
   "outputs": [
    {
     "data": {
      "text/plain": [
       "array(['dogs love saw pet store tag attached regarding made china satisfied safe',\n",
       "       'dogs loves chicken product china wont buying anymore hard find chicken products made usa one isnt bad good product wont take chances till know going china imports',\n",
       "       'bought local hardware store terrible fly problem trapped one fly year still hanging still one fly buy product',\n",
       "       'many flies house product weeks stuck fly thus far',\n",
       "       'time spent waiting order fly traps arrive went bought regular fly ribbon bad fly problem not sure kind flies slightly bigger fruit flies least week one fly traps caught zero flies fly trap caught probably flies regular fly ribbon one point even saw fly fly trap thought caught gone even pictures prove',\n",
       "       'happy item many flies disturbing kitchen put product near window works fantastically',\n",
       "       'hundreds common house flies hours not single one caught resorted fly swatter killed hours old fly swatter fly trap appears useless',\n",
       "       'thing item trapped fruit flies not work fly trap would not recommend',\n",
       "       'nurturing plant work well decided repot larger pot must gotten funky soil soon repotted overrun large colony small flies swatting getting bug guts hand frequently stopped bothering gross exclamations fact city san francisco compost aggravated situation bought one nitfy traps set plant voila instead hands getting daily dose bug guts trap lined tiny suckers months trap pretty much covered gross part need order another one not sure well work larger inserts works really well tiny annoying flies',\n",
       "       'placed around house several days setup fly attracting trap vicinity literally watched flies avoid trap days excited see one lil bugger land surface disappointed approached examine flew away paper tacky pressure human finger applied small flies hardly trap'],\n",
       "      dtype=object)"
      ]
     },
     "execution_count": 23,
     "metadata": {
      "tags": []
     },
     "output_type": "execute_result"
    }
   ],
   "source": [
    "## Convert the text reviews into the respective indexes \n",
    "\n",
    "reviews=reviews_df['processed_reviews'].values\n",
    "reviews[:10]"
   ]
  },
  {
   "cell_type": "code",
   "execution_count": 0,
   "metadata": {
    "colab": {},
    "colab_type": "code",
    "id": "oBxaUqfTmCHZ"
   },
   "outputs": [],
   "source": [
    "reviews_idx=[[word_to_idx[wrd] for wrd in sent.split() if wrd in words] for sent in reviews]"
   ]
  },
  {
   "cell_type": "code",
   "execution_count": 25,
   "metadata": {
    "colab": {
     "base_uri": "https://localhost:8080/",
     "height": 514
    },
    "colab_type": "code",
    "id": "hnHWQsTfp9nH",
    "outputId": "403ac48f-15dd-4420-e783-e018e7295c2d"
   },
   "outputs": [
    {
     "data": {
      "text/plain": [
       "[[85, 15, 500, 433, 53, 3473, 3263, 2625, 44, 868, 907, 1051],\n",
       " [85,\n",
       "  77,\n",
       "  128,\n",
       "  10,\n",
       "  868,\n",
       "  1958,\n",
       "  142,\n",
       "  783,\n",
       "  120,\n",
       "  25,\n",
       "  128,\n",
       "  105,\n",
       "  44,\n",
       "  1175,\n",
       "  4,\n",
       "  3698,\n",
       "  116,\n",
       "  3,\n",
       "  10,\n",
       "  1958,\n",
       "  132,\n",
       "  4513,\n",
       "  1989,\n",
       "  61,\n",
       "  140,\n",
       "  868,\n",
       "  8030]]"
      ]
     },
     "execution_count": 25,
     "metadata": {
      "tags": []
     },
     "output_type": "execute_result"
    }
   ],
   "source": [
    "(reviews_idx[:2])"
   ]
  },
  {
   "cell_type": "code",
   "execution_count": 0,
   "metadata": {
    "colab": {},
    "colab_type": "code",
    "id": "0ljqVzP91-aW"
   },
   "outputs": [],
   "source": [
    "# Split data into train and test\n",
    "X_train=reviews_idx[:90000]\n",
    "X_test=reviews_idx[90000:]\n",
    "y_train=reviews_df.score[:90000]\n",
    "y_test=reviews_df.score[90000:]"
   ]
  },
  {
   "cell_type": "code",
   "execution_count": 27,
   "metadata": {
    "colab": {
     "base_uri": "https://localhost:8080/",
     "height": 70
    },
    "colab_type": "code",
    "id": "fixaQ5oW3ePS",
    "outputId": "717cfdb9-3609-4d2b-b6b4-e10917d619bf"
   },
   "outputs": [
    {
     "name": "stdout",
     "output_type": "stream",
     "text": [
      "[85, 77, 128, 10, 868, 1958, 142, 783, 120, 25, 128, 105, 44, 1175, 4, 3698, 116, 3, 10, 1958, 132, 4513, 1989, 61, 140, 868, 8030]\n",
      "<class 'list'>\n",
      "27\n"
     ]
    }
   ],
   "source": [
    "print(X_train[1])\n",
    "print(type(X_train[1]))\n",
    "print(len(X_train[1]))"
   ]
  },
  {
   "cell_type": "code",
   "execution_count": 28,
   "metadata": {
    "colab": {
     "base_uri": "https://localhost:8080/",
     "height": 34
    },
    "colab_type": "code",
    "id": "4NepqTTQOilL",
    "outputId": "efc1634d-924d-4af1-9886-4d78ad29c040"
   },
   "outputs": [
    {
     "data": {
      "text/plain": [
       "920"
      ]
     },
     "execution_count": 28,
     "metadata": {
      "tags": []
     },
     "output_type": "execute_result"
    }
   ],
   "source": [
    "l=[len(x) for x in X_train]\n",
    "max(l)"
   ]
  },
  {
   "cell_type": "code",
   "execution_count": 33,
   "metadata": {
    "colab": {
     "base_uri": "https://localhost:8080/",
     "height": 34
    },
    "colab_type": "code",
    "id": "uV90U9sgN-JK",
    "outputId": "c341fd0d-590b-40f7-e39d-833bb59334c4"
   },
   "outputs": [
    {
     "data": {
      "text/plain": [
       "39.083133333333336"
      ]
     },
     "execution_count": 33,
     "metadata": {
      "tags": []
     },
     "output_type": "execute_result"
    }
   ],
   "source": [
    "np.mean(l)"
   ]
  },
  {
   "cell_type": "code",
   "execution_count": 73,
   "metadata": {
    "colab": {
     "base_uri": "https://localhost:8080/",
     "height": 176
    },
    "colab_type": "code",
    "id": "ckoHIYXq479I",
    "outputId": "d1ab97f1-fdaa-42f6-da2f-b48d06e62972"
   },
   "outputs": [
    {
     "name": "stdout",
     "output_type": "stream",
     "text": [
      "(90000, 100)\n",
      "[   0    0    0    0    0    0    0    0    0    0    0    0    0    0\n",
      "    0    0    0    0    0    0    0    0    0    0    0    0    0    0\n",
      "    0    0    0    0    0    0    0    0    0    0    0    0    0    0\n",
      "    0    0    0    0    0    0    0    0    0    0    0    0    0    0\n",
      "    0    0    0    0    0    0    0    0    0    0    0    0    0    0\n",
      "    0    0    0   85   77  128   10  868 1958  142  783  120   25  128\n",
      "  105   44 1175    4 3698  116    3   10 1958  132 4513 1989   61  140\n",
      "  868 8030]\n"
     ]
    }
   ],
   "source": [
    "# truncate and/or pad input sequences\n",
    "max_review_length = 100\n",
    "X_train = sequence.pad_sequences(X_train, maxlen=max_review_length)\n",
    "X_test = sequence.pad_sequences(X_test, maxlen=max_review_length)\n",
    "\n",
    "print(X_train.shape)\n",
    "print(X_train[1])"
   ]
  },
  {
   "cell_type": "code",
   "execution_count": 74,
   "metadata": {
    "colab": {
     "base_uri": "https://localhost:8080/",
     "height": 176
    },
    "colab_type": "code",
    "id": "0eBhFzU19EJR",
    "outputId": "300aa9ea-c23a-416b-b937-e844470a097e"
   },
   "outputs": [
    {
     "name": "stdout",
     "output_type": "stream",
     "text": [
      "[    0     0     0     0     0     0     0     0     0     0     0     0\n",
      "     0     0     0     0     0     0     0     0     0     0     0     0\n",
      "     0     0     0     0     0     0     0     0     0     0     0     0\n",
      "     0     0     0     0     0     0     0     0     0     0     0     0\n",
      "     0     0   438   125  1196  1334    28  2794   203   414   109  3541\n",
      "  1463  2696    16     1    33  1251     2   898    33    63    12    57\n",
      "   638  4323    96   109     1   105  2102  1196   371  4421    28    93\n",
      "   638     1   556     1  3372    10   472    25 13829 20805     6     1\n",
      "    21   433 10281   296]\n"
     ]
    }
   ],
   "source": [
    "print(X_train[5000])"
   ]
  },
  {
   "cell_type": "markdown",
   "metadata": {
    "colab_type": "text",
    "id": "m7UwktK5Azry"
   },
   "source": [
    "# 1 layer LSTM model"
   ]
  },
  {
   "cell_type": "code",
   "execution_count": 75,
   "metadata": {
    "colab": {
     "base_uri": "https://localhost:8080/",
     "height": 265
    },
    "colab_type": "code",
    "id": "x52DquZI5IE_",
    "outputId": "5d8b609e-a906-4783-8536-b5561674d9be"
   },
   "outputs": [
    {
     "name": "stdout",
     "output_type": "stream",
     "text": [
      "_________________________________________________________________\n",
      "Layer (type)                 Output Shape              Param #   \n",
      "=================================================================\n",
      "embedding_12 (Embedding)     (None, 100, 100)          3000000   \n",
      "_________________________________________________________________\n",
      "lstm_12 (LSTM)               (None, 100)               80400     \n",
      "_________________________________________________________________\n",
      "dense_12 (Dense)             (None, 1)                 101       \n",
      "=================================================================\n",
      "Total params: 3,080,501\n",
      "Trainable params: 3,080,501\n",
      "Non-trainable params: 0\n",
      "_________________________________________________________________\n",
      "None\n"
     ]
    }
   ],
   "source": [
    "# create the model\n",
    "top_words=30000\n",
    "embedding_vecor_length = 100\n",
    "model = Sequential()\n",
    "model.add(Embedding(top_words, embedding_vecor_length, input_length=max_review_length))\n",
    "model.add(LSTM(100))\n",
    "model.add(Dense(1, activation='sigmoid'))\n",
    "model.compile(loss='binary_crossentropy', optimizer='adam', metrics=['accuracy'])\n",
    "print(model.summary())\n",
    "#Refer: https://datascience.stackexchange.com/questions/10615/number-of-parameters-in-an-lstm-model"
   ]
  },
  {
   "cell_type": "code",
   "execution_count": 0,
   "metadata": {
    "colab": {
     "base_uri": "https://localhost:8080/",
     "height": 481
    },
    "colab_type": "code",
    "id": "iSwFNWIe53H5",
    "outputId": "4684d530-f248-40eb-dcbb-0e42c07fe723"
   },
   "outputs": [
    {
     "name": "stdout",
     "output_type": "stream",
     "text": [
      "WARNING:tensorflow:From /usr/local/lib/python3.6/dist-packages/tensorflow/python/ops/math_ops.py:3066: to_int32 (from tensorflow.python.ops.math_ops) is deprecated and will be removed in a future version.\n",
      "Instructions for updating:\n",
      "Use tf.cast instead.\n",
      "Train on 80000 samples, validate on 23655 samples\n",
      "Epoch 1/10\n",
      "80000/80000 [==============================] - 580s 7ms/step - loss: 0.2374 - acc: 0.9060 - val_loss: 0.2098 - val_acc: 0.9138\n",
      "Epoch 2/10\n",
      "80000/80000 [==============================] - 573s 7ms/step - loss: 0.1581 - acc: 0.9395 - val_loss: 0.2091 - val_acc: 0.9180\n",
      "Epoch 3/10\n",
      "80000/80000 [==============================] - 571s 7ms/step - loss: 0.1220 - acc: 0.9548 - val_loss: 0.2308 - val_acc: 0.9155\n",
      "Epoch 4/10\n",
      "80000/80000 [==============================] - 578s 7ms/step - loss: 0.0949 - acc: 0.9658 - val_loss: 0.2322 - val_acc: 0.9144\n",
      "Epoch 5/10\n",
      "80000/80000 [==============================] - 577s 7ms/step - loss: 0.0747 - acc: 0.9734 - val_loss: 0.2528 - val_acc: 0.9086\n",
      "Epoch 6/10\n",
      "80000/80000 [==============================] - 577s 7ms/step - loss: 0.0573 - acc: 0.9801 - val_loss: 0.3391 - val_acc: 0.9077\n",
      "Epoch 7/10\n",
      "80000/80000 [==============================] - 571s 7ms/step - loss: 0.0451 - acc: 0.9843 - val_loss: 0.3085 - val_acc: 0.9080\n",
      "Epoch 8/10\n",
      "80000/80000 [==============================] - 575s 7ms/step - loss: 0.0343 - acc: 0.9883 - val_loss: 0.3804 - val_acc: 0.9095\n",
      "Epoch 9/10\n",
      "80000/80000 [==============================] - 575s 7ms/step - loss: 0.0235 - acc: 0.9921 - val_loss: 0.4815 - val_acc: 0.9089\n",
      "Epoch 10/10\n",
      "80000/80000 [==============================] - 580s 7ms/step - loss: 0.0198 - acc: 0.9934 - val_loss: 0.5186 - val_acc: 0.8996\n",
      "Accuracy: 89.96%\n"
     ]
    }
   ],
   "source": [
    "history=model.fit(X_train, y_train, nb_epoch=10, batch_size=64,validation_data=(X_test,y_test))\n",
    "# Final evaluation of the model\n",
    "scores = model.evaluate(X_test, y_test, verbose=0)\n",
    "print(\"Accuracy: %.2f%%\" % (scores[1]*100))"
   ]
  },
  {
   "cell_type": "markdown",
   "metadata": {
    "colab_type": "text",
    "id": "Z6Q0qEzQBG1f"
   },
   "source": [
    "Test accuracy of model is 90.52 %"
   ]
  },
  {
   "cell_type": "code",
   "execution_count": 0,
   "metadata": {
    "colab": {
     "base_uri": "https://localhost:8080/",
     "height": 282
    },
    "colab_type": "code",
    "id": "ufkAmjBK6sfW",
    "outputId": "7e71f05f-c995-467d-87ae-9b6a477b2854"
   },
   "outputs": [
    {
     "data": {
      "image/png": "[encoded data removed]",
      "text/plain": [
       "<Figure size 432x288 with 1 Axes>"
      ]
     },
     "metadata": {
      "tags": []
     },
     "output_type": "display_data"
    }
   ],
   "source": [
    "fig,ax = plt.subplots(1,1)\n",
    "ax.set_xlabel('epoch') ; ax.set_ylabel('Categorical Crossentropy Loss')\n",
    "\n",
    "# list of epoch numbers\n",
    "x = list(range(1,10+1))\n",
    "vy = history.history['val_loss']\n",
    "ty = history.history['loss']\n",
    "plt_dynamic(x, vy, ty, ax)"
   ]
  },
  {
   "cell_type": "markdown",
   "metadata": {
    "colab_type": "text",
    "id": "qxL31T7G9He-"
   },
   "source": [
    "We see that, test loss is diverging from the train loss. Thus , our model is heavily overfitted. Let us try to reduce the overfitting. by using dropout and less no of LSTM cells"
   ]
  },
  {
   "cell_type": "markdown",
   "metadata": {
    "colab_type": "text",
    "id": "u5sYLa4rv4jY"
   },
   "source": [
    "# 1 Layer LSTM with Dropout (Variational RNN)"
   ]
  },
  {
   "cell_type": "code",
   "execution_count": 76,
   "metadata": {
    "colab": {
     "base_uri": "https://localhost:8080/",
     "height": 301
    },
    "colab_type": "code",
    "id": "6oF01HDDv10S",
    "outputId": "56415640-cbf7-478b-fcec-4a68f0e064dd"
   },
   "outputs": [
    {
     "name": "stdout",
     "output_type": "stream",
     "text": [
      "_________________________________________________________________\n",
      "Layer (type)                 Output Shape              Param #   \n",
      "=================================================================\n",
      "embedding_13 (Embedding)     (None, 100, 100)          4000000   \n",
      "_________________________________________________________________\n",
      "lstm_13 (LSTM)               (None, 128)               117248    \n",
      "_________________________________________________________________\n",
      "dropout_9 (Dropout)          (None, 128)               0         \n",
      "_________________________________________________________________\n",
      "dense_13 (Dense)             (None, 1)                 129       \n",
      "=================================================================\n",
      "Total params: 4,117,377\n",
      "Trainable params: 4,117,377\n",
      "Non-trainable params: 0\n",
      "_________________________________________________________________\n",
      "None\n"
     ]
    }
   ],
   "source": [
    "# create the model\n",
    "top_words=40000\n",
    "embedding_vecor_length = 100\n",
    "model = Sequential()\n",
    "model.add(Embedding(top_words, embedding_vecor_length, input_length=max_review_length))\n",
    "#model.add(LSTM(64,dropout=0.6, recurrent_dropout=0.6))\n",
    "model.add(LSTM(128))\n",
    "model.add(Dropout(0.2))\n",
    "model.add(Dense(1, activation='sigmoid'))\n",
    "model.compile(loss='binary_crossentropy', optimizer='sgd', metrics=['accuracy'])\n",
    "print(model.summary())\n",
    "#Refer: https://datascience.stackexchange.com/questions/10615/number-of-parameters-in-an-lstm-model"
   ]
  },
  {
   "cell_type": "code",
   "execution_count": 77,
   "metadata": {
    "colab": {
     "base_uri": "https://localhost:8080/",
     "height": 941
    },
    "colab_type": "code",
    "id": "l_yI5z25-cH2",
    "outputId": "d88e578b-06ca-426a-c5a4-2ddb2511a7ce"
   },
   "outputs": [
    {
     "name": "stdout",
     "output_type": "stream",
     "text": [
      "Train on 90000 samples, validate on 13655 samples\n",
      "Epoch 1/25\n",
      "90000/90000 [==============================] - 46s 515us/step - loss: 0.5481 - acc: 0.8377 - val_loss: 0.4743 - val_acc: 0.8349\n",
      "Epoch 2/25\n",
      "90000/90000 [==============================] - 43s 478us/step - loss: 0.4500 - acc: 0.8402 - val_loss: 0.4489 - val_acc: 0.8349\n",
      "Epoch 3/25\n",
      "90000/90000 [==============================] - 43s 479us/step - loss: 0.4401 - acc: 0.8402 - val_loss: 0.4478 - val_acc: 0.8349\n",
      "Epoch 4/25\n",
      "90000/90000 [==============================] - 43s 479us/step - loss: 0.4395 - acc: 0.8402 - val_loss: 0.4477 - val_acc: 0.8349\n",
      "Epoch 5/25\n",
      "90000/90000 [==============================] - 43s 474us/step - loss: 0.4395 - acc: 0.8402 - val_loss: 0.4477 - val_acc: 0.8349\n",
      "Epoch 6/25\n",
      "90000/90000 [==============================] - 42s 470us/step - loss: 0.4392 - acc: 0.8402 - val_loss: 0.4476 - val_acc: 0.8349\n",
      "Epoch 7/25\n",
      "90000/90000 [==============================] - 43s 474us/step - loss: 0.4393 - acc: 0.8402 - val_loss: 0.4476 - val_acc: 0.8349\n",
      "Epoch 8/25\n",
      "90000/90000 [==============================] - 43s 474us/step - loss: 0.4392 - acc: 0.8402 - val_loss: 0.4475 - val_acc: 0.8349\n",
      "Epoch 9/25\n",
      "90000/90000 [==============================] - 44s 483us/step - loss: 0.4392 - acc: 0.8402 - val_loss: 0.4474 - val_acc: 0.8349\n",
      "Epoch 10/25\n",
      "90000/90000 [==============================] - 44s 485us/step - loss: 0.4392 - acc: 0.8402 - val_loss: 0.4473 - val_acc: 0.8349\n",
      "Epoch 11/25\n",
      "90000/90000 [==============================] - 44s 484us/step - loss: 0.4390 - acc: 0.8402 - val_loss: 0.4472 - val_acc: 0.8349\n",
      "Epoch 12/25\n",
      "90000/90000 [==============================] - 43s 479us/step - loss: 0.4391 - acc: 0.8402 - val_loss: 0.4472 - val_acc: 0.8349\n",
      "Epoch 13/25\n",
      "90000/90000 [==============================] - 43s 476us/step - loss: 0.4387 - acc: 0.8402 - val_loss: 0.4471 - val_acc: 0.8349\n",
      "Epoch 14/25\n",
      "90000/90000 [==============================] - 43s 480us/step - loss: 0.4388 - acc: 0.8402 - val_loss: 0.4470 - val_acc: 0.8349\n",
      "Epoch 15/25\n",
      "90000/90000 [==============================] - 43s 479us/step - loss: 0.4389 - acc: 0.8402 - val_loss: 0.4469 - val_acc: 0.8349\n",
      "Epoch 16/25\n",
      "90000/90000 [==============================] - 43s 480us/step - loss: 0.4387 - acc: 0.8402 - val_loss: 0.4468 - val_acc: 0.8349\n",
      "Epoch 17/25\n",
      "90000/90000 [==============================] - 43s 477us/step - loss: 0.4387 - acc: 0.8402 - val_loss: 0.4467 - val_acc: 0.8349\n",
      "Epoch 18/25\n",
      "90000/90000 [==============================] - 43s 480us/step - loss: 0.4385 - acc: 0.8402 - val_loss: 0.4466 - val_acc: 0.8349\n",
      "Epoch 19/25\n",
      "90000/90000 [==============================] - 43s 478us/step - loss: 0.4384 - acc: 0.8402 - val_loss: 0.4465 - val_acc: 0.8349\n",
      "Epoch 20/25\n",
      "90000/90000 [==============================] - 43s 476us/step - loss: 0.4383 - acc: 0.8402 - val_loss: 0.4464 - val_acc: 0.8349\n",
      "Epoch 21/25\n",
      "90000/90000 [==============================] - 43s 480us/step - loss: 0.4382 - acc: 0.8402 - val_loss: 0.4463 - val_acc: 0.8349\n",
      "Epoch 22/25\n",
      "90000/90000 [==============================] - 43s 483us/step - loss: 0.4381 - acc: 0.8402 - val_loss: 0.4462 - val_acc: 0.8349\n",
      "Epoch 23/25\n",
      "90000/90000 [==============================] - 43s 478us/step - loss: 0.4380 - acc: 0.8402 - val_loss: 0.4461 - val_acc: 0.8349\n",
      "Epoch 24/25\n",
      "90000/90000 [==============================] - 43s 477us/step - loss: 0.4378 - acc: 0.8402 - val_loss: 0.4460 - val_acc: 0.8349\n",
      "Epoch 25/25\n",
      "90000/90000 [==============================] - 43s 476us/step - loss: 0.4378 - acc: 0.8402 - val_loss: 0.4458 - val_acc: 0.8349\n",
      "Accuracy: 83.49%\n"
     ]
    }
   ],
   "source": [
    "history=model.fit(X_train, y_train, nb_epoch=25, batch_size=512,validation_data=(X_test,y_test))\n",
    "# Final evaluation of the model\n",
    "scores = model.evaluate(X_test, y_test, verbose=0)\n",
    "print(\"Accuracy: %.2f%%\" % (scores[1]*100))"
   ]
  },
  {
   "cell_type": "code",
   "execution_count": 78,
   "metadata": {
    "colab": {
     "base_uri": "https://localhost:8080/",
     "height": 282
    },
    "colab_type": "code",
    "id": "UJyHFhte-cpe",
    "outputId": "1f476b96-faac-415b-a12f-9cec5478549e"
   },
   "outputs": [
    {
     "data": {
      "image/png": "[encoded data removed]",
      "text/plain": [
       "<Figure size 432x288 with 1 Axes>"
      ]
     },
     "metadata": {
      "tags": []
     },
     "output_type": "display_data"
    }
   ],
   "source": [
    "fig,ax = plt.subplots(1,1)\n",
    "ax.set_xlabel('epoch') ; ax.set_ylabel('Categorical Crossentropy Loss')\n",
    "\n",
    "# list of epoch numbers\n",
    "x = list(range(1,25+1))\n",
    "vy = history.history['val_loss']\n",
    "ty = history.history['loss']\n",
    "plt_dynamic(x, vy, ty, ax)"
   ]
  },
  {
   "cell_type": "markdown",
   "metadata": {
    "colab_type": "text",
    "id": "HbakNMkwA_f2"
   },
   "source": [
    "# 2 Layer LSTM model"
   ]
  },
  {
   "cell_type": "code",
   "execution_count": 30,
   "metadata": {
    "colab": {
     "base_uri": "https://localhost:8080/",
     "height": 374
    },
    "colab_type": "code",
    "id": "k9eUrJgaBF_9",
    "outputId": "4ebeff55-06ab-4aca-97ab-1f54b5f221b8"
   },
   "outputs": [
    {
     "name": "stdout",
     "output_type": "stream",
     "text": [
      "WARNING:tensorflow:From /usr/local/lib/python3.6/dist-packages/tensorflow/python/framework/op_def_library.py:263: colocate_with (from tensorflow.python.framework.ops) is deprecated and will be removed in a future version.\n",
      "Instructions for updating:\n",
      "Colocations handled automatically by placer.\n",
      "_________________________________________________________________\n",
      "Layer (type)                 Output Shape              Param #   \n",
      "=================================================================\n",
      "embedding_1 (Embedding)      (None, 300, 50)           1500000   \n",
      "_________________________________________________________________\n",
      "lstm_1 (LSTM)                (None, 300, 32)           10624     \n",
      "_________________________________________________________________\n",
      "lstm_2 (LSTM)                (None, 16)                3136      \n",
      "_________________________________________________________________\n",
      "dense_1 (Dense)              (None, 1)                 17        \n",
      "=================================================================\n",
      "Total params: 1,513,777\n",
      "Trainable params: 1,513,777\n",
      "Non-trainable params: 0\n",
      "_________________________________________________________________\n",
      "None\n"
     ]
    }
   ],
   "source": [
    "# create the model\n",
    "top_words=30000\n",
    "embedding_vecor_length = 50\n",
    "model = Sequential()\n",
    "model.add(Embedding(top_words, embedding_vecor_length, input_length=max_review_length))\n",
    "model.add(LSTM(32,return_sequences=True))\n",
    "model.add(LSTM(16))\n",
    "model.add(Dense(1, activation='sigmoid'))\n",
    "model.compile(loss='binary_crossentropy', optimizer='adam', metrics=['accuracy'])\n",
    "print(model.summary())\n",
    "#Refer: https://datascience.stackexchange.com/questions/10615/number-of-parameters-in-an-lstm-model"
   ]
  },
  {
   "cell_type": "code",
   "execution_count": 31,
   "metadata": {
    "colab": {
     "base_uri": "https://localhost:8080/",
     "height": 658
    },
    "colab_type": "code",
    "id": "d8Gfa8LlBm0L",
    "outputId": "cb5de876-348d-4ad9-af68-0bbf8e3afec3"
   },
   "outputs": [
    {
     "name": "stdout",
     "output_type": "stream",
     "text": [
      "WARNING:tensorflow:From /usr/local/lib/python3.6/dist-packages/tensorflow/python/ops/math_ops.py:3066: to_int32 (from tensorflow.python.ops.math_ops) is deprecated and will be removed in a future version.\n",
      "Instructions for updating:\n",
      "Use tf.cast instead.\n",
      "Train on 80000 samples, validate on 23655 samples\n",
      "Epoch 1/15\n",
      "80000/80000 [==============================] - 1136s 14ms/step - loss: 0.2817 - acc: 0.8848 - val_loss: 0.2330 - val_acc: 0.9044\n",
      "Epoch 2/15\n",
      "80000/80000 [==============================] - 1119s 14ms/step - loss: 0.1745 - acc: 0.9327 - val_loss: 0.2172 - val_acc: 0.9163\n",
      "Epoch 3/15\n",
      "80000/80000 [==============================] - 1113s 14ms/step - loss: 0.1413 - acc: 0.9460 - val_loss: 0.2126 - val_acc: 0.9158\n",
      "Epoch 4/15\n",
      "80000/80000 [==============================] - 1107s 14ms/step - loss: 0.1190 - acc: 0.9559 - val_loss: 0.2320 - val_acc: 0.9111\n",
      "Epoch 5/15\n",
      "80000/80000 [==============================] - 1120s 14ms/step - loss: 0.1003 - acc: 0.9638 - val_loss: 0.2643 - val_acc: 0.9074\n",
      "Epoch 6/15\n",
      "80000/80000 [==============================] - 1108s 14ms/step - loss: 0.0819 - acc: 0.9714 - val_loss: 0.2705 - val_acc: 0.9116\n",
      "Epoch 7/15\n",
      "80000/80000 [==============================] - 1102s 14ms/step - loss: 0.0656 - acc: 0.9778 - val_loss: 0.2906 - val_acc: 0.9036\n",
      "Epoch 8/15\n",
      "80000/80000 [==============================] - 1102s 14ms/step - loss: 0.0503 - acc: 0.9835 - val_loss: 0.3327 - val_acc: 0.9066\n",
      "Epoch 9/15\n",
      "80000/80000 [==============================] - 1094s 14ms/step - loss: 0.0409 - acc: 0.9868 - val_loss: 0.3724 - val_acc: 0.9081\n",
      "Epoch 10/15\n",
      "80000/80000 [==============================] - 1094s 14ms/step - loss: 0.0309 - acc: 0.9903 - val_loss: 0.3790 - val_acc: 0.9051\n",
      "Epoch 11/15\n",
      "80000/80000 [==============================] - 1095s 14ms/step - loss: 0.0263 - acc: 0.9916 - val_loss: 0.4628 - val_acc: 0.9004\n",
      "Epoch 12/15\n",
      "80000/80000 [==============================] - 1127s 14ms/step - loss: 0.0199 - acc: 0.9942 - val_loss: 0.4300 - val_acc: 0.9041\n",
      "Epoch 13/15\n",
      "80000/80000 [==============================] - 1120s 14ms/step - loss: 0.0170 - acc: 0.9950 - val_loss: 0.4864 - val_acc: 0.9001\n",
      "Epoch 14/15\n",
      "80000/80000 [==============================] - 1116s 14ms/step - loss: 0.0146 - acc: 0.9957 - val_loss: 0.5255 - val_acc: 0.8975\n",
      "Epoch 15/15\n",
      "80000/80000 [==============================] - 1115s 14ms/step - loss: 0.0110 - acc: 0.9968 - val_loss: 0.5516 - val_acc: 0.8952\n",
      "Accuracy: 89.52%\n"
     ]
    }
   ],
   "source": [
    "history=model.fit(X_train, y_train, nb_epoch=15, batch_size=64,validation_data=(X_test,y_test))\n",
    "# Final evaluation of the model\n",
    "scores = model.evaluate(X_test, y_test, verbose=0)\n",
    "print(\"Accuracy: %.2f%%\" % (scores[1]*100))"
   ]
  },
  {
   "cell_type": "code",
   "execution_count": 33,
   "metadata": {
    "colab": {
     "base_uri": "https://localhost:8080/",
     "height": 282
    },
    "colab_type": "code",
    "id": "nfo6s9N0IoTF",
    "outputId": "6377fffe-fc73-40a1-cc0d-b7a2c8c21a2b"
   },
   "outputs": [
    {
     "data": {
      "image/png": "[encoded data removed]",
      "text/plain": [
       "<Figure size 432x288 with 1 Axes>"
      ]
     },
     "metadata": {
      "tags": []
     },
     "output_type": "display_data"
    }
   ],
   "source": [
    "fig,ax = plt.subplots(1,1)\n",
    "ax.set_xlabel('epoch') ; ax.set_ylabel('Categorical Crossentropy Loss')\n",
    "\n",
    "# list of epoch numbers\n",
    "x = list(range(1,15+1))\n",
    "vy = history.history['val_loss']\n",
    "ty = history.history['loss']\n",
    "plt_dynamic(x, vy, ty, ax)"
   ]
  },
  {
   "cell_type": "code",
   "execution_count": 0,
   "metadata": {
    "colab": {},
    "colab_type": "code",
    "id": "Vw3TRDVogvQX"
   },
   "outputs": [],
   "source": [
    "from keras.layers import  Dropout"
   ]
  },
  {
   "cell_type": "code",
   "execution_count": 79,
   "metadata": {
    "colab": {
     "base_uri": "https://localhost:8080/",
     "height": 372
    },
    "colab_type": "code",
    "id": "k46WZeDiqJL0",
    "outputId": "bf7328c1-4a68-4a2c-9ccd-a71a895cce23"
   },
   "outputs": [
    {
     "name": "stdout",
     "output_type": "stream",
     "text": [
      "_________________________________________________________________\n",
      "Layer (type)                 Output Shape              Param #   \n",
      "=================================================================\n",
      "embedding_14 (Embedding)     (None, 100, 300)          12000000  \n",
      "_________________________________________________________________\n",
      "lstm_14 (LSTM)               (None, 100, 32)           42624     \n",
      "_________________________________________________________________\n",
      "dropout_10 (Dropout)         (None, 100, 32)           0         \n",
      "_________________________________________________________________\n",
      "lstm_15 (LSTM)               (None, 32)                8320      \n",
      "_________________________________________________________________\n",
      "dropout_11 (Dropout)         (None, 32)                0         \n",
      "_________________________________________________________________\n",
      "dense_14 (Dense)             (None, 1)                 33        \n",
      "=================================================================\n",
      "Total params: 12,050,977\n",
      "Trainable params: 12,050,977\n",
      "Non-trainable params: 0\n",
      "_________________________________________________________________\n",
      "None\n"
     ]
    }
   ],
   "source": [
    "# create the model\n",
    "top_words=40000\n",
    "embedding_vecor_length = 300\n",
    "model = Sequential()\n",
    "model.add(Embedding(top_words, embedding_vecor_length, input_length=max_review_length))\n",
    "model.add(LSTM(32,return_sequences=True))\n",
    "model.add(Dropout(0.3))\n",
    "model.add(LSTM(32))\n",
    "model.add(Dropout(0.3))\n",
    "model.add(Dense(1, activation='sigmoid'))\n",
    "model.compile(loss='binary_crossentropy', optimizer='sgd', metrics=['accuracy'])\n",
    "print(model.summary())\n",
    "#Refer: https://datascience.stackexchange.com/questions/10615/number-of-parameters-in-an-lstm-model"
   ]
  },
  {
   "cell_type": "code",
   "execution_count": 80,
   "metadata": {
    "colab": {
     "base_uri": "https://localhost:8080/",
     "height": 941
    },
    "colab_type": "code",
    "id": "gy8EJXuRg4aJ",
    "outputId": "04200869-55fb-4e56-c0b5-444886bd7185"
   },
   "outputs": [
    {
     "name": "stdout",
     "output_type": "stream",
     "text": [
      "Train on 90000 samples, validate on 13655 samples\n",
      "Epoch 1/25\n",
      "90000/90000 [==============================] - 85s 944us/step - loss: 0.5307 - acc: 0.8367 - val_loss: 0.4623 - val_acc: 0.8349\n",
      "Epoch 2/25\n",
      "90000/90000 [==============================] - 80s 889us/step - loss: 0.4474 - acc: 0.8402 - val_loss: 0.4485 - val_acc: 0.8349\n",
      "Epoch 3/25\n",
      "90000/90000 [==============================] - 80s 889us/step - loss: 0.4426 - acc: 0.8402 - val_loss: 0.4481 - val_acc: 0.8349\n",
      "Epoch 4/25\n",
      "90000/90000 [==============================] - 80s 884us/step - loss: 0.4426 - acc: 0.8402 - val_loss: 0.4481 - val_acc: 0.8349\n",
      "Epoch 5/25\n",
      "90000/90000 [==============================] - 79s 873us/step - loss: 0.4425 - acc: 0.8402 - val_loss: 0.4480 - val_acc: 0.8349\n",
      "Epoch 6/25\n",
      "90000/90000 [==============================] - 79s 873us/step - loss: 0.4419 - acc: 0.8402 - val_loss: 0.4479 - val_acc: 0.8349\n",
      "Epoch 7/25\n",
      "90000/90000 [==============================] - 78s 871us/step - loss: 0.4416 - acc: 0.8402 - val_loss: 0.4479 - val_acc: 0.8349\n",
      "Epoch 8/25\n",
      "90000/90000 [==============================] - 79s 877us/step - loss: 0.4419 - acc: 0.8402 - val_loss: 0.4477 - val_acc: 0.8349\n",
      "Epoch 9/25\n",
      "90000/90000 [==============================] - 79s 874us/step - loss: 0.4414 - acc: 0.8402 - val_loss: 0.4477 - val_acc: 0.8349\n",
      "Epoch 10/25\n",
      "90000/90000 [==============================] - 79s 876us/step - loss: 0.4413 - acc: 0.8402 - val_loss: 0.4476 - val_acc: 0.8349\n",
      "Epoch 11/25\n",
      "90000/90000 [==============================] - 79s 877us/step - loss: 0.4414 - acc: 0.8402 - val_loss: 0.4474 - val_acc: 0.8349\n",
      "Epoch 12/25\n",
      "90000/90000 [==============================] - 79s 876us/step - loss: 0.4413 - acc: 0.8402 - val_loss: 0.4473 - val_acc: 0.8349\n",
      "Epoch 13/25\n",
      "90000/90000 [==============================] - 79s 878us/step - loss: 0.4407 - acc: 0.8402 - val_loss: 0.4472 - val_acc: 0.8349\n",
      "Epoch 14/25\n",
      "90000/90000 [==============================] - 79s 876us/step - loss: 0.4411 - acc: 0.8402 - val_loss: 0.4471 - val_acc: 0.8349\n",
      "Epoch 15/25\n",
      "90000/90000 [==============================] - 79s 879us/step - loss: 0.4406 - acc: 0.8402 - val_loss: 0.4470 - val_acc: 0.8349\n",
      "Epoch 16/25\n",
      "90000/90000 [==============================] - 79s 882us/step - loss: 0.4402 - acc: 0.8402 - val_loss: 0.4469 - val_acc: 0.8349\n",
      "Epoch 17/25\n",
      "90000/90000 [==============================] - 79s 882us/step - loss: 0.4402 - acc: 0.8402 - val_loss: 0.4468 - val_acc: 0.8349\n",
      "Epoch 18/25\n",
      "90000/90000 [==============================] - 78s 869us/step - loss: 0.4400 - acc: 0.8402 - val_loss: 0.4466 - val_acc: 0.8349\n",
      "Epoch 19/25\n",
      "90000/90000 [==============================] - 79s 878us/step - loss: 0.4399 - acc: 0.8402 - val_loss: 0.4465 - val_acc: 0.8349\n",
      "Epoch 20/25\n",
      "90000/90000 [==============================] - 80s 893us/step - loss: 0.4396 - acc: 0.8402 - val_loss: 0.4463 - val_acc: 0.8349\n",
      "Epoch 21/25\n",
      "90000/90000 [==============================] - 79s 883us/step - loss: 0.4397 - acc: 0.8402 - val_loss: 0.4462 - val_acc: 0.8349\n",
      "Epoch 22/25\n",
      "90000/90000 [==============================] - 81s 895us/step - loss: 0.4393 - acc: 0.8402 - val_loss: 0.4460 - val_acc: 0.8349\n",
      "Epoch 23/25\n",
      "90000/90000 [==============================] - 80s 884us/step - loss: 0.4393 - acc: 0.8402 - val_loss: 0.4458 - val_acc: 0.8349\n",
      "Epoch 24/25\n",
      "90000/90000 [==============================] - 81s 899us/step - loss: 0.4388 - acc: 0.8402 - val_loss: 0.4456 - val_acc: 0.8349\n",
      "Epoch 25/25\n",
      "90000/90000 [==============================] - 80s 886us/step - loss: 0.4385 - acc: 0.8402 - val_loss: 0.4454 - val_acc: 0.8349\n",
      "Accuracy: 83.49%\n"
     ]
    }
   ],
   "source": [
    "history=model.fit(X_train, y_train, nb_epoch=25, batch_size=512,validation_data=(X_test,y_test))\n",
    "# Final evaluation of the model\n",
    "scores = model.evaluate(X_test, y_test, verbose=0)\n",
    "print(\"Accuracy: %.2f%%\" % (scores[1]*100))"
   ]
  },
  {
   "cell_type": "code",
   "execution_count": 81,
   "metadata": {
    "colab": {
     "base_uri": "https://localhost:8080/",
     "height": 282
    },
    "colab_type": "code",
    "id": "du8M0QcZg-7T",
    "outputId": "dffa8a0f-ff9a-4af8-9187-76d20154884d"
   },
   "outputs": [
    {
     "data": {
      "image/png": "[encoded data removed]",
      "text/plain": [
       "<Figure size 432x288 with 1 Axes>"
      ]
     },
     "metadata": {
      "tags": []
     },
     "output_type": "display_data"
    }
   ],
   "source": [
    "fig,ax = plt.subplots(1,1)\n",
    "ax.set_xlabel('epoch') ; ax.set_ylabel('Categorical Crossentropy Loss')\n",
    "\n",
    "# list of epoch numbers\n",
    "x = list(range(1,25+1))\n",
    "vy = history.history['val_loss']\n",
    "ty = history.history['loss']\n",
    "plt_dynamic(x, vy, ty, ax)"
   ]
  },
  {
   "cell_type": "code",
   "execution_count": 1,
   "metadata": {
    "colab": {},
    "colab_type": "code",
    "id": "D_9OAy7gm3Mg"
   },
   "outputs": [
    {
     "name": "stdout",
     "output_type": "stream",
     "text": [
      "+--------+-------+-----------+---------+---------------+\n",
      "| Layers | Model | Optimiser | Dropout | Test Accuracy |\n",
      "+--------+-------+-----------+---------+---------------+\n",
      "|   1    |  LSTM |    adam   |    -    |     90.52%    |\n",
      "|   1    |  LSTM |    sgd    |   0.2   |     83.49%    |\n",
      "|   2    |  LSTM |    adam   |    -    |     88.88%    |\n",
      "|   2    |  LSTM |    sgd    |   0.3   |     83.49%    |\n",
      "+--------+-------+-----------+---------+---------------+\n"
     ]
    }
   ],
   "source": [
    "from prettytable import PrettyTable\n",
    "    \n",
    "x = PrettyTable()\n",
    "\n",
    "x.field_names = [\"Layers\",'Model','Optimiser','Dropout',\"Test Accuracy\"]\n",
    "x.add_row([\"1\",\"LSTM\",'adam','-', \"90.52%\"])\n",
    "x.add_row([\"1\",\"LSTM\",'sgd',0.2, \"83.49%\"])\n",
    "x.add_row([\"2\",\"LSTM\",'adam','-', \"88.88%\"])\n",
    "x.add_row([\"2\",\"LSTM\",'sgd',0.3, \"83.49%\"])\n",
    "print(x)"
   ]
  },
  {
   "cell_type": "markdown",
   "metadata": {},
   "source": [
    " We see that models with adam optimiser and without dropout have high accuracy but overfit a lot, whereas models with sgd optimiser and dropout have low accuracy but do not overfit."
   ]
  },
  {
   "cell_type": "markdown",
   "metadata": {},
   "source": [
    "Steps we followed for data processing and model creation:\n",
    "\n",
    "* Get 100k preprocessed reviews and put them in a csv along with the sentiment.\n",
    "* Upload the reviews csv to colab and use it in colab for modelling.\n",
    "* Get the most common words in the processed reviews.\n",
    "* Create a vocab of most common words by converting words into integers.\n",
    "* Convert the reviews into sequence of integers using the vocab.\n",
    "* Use the sequence as input to our LSTM model as embedding layer.\n",
    "* Run a 1 layer and a 2 Layer LSTM model.\n",
    "* Check accuracy of our models."
   ]
  },
  {
   "cell_type": "code",
   "execution_count": null,
   "metadata": {},
   "outputs": [],
   "source": []
  }
 ],
 "metadata": {
  "accelerator": "GPU",
  "colab": {
   "collapsed_sections": [],
   "name": "LSTM on Amazon Food Reviews.ipynb",
   "provenance": [],
   "version": "0.3.2"
  },
  "kernelspec": {
   "display_name": "Python 3",
   "language": "python",
   "name": "python3"
  },
  "language_info": {
   "codemirror_mode": {
    "name": "ipython",
    "version": 3
   },
   "file_extension": ".py",
   "mimetype": "text/x-python",
   "name": "python",
   "nbconvert_exporter": "python",
   "pygments_lexer": "ipython3",
   "version": "3.6.5"
  }
 },
 "nbformat": 4,
 "nbformat_minor": 1
}
