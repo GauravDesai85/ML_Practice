{
 "cells": [
  {
   "cell_type": "code",
   "execution_count": 0,
   "metadata": {
    "colab": {},
    "colab_type": "code",
    "id": "KId89uc6gcjk"
   },
   "outputs": [],
   "source": [
    "from keras.utils import np_utils \n",
    "from keras.datasets import mnist \n",
    "import seaborn as sns\n",
    "from keras.initializers import RandomNormal"
   ]
  },
  {
   "cell_type": "code",
   "execution_count": 0,
   "metadata": {
    "colab": {},
    "colab_type": "code",
    "id": "zO-7dQIBh6ML"
   },
   "outputs": [],
   "source": [
    "from __future__ import print_function\n",
    "import keras\n",
    "from keras.datasets import mnist\n",
    "from keras.models import Sequential\n",
    "from keras.layers import Dense, Dropout, Flatten\n",
    "from keras.layers import Conv2D, MaxPooling2D\n",
    "from keras import backend as K"
   ]
  },
  {
   "cell_type": "code",
   "execution_count": 0,
   "metadata": {
    "colab": {},
    "colab_type": "code",
    "id": "1FZEI7zrs_iG"
   },
   "outputs": [],
   "source": [
    "from keras.layers import BatchNormalization\n",
    "from keras.layers import Dropout"
   ]
  },
  {
   "cell_type": "code",
   "execution_count": 0,
   "metadata": {
    "colab": {},
    "colab_type": "code",
    "id": "1ETUlWBMdmjw"
   },
   "outputs": [],
   "source": [
    "%matplotlib inline\n",
    "import warnings\n",
    "warnings.filterwarnings(\"ignore\")\n",
    "import matplotlib as mpl\n",
    "import matplotlib.pyplot as plt\n",
    "import numpy as np\n",
    "import time\n",
    "# https://gist.github.com/greydanus/f6eee59eaf1d90fcb3b534a25362cea4\n",
    "# https://stackoverflow.com/a/14434334\n",
    "# this function is used to update the plots for each epoch and error\n",
    "def plt_dynamic(x, vy, ty, ax, colors=['b']):\n",
    "    ax.plot(x, vy, 'b', label=\"Validation Loss\")\n",
    "    ax.plot(x, ty, 'r', label=\"Train Loss\")\n",
    "    plt.legend()\n",
    "    plt.grid()\n",
    "    #plt.show()\n",
    "    fig.canvas.draw()"
   ]
  },
  {
   "cell_type": "code",
   "execution_count": 0,
   "metadata": {
    "colab": {},
    "colab_type": "code",
    "id": "jPsqDnmReKOz"
   },
   "outputs": [],
   "source": [
    "# the data, shuffled and split between train and test sets \n",
    "(X_train, y_train), (X_test, y_test) = mnist.load_data()"
   ]
  },
  {
   "cell_type": "code",
   "execution_count": 14,
   "metadata": {
    "colab": {
     "base_uri": "https://localhost:8080/",
     "height": 52
    },
    "colab_type": "code",
    "id": "HhrsJkTOexVy",
    "outputId": "a465a3ea-9358-4c45-b0a0-f59dda35335c"
   },
   "outputs": [
    {
     "name": "stdout",
     "output_type": "stream",
     "text": [
      "Number of training examples : 60000 and each image is of shape (28, 28)\n",
      "Number of training examples : 10000 and each image is of shape (28, 28)\n"
     ]
    }
   ],
   "source": [
    "print(\"Number of training examples :\", X_train.shape[0], \"and each image is of shape (%d, %d)\"%(X_train.shape[1], X_train.shape[2]))\n",
    "print(\"Number of training examples :\", X_test.shape[0], \"and each image is of shape (%d, %d)\"%(X_test.shape[1], X_test.shape[2]))"
   ]
  },
  {
   "cell_type": "code",
   "execution_count": 15,
   "metadata": {
    "colab": {
     "base_uri": "https://localhost:8080/",
     "height": 34
    },
    "colab_type": "code",
    "id": "mK_GCFceh_8b",
    "outputId": "358eb6cd-4d1d-47b0-d293-955a916a45c1"
   },
   "outputs": [
    {
     "name": "stdout",
     "output_type": "stream",
     "text": [
      "channels_last\n"
     ]
    }
   ],
   "source": [
    "# input image dimensions\n",
    "print( K.image_data_format())\n",
    "img_rows, img_cols = 28, 28\n",
    "if K.image_data_format() == 'channels_first':\n",
    "    X_train = X_train.reshape(X_train.shape[0], 1, img_rows, img_cols)\n",
    "    X_test = X_test.reshape(X_test.shape[0], 1, img_rows, img_cols)\n",
    "    input_shape = (1, img_rows, img_cols)\n",
    "else:\n",
    "    X_train = X_train.reshape(X_train.shape[0], img_rows, img_cols, 1)\n",
    "    X_test = X_test.reshape(X_test.shape[0], img_rows, img_cols, 1)\n",
    "    input_shape = (img_rows, img_cols, 1)"
   ]
  },
  {
   "cell_type": "code",
   "execution_count": 16,
   "metadata": {
    "colab": {
     "base_uri": "https://localhost:8080/",
     "height": 70
    },
    "colab_type": "code",
    "id": "0_mN0cOcfTk7",
    "outputId": "344c66d0-b4df-4583-c569-5c0611cbaef6"
   },
   "outputs": [
    {
     "name": "stdout",
     "output_type": "stream",
     "text": [
      "x_train shape: (60000, 28, 28, 1)\n",
      "60000 train samples\n",
      "10000 test samples\n"
     ]
    }
   ],
   "source": [
    "# if we observe the above matrix each cell is having a value between 0-255\n",
    "# before we move to apply machine learning algorithms lets try to normalize the data\n",
    "# X => (X - Xmin)/(Xmax-Xmin) = X/255\n",
    "batch_size = 128\n",
    "num_classes = 10\n",
    "epochs = 20\n",
    "\n",
    "X_train = X_train.astype('float32')\n",
    "X_test = X_test.astype('float32')\n",
    "X_train /= 255\n",
    "X_test /= 255\n",
    "print('x_train shape:', X_train.shape)\n",
    "print(X_train.shape[0], 'train samples')\n",
    "print(X_test.shape[0], 'test samples')\n",
    "\n",
    "# convert class vectors to binary class matrices\n",
    "y_train = keras.utils.to_categorical(y_train, num_classes)\n",
    "y_test = keras.utils.to_categorical(y_test, num_classes)"
   ]
  },
  {
   "cell_type": "markdown",
   "metadata": {
    "colab_type": "text",
    "id": "DO3nIwwNjeq6"
   },
   "source": [
    "# 3 Layer Architecture with kernel size 3 * 3"
   ]
  },
  {
   "cell_type": "markdown",
   "metadata": {
    "colab_type": "text",
    "id": "hz9-IhFxu-AX"
   },
   "source": [
    "We try 3 layer convolution with kernel size of 3*3 and also batchnorm and max pooling."
   ]
  },
  {
   "cell_type": "code",
   "execution_count": 0,
   "metadata": {
    "colab": {
     "base_uri": "https://localhost:8080/",
     "height": 781
    },
    "colab_type": "code",
    "id": "xTkMH0Htm34U",
    "outputId": "13600941-8348-4547-f68d-47f3cdae5f4d"
   },
   "outputs": [
    {
     "name": "stdout",
     "output_type": "stream",
     "text": [
      "Train on 60000 samples, validate on 10000 samples\n",
      "Epoch 1/20\n",
      "60000/60000 [==============================] - 20s 339us/step - loss: 0.1501 - acc: 0.9557 - val_loss: 1.8583 - val_acc: 0.6187\n",
      "Epoch 2/20\n",
      "60000/60000 [==============================] - 19s 325us/step - loss: 0.0454 - acc: 0.9866 - val_loss: 0.3264 - val_acc: 0.9080\n",
      "Epoch 3/20\n",
      "60000/60000 [==============================] - 19s 325us/step - loss: 0.0293 - acc: 0.9912 - val_loss: 0.3941 - val_acc: 0.8848\n",
      "Epoch 4/20\n",
      "60000/60000 [==============================] - 19s 324us/step - loss: 0.0174 - acc: 0.9947 - val_loss: 0.0485 - val_acc: 0.9853\n",
      "Epoch 5/20\n",
      "60000/60000 [==============================] - 19s 324us/step - loss: 0.0120 - acc: 0.9964 - val_loss: 0.1063 - val_acc: 0.9728\n",
      "Epoch 6/20\n",
      "60000/60000 [==============================] - 19s 324us/step - loss: 0.0069 - acc: 0.9978 - val_loss: 0.0790 - val_acc: 0.9783\n",
      "Epoch 7/20\n",
      "60000/60000 [==============================] - 19s 321us/step - loss: 0.0047 - acc: 0.9984 - val_loss: 0.3811 - val_acc: 0.9205\n",
      "Epoch 8/20\n",
      "60000/60000 [==============================] - 19s 321us/step - loss: 0.0027 - acc: 0.9992 - val_loss: 0.0325 - val_acc: 0.9921\n",
      "Epoch 9/20\n",
      "60000/60000 [==============================] - 19s 319us/step - loss: 0.0016 - acc: 0.9996 - val_loss: 0.0287 - val_acc: 0.9930\n",
      "Epoch 10/20\n",
      "60000/60000 [==============================] - 19s 319us/step - loss: 7.8000e-04 - acc: 0.9999 - val_loss: 0.0319 - val_acc: 0.9929\n",
      "Epoch 11/20\n",
      "60000/60000 [==============================] - 19s 321us/step - loss: 4.1573e-04 - acc: 1.0000 - val_loss: 0.0308 - val_acc: 0.9939\n",
      "Epoch 12/20\n",
      "60000/60000 [==============================] - 19s 320us/step - loss: 3.2965e-04 - acc: 1.0000 - val_loss: 0.0287 - val_acc: 0.9941\n",
      "Epoch 13/20\n",
      "60000/60000 [==============================] - 19s 319us/step - loss: 3.0760e-04 - acc: 1.0000 - val_loss: 0.0292 - val_acc: 0.9941\n",
      "Epoch 14/20\n",
      "60000/60000 [==============================] - 19s 320us/step - loss: 2.9974e-04 - acc: 1.0000 - val_loss: 0.0299 - val_acc: 0.9941\n",
      "Epoch 15/20\n",
      "60000/60000 [==============================] - 19s 321us/step - loss: 2.9603e-04 - acc: 1.0000 - val_loss: 0.0298 - val_acc: 0.9942\n",
      "Epoch 16/20\n",
      "60000/60000 [==============================] - 19s 319us/step - loss: 2.9136e-04 - acc: 1.0000 - val_loss: 0.0306 - val_acc: 0.9942\n",
      "Epoch 17/20\n",
      "60000/60000 [==============================] - 19s 319us/step - loss: 2.8932e-04 - acc: 1.0000 - val_loss: 0.0294 - val_acc: 0.9940\n",
      "Epoch 18/20\n",
      "60000/60000 [==============================] - 19s 320us/step - loss: 2.8636e-04 - acc: 1.0000 - val_loss: 0.0305 - val_acc: 0.9943\n",
      "Epoch 19/20\n",
      "60000/60000 [==============================] - 19s 320us/step - loss: 2.8524e-04 - acc: 1.0000 - val_loss: 0.0301 - val_acc: 0.9943\n",
      "Epoch 20/20\n",
      "60000/60000 [==============================] - 19s 319us/step - loss: 2.8448e-04 - acc: 1.0000 - val_loss: 0.0306 - val_acc: 0.9942\n",
      "Test loss: 0.030573997524614357\n",
      "Test accuracy: 0.9942\n"
     ]
    }
   ],
   "source": [
    "model_3layer=Sequential()\n",
    "## Convolution 1st layer\n",
    "model_3layer.add(Conv2D(32,kernel_size=(3,3),activation='relu',input_shape=input_shape))\n",
    "model_3layer.add(Conv2D(64, (3, 3), activation='relu'))\n",
    "model_3layer.add(BatchNormalization())\n",
    "\n",
    "## Convolution 2nd layer\n",
    "model_3layer.add(Conv2D(64, (3, 3), activation='relu'))\n",
    "model_3layer.add(BatchNormalization())\n",
    "model_3layer.add(MaxPooling2D(pool_size=(2, 2)))\n",
    "\n",
    "## Convolution 3rd layer\n",
    "model_3layer.add(Conv2D(128, (3, 3), activation='relu'))\n",
    "model_3layer.add(BatchNormalization())\n",
    "model_3layer.add(MaxPooling2D(pool_size=(2, 2)))\n",
    "\n",
    "## Flatten \n",
    "model_3layer.add(Flatten())\n",
    "model_3layer.add(Dense(128, activation='relu'))\n",
    "\n",
    "## Output layer\n",
    "model_3layer.add(Dense(num_classes, activation='softmax'))\n",
    "\n",
    "## Model compile\n",
    "model_3layer.compile(loss=keras.losses.categorical_crossentropy,\n",
    "              optimizer=keras.optimizers.Adadelta(),\n",
    "              metrics=['accuracy'])\n",
    "## Model fit\n",
    "history=model_3layer.fit(X_train, y_train,\n",
    "          batch_size=batch_size,\n",
    "          epochs=epochs,\n",
    "          verbose=1,\n",
    "          validation_data=(X_test, y_test))\n",
    "score = model_3layer.evaluate(X_test, y_test, verbose=0)\n",
    "print('Test loss:', score[0])\n",
    "print('Test accuracy:', score[1])"
   ]
  },
  {
   "cell_type": "code",
   "execution_count": 0,
   "metadata": {
    "colab": {
     "base_uri": "https://localhost:8080/",
     "height": 279
    },
    "colab_type": "code",
    "id": "XDB9ZbisvMOp",
    "outputId": "538161de-b95a-4779-f94c-14a5790b6efc"
   },
   "outputs": [
    {
     "data": {
      "image/png": "[encoded data removed]",
      "text/plain": [
       "<Figure size 432x288 with 1 Axes>"
      ]
     },
     "metadata": {
      "tags": []
     },
     "output_type": "display_data"
    }
   ],
   "source": [
    "fig,ax = plt.subplots(1,1)\n",
    "ax.set_xlabel('epoch') ; ax.set_ylabel('Categorical Crossentropy Loss')\n",
    "\n",
    "# list of epoch numbers\n",
    "x = list(range(1,epochs+1))\n",
    "vy = history.history['val_loss']\n",
    "ty = history.history['loss']\n",
    "plt_dynamic(x, vy, ty, ax)"
   ]
  },
  {
   "cell_type": "markdown",
   "metadata": {
    "colab_type": "text",
    "id": "9bwsv0Ow4Z1M"
   },
   "source": [
    "We see our train and validation loss is very close to each other. Thus, our model doesn't overfit and we see better accuracy with convolution layer than what we saw using MLP architecture."
   ]
  },
  {
   "cell_type": "markdown",
   "metadata": {
    "colab_type": "text",
    "id": "vIyjnTJG8eW_"
   },
   "source": [
    "# 5 Layer Architecture with kernel size 5*5"
   ]
  },
  {
   "cell_type": "markdown",
   "metadata": {
    "colab_type": "text",
    "id": "j7wFyn0v5Iza"
   },
   "source": [
    "We try 5 layer architecture with kernel size 5*5 and with batchnorm and dropout."
   ]
  },
  {
   "cell_type": "code",
   "execution_count": 0,
   "metadata": {
    "colab": {
     "base_uri": "https://localhost:8080/",
     "height": 748
    },
    "colab_type": "code",
    "id": "lBinoMkD82zC",
    "outputId": "e00bc635-e67e-4758-ba02-3b51a49d9eba"
   },
   "outputs": [
    {
     "name": "stdout",
     "output_type": "stream",
     "text": [
      "Train on 60000 samples, validate on 10000 samples\n",
      "Epoch 1/20\n",
      "60000/60000 [==============================] - 33s 550us/step - loss: 0.1832 - acc: 0.9427 - val_loss: 0.1297 - val_acc: 0.9585\n",
      "Epoch 2/20\n",
      "60000/60000 [==============================] - 31s 520us/step - loss: 0.0543 - acc: 0.9836 - val_loss: 0.0409 - val_acc: 0.9881\n",
      "Epoch 3/20\n",
      "60000/60000 [==============================] - 31s 516us/step - loss: 0.0348 - acc: 0.9895 - val_loss: 0.0356 - val_acc: 0.9899\n",
      "Epoch 4/20\n",
      "60000/60000 [==============================] - 31s 514us/step - loss: 0.0252 - acc: 0.9925 - val_loss: 0.6036 - val_acc: 0.7965\n",
      "Epoch 5/20\n",
      "60000/60000 [==============================] - 31s 516us/step - loss: 0.0209 - acc: 0.9937 - val_loss: 0.0509 - val_acc: 0.9847\n",
      "Epoch 6/20\n",
      "60000/60000 [==============================] - 31s 517us/step - loss: 0.0169 - acc: 0.9947 - val_loss: 0.0279 - val_acc: 0.9929\n",
      "Epoch 7/20\n",
      "60000/60000 [==============================] - 31s 517us/step - loss: 0.0143 - acc: 0.9955 - val_loss: 0.0262 - val_acc: 0.9933\n",
      "Epoch 8/20\n",
      "60000/60000 [==============================] - 31s 516us/step - loss: 0.0121 - acc: 0.9962 - val_loss: 0.0253 - val_acc: 0.9935\n",
      "Epoch 9/20\n",
      "60000/60000 [==============================] - 31s 516us/step - loss: 0.0117 - acc: 0.9965 - val_loss: 0.0309 - val_acc: 0.9918\n",
      "Epoch 10/20\n",
      "60000/60000 [==============================] - 31s 518us/step - loss: 0.0089 - acc: 0.9972 - val_loss: 1.3485 - val_acc: 0.7497\n",
      "Epoch 11/20\n",
      "60000/60000 [==============================] - 31s 514us/step - loss: 0.0084 - acc: 0.9976 - val_loss: 0.0263 - val_acc: 0.9923\n",
      "Epoch 12/20\n",
      "60000/60000 [==============================] - 31s 514us/step - loss: 0.0076 - acc: 0.9975 - val_loss: 0.0301 - val_acc: 0.9924\n",
      "Epoch 13/20\n",
      "60000/60000 [==============================] - 31s 518us/step - loss: 0.0065 - acc: 0.9979 - val_loss: 0.0216 - val_acc: 0.9945\n",
      "Epoch 14/20\n",
      "60000/60000 [==============================] - 31s 517us/step - loss: 0.0061 - acc: 0.9981 - val_loss: 0.0403 - val_acc: 0.9875\n",
      "Epoch 15/20\n",
      "60000/60000 [==============================] - 31s 515us/step - loss: 0.0067 - acc: 0.9979 - val_loss: 0.0331 - val_acc: 0.9923\n",
      "Epoch 16/20\n",
      "60000/60000 [==============================] - 31s 514us/step - loss: 0.0048 - acc: 0.9986 - val_loss: 0.0787 - val_acc: 0.9794\n",
      "Epoch 17/20\n",
      "60000/60000 [==============================] - 31s 516us/step - loss: 0.0046 - acc: 0.9986 - val_loss: 0.0241 - val_acc: 0.9941\n",
      "Epoch 18/20\n",
      "60000/60000 [==============================] - 31s 517us/step - loss: 0.0048 - acc: 0.9984 - val_loss: 0.5882 - val_acc: 0.8010\n",
      "Epoch 19/20\n",
      "60000/60000 [==============================] - 31s 514us/step - loss: 0.0039 - acc: 0.9987 - val_loss: 0.0609 - val_acc: 0.9805\n",
      "Epoch 20/20\n",
      "60000/60000 [==============================] - 31s 515us/step - loss: 0.0047 - acc: 0.9984 - val_loss: 0.0306 - val_acc: 0.9919\n",
      "Test loss: 0.03059274424970854\n",
      "Test accuracy: 0.9919\n"
     ]
    }
   ],
   "source": [
    "dropout_rate=0.2\n",
    "model_5layer=Sequential()\n",
    "## Convolution 1st layer\n",
    "model_5layer.add(Conv2D(32,kernel_size=(5,5),padding=\"same\",activation='relu',input_shape=input_shape))\n",
    "model_5layer.add(Conv2D(64, (5, 5), activation='relu'))\n",
    "model_5layer.add(BatchNormalization())\n",
    "model_5layer.add(Dropout(dropout_rate))\n",
    "## Convolution 2nd layer\n",
    "model_5layer.add(Conv2D(64, (5, 5),padding=\"same\", activation='relu'))\n",
    "model_5layer.add(BatchNormalization())\n",
    "model_5layer.add(MaxPooling2D(pool_size=(2, 2)))\n",
    "model_5layer.add(Dropout(dropout_rate))\n",
    "## Convolution 3rd layer\n",
    "model_5layer.add(Conv2D(128, (5, 5),padding=\"same\", activation='relu'))\n",
    "model_5layer.add(BatchNormalization())\n",
    "model_5layer.add(MaxPooling2D(pool_size=(2, 2)))\n",
    "model_5layer.add(Dropout(dropout_rate))\n",
    "## Convolution 4th layer\n",
    "model_5layer.add(Conv2D(128, (5, 5),padding=\"same\", activation='relu'))\n",
    "model_5layer.add(BatchNormalization())\n",
    "model_5layer.add(MaxPooling2D(pool_size=(2, 2)))\n",
    "model_5layer.add(Dropout(dropout_rate))\n",
    "## Convolution 5th layer\n",
    "model_5layer.add(Conv2D(128, (5, 5),padding=\"same\", activation='relu'))\n",
    "model_5layer.add(BatchNormalization())\n",
    "model_5layer.add(MaxPooling2D(pool_size=(2, 2)))\n",
    "model_5layer.add(Dropout(dropout_rate))\n",
    "## Flatten \n",
    "model_5layer.add(Flatten())\n",
    "model_5layer.add(Dense(128, activation='relu'))\n",
    "\n",
    "## Output layer\n",
    "model_5layer.add(Dense(num_classes, activation='softmax'))\n",
    "\n",
    "## Model compile\n",
    "model_5layer.compile(loss=keras.losses.categorical_crossentropy,\n",
    "              optimizer=keras.optimizers.Adadelta(),\n",
    "              metrics=['accuracy'])\n",
    "## Model fit\n",
    "history=model_5layer.fit(X_train, y_train,\n",
    "          batch_size=batch_size,\n",
    "          epochs=epochs,\n",
    "          verbose=1,\n",
    "          validation_data=(X_test, y_test))\n",
    "score = model_5layer.evaluate(X_test, y_test, verbose=0)\n",
    "print('Test loss:', score[0])\n",
    "print('Test accuracy:', score[1])"
   ]
  },
  {
   "cell_type": "code",
   "execution_count": 0,
   "metadata": {
    "colab": {
     "base_uri": "https://localhost:8080/",
     "height": 281
    },
    "colab_type": "code",
    "id": "3NmiZimM-Nw9",
    "outputId": "6ec5d5d1-acad-4455-9502-42ced95fd81e"
   },
   "outputs": [
    {
     "data": {
      "image/png": "[encoded data removed]",
      "text/plain": [
       "<Figure size 432x288 with 1 Axes>"
      ]
     },
     "metadata": {
      "tags": []
     },
     "output_type": "display_data"
    }
   ],
   "source": [
    "fig,ax = plt.subplots(1,1)\n",
    "ax.set_xlabel('epoch') ; ax.set_ylabel('Categorical Crossentropy Loss')\n",
    "\n",
    "# list of epoch numbers\n",
    "x = list(range(1,epochs+1))\n",
    "vy = history.history['val_loss']\n",
    "ty = history.history['loss']\n",
    "plt_dynamic(x, vy, ty, ax)"
   ]
  },
  {
   "cell_type": "markdown",
   "metadata": {
    "colab_type": "text",
    "id": "rETrzDGMJ9On"
   },
   "source": [
    "Hmm !!... we see a strange pattern for validation loss. It is close to train loss and then peaks out and again comes back . In the end it is close to the train loss. We see decreased accuracy than the previous architecture."
   ]
  },
  {
   "cell_type": "markdown",
   "metadata": {
    "colab_type": "text",
    "id": "T1VzTYdRW5hS"
   },
   "source": [
    "# 7 Layer Architecture with Kernel size 7*7"
   ]
  },
  {
   "cell_type": "markdown",
   "metadata": {
    "colab_type": "text",
    "id": "1GDfofspXzX0"
   },
   "source": [
    "We now try a & layer architecture with kernel size 7*7 and with dropout, batchnorm and without max pool."
   ]
  },
  {
   "cell_type": "code",
   "execution_count": 0,
   "metadata": {
    "colab": {
     "base_uri": "https://localhost:8080/",
     "height": 748
    },
    "colab_type": "code",
    "id": "To_AxzJ-YA6r",
    "outputId": "7e1f8fc8-c5a2-46db-b939-6c6af4c681b2"
   },
   "outputs": [
    {
     "name": "stdout",
     "output_type": "stream",
     "text": [
      "Train on 60000 samples, validate on 10000 samples\n",
      "Epoch 1/20\n",
      "60000/60000 [==============================] - 98s 2ms/step - loss: 0.5894 - acc: 0.8594 - val_loss: 1.8226 - val_acc: 0.8011\n",
      "Epoch 2/20\n",
      "60000/60000 [==============================] - 92s 2ms/step - loss: 0.0926 - acc: 0.9769 - val_loss: 0.1009 - val_acc: 0.9797\n",
      "Epoch 3/20\n",
      "60000/60000 [==============================] - 92s 2ms/step - loss: 0.0576 - acc: 0.9841 - val_loss: 6.6087 - val_acc: 0.2715\n",
      "Epoch 4/20\n",
      "60000/60000 [==============================] - 92s 2ms/step - loss: 0.0455 - acc: 0.9879 - val_loss: 0.1639 - val_acc: 0.9456\n",
      "Epoch 5/20\n",
      "60000/60000 [==============================] - 92s 2ms/step - loss: 0.0344 - acc: 0.9911 - val_loss: 0.1904 - val_acc: 0.9548\n",
      "Epoch 6/20\n",
      "60000/60000 [==============================] - 92s 2ms/step - loss: 0.0303 - acc: 0.9914 - val_loss: 0.0990 - val_acc: 0.9744\n",
      "Epoch 7/20\n",
      "60000/60000 [==============================] - 92s 2ms/step - loss: 0.0243 - acc: 0.9935 - val_loss: 0.0555 - val_acc: 0.9875\n",
      "Epoch 8/20\n",
      "60000/60000 [==============================] - 92s 2ms/step - loss: 0.0204 - acc: 0.9943 - val_loss: 0.0693 - val_acc: 0.9811\n",
      "Epoch 9/20\n",
      "60000/60000 [==============================] - 92s 2ms/step - loss: 0.0184 - acc: 0.9945 - val_loss: 1.1001 - val_acc: 0.8090\n",
      "Epoch 10/20\n",
      "60000/60000 [==============================] - 92s 2ms/step - loss: 0.0156 - acc: 0.9955 - val_loss: 0.0368 - val_acc: 0.9920\n",
      "Epoch 11/20\n",
      "60000/60000 [==============================] - 92s 2ms/step - loss: 0.0148 - acc: 0.9957 - val_loss: 0.0414 - val_acc: 0.9890\n",
      "Epoch 12/20\n",
      "60000/60000 [==============================] - 92s 2ms/step - loss: 0.0122 - acc: 0.9965 - val_loss: 0.0239 - val_acc: 0.9940\n",
      "Epoch 13/20\n",
      "60000/60000 [==============================] - 92s 2ms/step - loss: 0.0116 - acc: 0.9966 - val_loss: 0.1511 - val_acc: 0.9674\n",
      "Epoch 14/20\n",
      "60000/60000 [==============================] - 92s 2ms/step - loss: 0.0100 - acc: 0.9970 - val_loss: 0.0443 - val_acc: 0.9899\n",
      "Epoch 15/20\n",
      "60000/60000 [==============================] - 92s 2ms/step - loss: 0.0085 - acc: 0.9975 - val_loss: 0.0356 - val_acc: 0.9905\n",
      "Epoch 16/20\n",
      "60000/60000 [==============================] - 92s 2ms/step - loss: 0.0085 - acc: 0.9975 - val_loss: 0.0408 - val_acc: 0.9905\n",
      "Epoch 17/20\n",
      "60000/60000 [==============================] - 92s 2ms/step - loss: 0.0086 - acc: 0.9975 - val_loss: 0.0324 - val_acc: 0.9931\n",
      "Epoch 18/20\n",
      "60000/60000 [==============================] - 92s 2ms/step - loss: 0.0077 - acc: 0.9976 - val_loss: 0.0408 - val_acc: 0.9913\n",
      "Epoch 19/20\n",
      "60000/60000 [==============================] - 92s 2ms/step - loss: 0.0070 - acc: 0.9978 - val_loss: 0.0303 - val_acc: 0.9949\n",
      "Epoch 20/20\n",
      "60000/60000 [==============================] - 92s 2ms/step - loss: 0.0044 - acc: 0.9987 - val_loss: 0.0350 - val_acc: 0.9933\n",
      "Test loss: 0.035012184800403884\n",
      "Test accuracy: 0.9933\n"
     ]
    }
   ],
   "source": [
    "dropout_rate=0.2\n",
    "model_7layer=Sequential()\n",
    "## Convolution 1st layer\n",
    "model_7layer.add(Conv2D(32,kernel_size=(7,7),padding=\"same\",activation='relu',input_shape=input_shape))\n",
    "model_7layer.add(Conv2D(128, (7, 7), activation='relu'))\n",
    "model_7layer.add(BatchNormalization())\n",
    "model_7layer.add(Dropout(dropout_rate))\n",
    "## Convolution 2nd layer\n",
    "model_7layer.add(Conv2D(128, (7, 7),padding=\"same\", activation='relu'))\n",
    "model_7layer.add(BatchNormalization())\n",
    "#model_7layer.add(MaxPooling2D(pool_size=(2, 2)))\n",
    "model_7layer.add(Dropout(dropout_rate))\n",
    "## Convolution 3rd layer\n",
    "model_7layer.add(Conv2D(128, (7, 7),padding=\"same\", activation='relu'))\n",
    "model_7layer.add(BatchNormalization())\n",
    "#model_7layer.add(MaxPooling2D(pool_size=(2, 2)))\n",
    "model_7layer.add(Dropout(dropout_rate))\n",
    "## Convolution 4th layer\n",
    "model_7layer.add(Conv2D(64, (7, 7),padding=\"same\", activation='relu'))\n",
    "model_7layer.add(BatchNormalization())\n",
    "#model_7layer.add(MaxPooling2D(pool_size=(2, 2)))\n",
    "model_7layer.add(Dropout(dropout_rate))\n",
    "## Convolution 5th layer\n",
    "model_7layer.add(Conv2D(64, (7, 7),padding=\"same\", activation='relu'))\n",
    "model_7layer.add(BatchNormalization())\n",
    "#model_7layer.add(MaxPooling2D(pool_size=(2, 2)))\n",
    "model_7layer.add(Dropout(dropout_rate))\n",
    "## Convolution 6th layer\n",
    "model_7layer.add(Conv2D(64, (7, 7),padding=\"same\", activation='relu'))\n",
    "model_7layer.add(BatchNormalization())\n",
    "#model_7layer.add(MaxPooling2D(pool_size=(2, 2)))\n",
    "model_7layer.add(Dropout(dropout_rate))\n",
    "## Convolution 7th layer\n",
    "model_7layer.add(Conv2D(64, (7, 7),padding=\"same\", activation='relu'))\n",
    "model_7layer.add(BatchNormalization())\n",
    "#model_7layer.add(MaxPooling2D(pool_size=(2, 2)))\n",
    "model_7layer.add(Dropout(dropout_rate))\n",
    "## Flatten \n",
    "model_7layer.add(Flatten())\n",
    "model_7layer.add(Dense(64, activation='relu'))\n",
    "\n",
    "## Output layer\n",
    "model_7layer.add(Dense(num_classes, activation='softmax'))\n",
    "\n",
    "## Model compile\n",
    "model_7layer.compile(loss=keras.losses.categorical_crossentropy,\n",
    "              optimizer=keras.optimizers.Adadelta(),\n",
    "              metrics=['accuracy'])\n",
    "## Model fit\n",
    "history=model_7layer.fit(X_train, y_train,\n",
    "          batch_size=batch_size,\n",
    "          epochs=epochs,\n",
    "          verbose=1,\n",
    "          validation_data=(X_test, y_test))\n",
    "score = model_7layer.evaluate(X_test, y_test, verbose=0)\n",
    "print('Test loss:', score[0])\n",
    "print('Test accuracy:', score[1])"
   ]
  },
  {
   "cell_type": "code",
   "execution_count": 0,
   "metadata": {
    "colab": {
     "base_uri": "https://localhost:8080/",
     "height": 279
    },
    "colab_type": "code",
    "id": "lCp38eNUZiXn",
    "outputId": "58937967-76e7-4840-f6ae-3f9c2d829cbd"
   },
   "outputs": [
    {
     "data": {
      "image/png": "[encoded data removed]",
      "text/plain": [
       "<Figure size 432x288 with 1 Axes>"
      ]
     },
     "metadata": {
      "tags": []
     },
     "output_type": "display_data"
    }
   ],
   "source": [
    "fig,ax = plt.subplots(1,1)\n",
    "ax.set_xlabel('epoch') ; ax.set_ylabel('Categorical Crossentropy Loss')\n",
    "\n",
    "# list of epoch numbers\n",
    "x = list(range(1,epochs+1))\n",
    "vy = history.history['val_loss']\n",
    "ty = history.history['loss']\n",
    "plt_dynamic(x, vy, ty, ax)"
   ]
  },
  {
   "cell_type": "code",
   "execution_count": 0,
   "metadata": {
    "colab": {
     "base_uri": "https://localhost:8080/",
     "height": 986
    },
    "colab_type": "code",
    "id": "no7nXzNjh2Dj",
    "outputId": "258db559-156d-46b8-d208-91776104e90e"
   },
   "outputs": [
    {
     "name": "stdout",
     "output_type": "stream",
     "text": [
      "_________________________________________________________________\n",
      "Layer (type)                 Output Shape              Param #   \n",
      "=================================================================\n",
      "conv2d_45 (Conv2D)           (None, 28, 28, 32)        1600      \n",
      "_________________________________________________________________\n",
      "conv2d_46 (Conv2D)           (None, 22, 22, 128)       200832    \n",
      "_________________________________________________________________\n",
      "batch_normalization_35 (Batc (None, 22, 22, 128)       512       \n",
      "_________________________________________________________________\n",
      "dropout_27 (Dropout)         (None, 22, 22, 128)       0         \n",
      "_________________________________________________________________\n",
      "conv2d_47 (Conv2D)           (None, 22, 22, 128)       802944    \n",
      "_________________________________________________________________\n",
      "batch_normalization_36 (Batc (None, 22, 22, 128)       512       \n",
      "_________________________________________________________________\n",
      "dropout_28 (Dropout)         (None, 22, 22, 128)       0         \n",
      "_________________________________________________________________\n",
      "conv2d_48 (Conv2D)           (None, 22, 22, 128)       802944    \n",
      "_________________________________________________________________\n",
      "batch_normalization_37 (Batc (None, 22, 22, 128)       512       \n",
      "_________________________________________________________________\n",
      "dropout_29 (Dropout)         (None, 22, 22, 128)       0         \n",
      "_________________________________________________________________\n",
      "conv2d_49 (Conv2D)           (None, 22, 22, 64)        401472    \n",
      "_________________________________________________________________\n",
      "batch_normalization_38 (Batc (None, 22, 22, 64)        256       \n",
      "_________________________________________________________________\n",
      "dropout_30 (Dropout)         (None, 22, 22, 64)        0         \n",
      "_________________________________________________________________\n",
      "conv2d_50 (Conv2D)           (None, 22, 22, 64)        200768    \n",
      "_________________________________________________________________\n",
      "batch_normalization_39 (Batc (None, 22, 22, 64)        256       \n",
      "_________________________________________________________________\n",
      "dropout_31 (Dropout)         (None, 22, 22, 64)        0         \n",
      "_________________________________________________________________\n",
      "conv2d_51 (Conv2D)           (None, 22, 22, 64)        200768    \n",
      "_________________________________________________________________\n",
      "batch_normalization_40 (Batc (None, 22, 22, 64)        256       \n",
      "_________________________________________________________________\n",
      "dropout_32 (Dropout)         (None, 22, 22, 64)        0         \n",
      "_________________________________________________________________\n",
      "conv2d_52 (Conv2D)           (None, 22, 22, 64)        200768    \n",
      "_________________________________________________________________\n",
      "batch_normalization_41 (Batc (None, 22, 22, 64)        256       \n",
      "_________________________________________________________________\n",
      "dropout_33 (Dropout)         (None, 22, 22, 64)        0         \n",
      "_________________________________________________________________\n",
      "flatten_5 (Flatten)          (None, 30976)             0         \n",
      "_________________________________________________________________\n",
      "dense_9 (Dense)              (None, 64)                1982528   \n",
      "_________________________________________________________________\n",
      "dense_10 (Dense)             (None, 10)                650       \n",
      "=================================================================\n",
      "Total params: 4,797,834\n",
      "Trainable params: 4,796,554\n",
      "Non-trainable params: 1,280\n",
      "_________________________________________________________________\n"
     ]
    }
   ],
   "source": [
    "model_7layer.summary()"
   ]
  },
  {
   "cell_type": "markdown",
   "metadata": {
    "colab_type": "text",
    "id": "WQZVtTMTwSqK"
   },
   "source": [
    "# 7 Layer architecture with kernel 7 * 7 and different dropout rates"
   ]
  },
  {
   "cell_type": "code",
   "execution_count": 17,
   "metadata": {
    "colab": {
     "base_uri": "https://localhost:8080/",
     "height": 961
    },
    "colab_type": "code",
    "id": "JkjLM97UwkQU",
    "outputId": "53fa344a-237e-4dbc-f53b-356b0be66978"
   },
   "outputs": [
    {
     "name": "stdout",
     "output_type": "stream",
     "text": [
      "WARNING:tensorflow:From /usr/local/lib/python3.6/dist-packages/tensorflow/python/framework/op_def_library.py:263: colocate_with (from tensorflow.python.framework.ops) is deprecated and will be removed in a future version.\n",
      "Instructions for updating:\n",
      "Colocations handled automatically by placer.\n",
      "WARNING:tensorflow:From /usr/local/lib/python3.6/dist-packages/keras/backend/tensorflow_backend.py:3445: calling dropout (from tensorflow.python.ops.nn_ops) with keep_prob is deprecated and will be removed in a future version.\n",
      "Instructions for updating:\n",
      "Please use `rate` instead of `keep_prob`. Rate should be set to `rate = 1 - keep_prob`.\n",
      "WARNING:tensorflow:From /usr/local/lib/python3.6/dist-packages/tensorflow/python/ops/math_ops.py:3066: to_int32 (from tensorflow.python.ops.math_ops) is deprecated and will be removed in a future version.\n",
      "Instructions for updating:\n",
      "Use tf.cast instead.\n",
      "Train on 60000 samples, validate on 10000 samples\n",
      "Epoch 1/20\n",
      "60000/60000 [==============================] - 98s 2ms/step - loss: 0.3293 - acc: 0.9090 - val_loss: 0.6207 - val_acc: 0.9267\n",
      "Epoch 2/20\n",
      "60000/60000 [==============================] - 91s 2ms/step - loss: 0.0829 - acc: 0.9787 - val_loss: 0.0627 - val_acc: 0.9859\n",
      "Epoch 3/20\n",
      "60000/60000 [==============================] - 91s 2ms/step - loss: 0.0557 - acc: 0.9850 - val_loss: 0.0912 - val_acc: 0.9825\n",
      "Epoch 4/20\n",
      "60000/60000 [==============================] - 91s 2ms/step - loss: 0.0464 - acc: 0.9877 - val_loss: 0.0522 - val_acc: 0.9851\n",
      "Epoch 5/20\n",
      "60000/60000 [==============================] - 91s 2ms/step - loss: 0.0348 - acc: 0.9907 - val_loss: 0.0377 - val_acc: 0.9899\n",
      "Epoch 6/20\n",
      "60000/60000 [==============================] - 91s 2ms/step - loss: 0.0290 - acc: 0.9923 - val_loss: 0.0370 - val_acc: 0.9915\n",
      "Epoch 7/20\n",
      "60000/60000 [==============================] - 92s 2ms/step - loss: 0.0253 - acc: 0.9930 - val_loss: 0.0372 - val_acc: 0.9896\n",
      "Epoch 8/20\n",
      "60000/60000 [==============================] - 91s 2ms/step - loss: 0.0244 - acc: 0.9934 - val_loss: 0.0398 - val_acc: 0.9898\n",
      "Epoch 9/20\n",
      "60000/60000 [==============================] - 91s 2ms/step - loss: 0.0199 - acc: 0.9945 - val_loss: 0.0301 - val_acc: 0.9920\n",
      "Epoch 10/20\n",
      "60000/60000 [==============================] - 91s 2ms/step - loss: 0.0152 - acc: 0.9955 - val_loss: 0.0284 - val_acc: 0.9928\n",
      "Epoch 11/20\n",
      "60000/60000 [==============================] - 91s 2ms/step - loss: 0.0155 - acc: 0.9956 - val_loss: 0.0219 - val_acc: 0.9940\n",
      "Epoch 12/20\n",
      "60000/60000 [==============================] - 91s 2ms/step - loss: 0.0135 - acc: 0.9959 - val_loss: 0.0267 - val_acc: 0.9940\n",
      "Epoch 13/20\n",
      "60000/60000 [==============================] - 91s 2ms/step - loss: 0.0133 - acc: 0.9962 - val_loss: 0.0257 - val_acc: 0.9934\n",
      "Epoch 14/20\n",
      "60000/60000 [==============================] - 91s 2ms/step - loss: 0.0134 - acc: 0.9963 - val_loss: 0.0243 - val_acc: 0.9937\n",
      "Epoch 15/20\n",
      "60000/60000 [==============================] - 92s 2ms/step - loss: 0.0101 - acc: 0.9971 - val_loss: 0.0248 - val_acc: 0.9944\n",
      "Epoch 16/20\n",
      "60000/60000 [==============================] - 92s 2ms/step - loss: 0.0103 - acc: 0.9970 - val_loss: 0.0280 - val_acc: 0.9942\n",
      "Epoch 17/20\n",
      "60000/60000 [==============================] - 92s 2ms/step - loss: 0.0098 - acc: 0.9969 - val_loss: 0.0248 - val_acc: 0.9939\n",
      "Epoch 18/20\n",
      "60000/60000 [==============================] - 91s 2ms/step - loss: 0.0073 - acc: 0.9976 - val_loss: 0.0276 - val_acc: 0.9942\n",
      "Epoch 19/20\n",
      "60000/60000 [==============================] - 92s 2ms/step - loss: 0.0084 - acc: 0.9976 - val_loss: 0.0278 - val_acc: 0.9934\n",
      "Epoch 20/20\n",
      "60000/60000 [==============================] - 91s 2ms/step - loss: 0.0075 - acc: 0.9978 - val_loss: 0.0306 - val_acc: 0.9924\n",
      "Test loss: 0.030607401063584165\n",
      "Test accuracy: 0.9924\n"
     ]
    }
   ],
   "source": [
    "dropout_rate=0.5\n",
    "model_7layer=Sequential()\n",
    "## Convolution 1st layer\n",
    "model_7layer.add(Conv2D(32,kernel_size=(7,7),padding=\"same\",activation='relu',input_shape=input_shape))\n",
    "model_7layer.add(Conv2D(128, (7, 7), activation='relu'))\n",
    "model_7layer.add(BatchNormalization())\n",
    "model_7layer.add(Dropout(dropout_rate))\n",
    "## Convolution 2nd layer\n",
    "model_7layer.add(Conv2D(128, (7, 7),padding=\"same\", activation='relu'))\n",
    "model_7layer.add(BatchNormalization())\n",
    "#model_7layer.add(MaxPooling2D(pool_size=(2, 2)))\n",
    "model_7layer.add(Dropout(dropout_rate))\n",
    "## Convolution 3rd layer\n",
    "model_7layer.add(Conv2D(128, (7, 7),padding=\"same\", activation='relu'))\n",
    "model_7layer.add(BatchNormalization())\n",
    "#model_7layer.add(MaxPooling2D(pool_size=(2, 2)))\n",
    "model_7layer.add(Dropout(dropout_rate))\n",
    "## Convolution 4th layer\n",
    "model_7layer.add(Conv2D(64, (7, 7),padding=\"same\", activation='relu'))\n",
    "model_7layer.add(BatchNormalization())\n",
    "#model_7layer.add(MaxPooling2D(pool_size=(2, 2)))\n",
    "model_7layer.add(Dropout(dropout_rate))\n",
    "## Convolution 5th layer\n",
    "model_7layer.add(Conv2D(64, (7, 7),padding=\"same\", activation='relu'))\n",
    "model_7layer.add(BatchNormalization())\n",
    "#model_7layer.add(MaxPooling2D(pool_size=(2, 2)))\n",
    "model_7layer.add(Dropout(dropout_rate))\n",
    "## Convolution 6th layer\n",
    "model_7layer.add(Conv2D(64, (7, 7),padding=\"same\", activation='relu'))\n",
    "model_7layer.add(BatchNormalization())\n",
    "#model_7layer.add(MaxPooling2D(pool_size=(2, 2)))\n",
    "model_7layer.add(Dropout(dropout_rate))\n",
    "## Convolution 7th layer\n",
    "model_7layer.add(Conv2D(64, (7, 7),padding=\"same\", activation='relu'))\n",
    "model_7layer.add(BatchNormalization())\n",
    "#model_7layer.add(MaxPooling2D(pool_size=(2, 2)))\n",
    "model_7layer.add(Dropout(dropout_rate))\n",
    "## Flatten \n",
    "model_7layer.add(Flatten())\n",
    "model_7layer.add(Dense(64, activation='relu'))\n",
    "\n",
    "## Output layer\n",
    "model_7layer.add(Dense(num_classes, activation='softmax'))\n",
    "\n",
    "## Model compile\n",
    "model_7layer.compile(loss=keras.losses.categorical_crossentropy,\n",
    "              optimizer=keras.optimizers.Adadelta(),\n",
    "              metrics=['accuracy'])\n",
    "## Model fit\n",
    "history=model_7layer.fit(X_train, y_train,\n",
    "          batch_size=batch_size,\n",
    "          epochs=epochs,\n",
    "          verbose=1,\n",
    "          validation_data=(X_test, y_test))\n",
    "score = model_7layer.evaluate(X_test, y_test, verbose=0)\n",
    "print('Test loss:', score[0])\n",
    "print('Test accuracy:', score[1])"
   ]
  },
  {
   "cell_type": "code",
   "execution_count": 19,
   "metadata": {
    "colab": {
     "base_uri": "https://localhost:8080/",
     "height": 781
    },
    "colab_type": "code",
    "id": "_W9JskCkE_wP",
    "outputId": "13452d41-ac21-457a-affb-8e1737e6bdb2"
   },
   "outputs": [
    {
     "name": "stdout",
     "output_type": "stream",
     "text": [
      "Train on 60000 samples, validate on 10000 samples\n",
      "Epoch 1/20\n",
      "60000/60000 [==============================] - 94s 2ms/step - loss: 0.7259 - acc: 0.7711 - val_loss: 0.3621 - val_acc: 0.9484\n",
      "Epoch 2/20\n",
      "60000/60000 [==============================] - 92s 2ms/step - loss: 0.1376 - acc: 0.9635 - val_loss: 0.0688 - val_acc: 0.9829\n",
      "Epoch 3/20\n",
      "60000/60000 [==============================] - 91s 2ms/step - loss: 0.0899 - acc: 0.9761 - val_loss: 0.0717 - val_acc: 0.9850\n",
      "Epoch 4/20\n",
      "60000/60000 [==============================] - 92s 2ms/step - loss: 0.0696 - acc: 0.9817 - val_loss: 0.0533 - val_acc: 0.9861\n",
      "Epoch 5/20\n",
      "60000/60000 [==============================] - 92s 2ms/step - loss: 0.0609 - acc: 0.9831 - val_loss: 0.0375 - val_acc: 0.9899\n",
      "Epoch 6/20\n",
      "60000/60000 [==============================] - 91s 2ms/step - loss: 0.0529 - acc: 0.9858 - val_loss: 0.0341 - val_acc: 0.9909\n",
      "Epoch 7/20\n",
      "60000/60000 [==============================] - 93s 2ms/step - loss: 0.0463 - acc: 0.9870 - val_loss: 0.0326 - val_acc: 0.9918\n",
      "Epoch 8/20\n",
      "60000/60000 [==============================] - 91s 2ms/step - loss: 0.0441 - acc: 0.9879 - val_loss: 0.0328 - val_acc: 0.9905\n",
      "Epoch 9/20\n",
      "60000/60000 [==============================] - 91s 2ms/step - loss: 0.0379 - acc: 0.9896 - val_loss: 0.0305 - val_acc: 0.9920\n",
      "Epoch 10/20\n",
      "60000/60000 [==============================] - 92s 2ms/step - loss: 0.0356 - acc: 0.9901 - val_loss: 0.0393 - val_acc: 0.9914\n",
      "Epoch 11/20\n",
      "60000/60000 [==============================] - 91s 2ms/step - loss: 0.0355 - acc: 0.9904 - val_loss: 0.0318 - val_acc: 0.9911\n",
      "Epoch 12/20\n",
      "60000/60000 [==============================] - 93s 2ms/step - loss: 0.0331 - acc: 0.9906 - val_loss: 0.0339 - val_acc: 0.9918\n",
      "Epoch 13/20\n",
      "60000/60000 [==============================] - 92s 2ms/step - loss: 0.0300 - acc: 0.9909 - val_loss: 0.0322 - val_acc: 0.9918\n",
      "Epoch 14/20\n",
      "60000/60000 [==============================] - 92s 2ms/step - loss: 0.0287 - acc: 0.9914 - val_loss: 0.0236 - val_acc: 0.9937\n",
      "Epoch 15/20\n",
      "60000/60000 [==============================] - 92s 2ms/step - loss: 0.0281 - acc: 0.9917 - val_loss: 0.0254 - val_acc: 0.9929\n",
      "Epoch 16/20\n",
      "60000/60000 [==============================] - 91s 2ms/step - loss: 0.0256 - acc: 0.9929 - val_loss: 0.0298 - val_acc: 0.9927\n",
      "Epoch 17/20\n",
      "60000/60000 [==============================] - 92s 2ms/step - loss: 0.0261 - acc: 0.9926 - val_loss: 0.0233 - val_acc: 0.9927\n",
      "Epoch 18/20\n",
      "60000/60000 [==============================] - 92s 2ms/step - loss: 0.0241 - acc: 0.9930 - val_loss: 0.0226 - val_acc: 0.9937\n",
      "Epoch 19/20\n",
      "60000/60000 [==============================] - 91s 2ms/step - loss: 0.0232 - acc: 0.9930 - val_loss: 0.0249 - val_acc: 0.9933\n",
      "Epoch 20/20\n",
      "60000/60000 [==============================] - 93s 2ms/step - loss: 0.0218 - acc: 0.9937 - val_loss: 0.0270 - val_acc: 0.9933\n",
      "Test loss: 0.026993162672252585\n",
      "Test accuracy: 0.9933\n"
     ]
    }
   ],
   "source": [
    "dropout_rate=0.8\n",
    "model_7layer=Sequential()\n",
    "## Convolution 1st layer\n",
    "model_7layer.add(Conv2D(32,kernel_size=(7,7),padding=\"same\",activation='relu',input_shape=input_shape))\n",
    "model_7layer.add(Conv2D(128, (7, 7), activation='relu'))\n",
    "model_7layer.add(BatchNormalization())\n",
    "model_7layer.add(Dropout(dropout_rate))\n",
    "## Convolution 2nd layer\n",
    "model_7layer.add(Conv2D(128, (7, 7),padding=\"same\", activation='relu'))\n",
    "model_7layer.add(BatchNormalization())\n",
    "#model_7layer.add(MaxPooling2D(pool_size=(2, 2)))\n",
    "model_7layer.add(Dropout(dropout_rate))\n",
    "## Convolution 3rd layer\n",
    "model_7layer.add(Conv2D(128, (7, 7),padding=\"same\", activation='relu'))\n",
    "model_7layer.add(BatchNormalization())\n",
    "#model_7layer.add(MaxPooling2D(pool_size=(2, 2)))\n",
    "model_7layer.add(Dropout(dropout_rate))\n",
    "## Convolution 4th layer\n",
    "model_7layer.add(Conv2D(64, (7, 7),padding=\"same\", activation='relu'))\n",
    "model_7layer.add(BatchNormalization())\n",
    "#model_7layer.add(MaxPooling2D(pool_size=(2, 2)))\n",
    "model_7layer.add(Dropout(dropout_rate))\n",
    "## Convolution 5th layer\n",
    "model_7layer.add(Conv2D(64, (7, 7),padding=\"same\", activation='relu'))\n",
    "model_7layer.add(BatchNormalization())\n",
    "#model_7layer.add(MaxPooling2D(pool_size=(2, 2)))\n",
    "model_7layer.add(Dropout(dropout_rate))\n",
    "## Convolution 6th layer\n",
    "model_7layer.add(Conv2D(64, (7, 7),padding=\"same\", activation='relu'))\n",
    "model_7layer.add(BatchNormalization())\n",
    "#model_7layer.add(MaxPooling2D(pool_size=(2, 2)))\n",
    "model_7layer.add(Dropout(dropout_rate))\n",
    "## Convolution 7th layer\n",
    "model_7layer.add(Conv2D(64, (7, 7),padding=\"same\", activation='relu'))\n",
    "model_7layer.add(BatchNormalization())\n",
    "#model_7layer.add(MaxPooling2D(pool_size=(2, 2)))\n",
    "model_7layer.add(Dropout(dropout_rate))\n",
    "## Flatten \n",
    "model_7layer.add(Flatten())\n",
    "model_7layer.add(Dense(64, activation='relu'))\n",
    "\n",
    "## Output layer\n",
    "model_7layer.add(Dense(num_classes, activation='softmax'))\n",
    "\n",
    "## Model compile\n",
    "model_7layer.compile(loss=keras.losses.categorical_crossentropy,\n",
    "              optimizer=keras.optimizers.Adadelta(),\n",
    "              metrics=['accuracy'])\n",
    "## Model fit\n",
    "history=model_7layer.fit(X_train, y_train,\n",
    "          batch_size=batch_size,\n",
    "          epochs=epochs,\n",
    "          verbose=1,\n",
    "          validation_data=(X_test, y_test))\n",
    "score = model_7layer.evaluate(X_test, y_test, verbose=0)\n",
    "print('Test loss:', score[0])\n",
    "print('Test accuracy:', score[1])"
   ]
  },
  {
   "cell_type": "markdown",
   "metadata": {
    "colab_type": "text",
    "id": "68tPAgw4h8AR"
   },
   "source": [
    "Thus , we have seen different convolution architectures with different combinations of kernels, dropouts and maxpools. We have also seen how the train and validation loss behaves for diffrent settings. We also noticed how accuracy changes with different architectures."
   ]
  },
  {
   "cell_type": "markdown",
   "metadata": {
    "colab": {},
    "colab_type": "code",
    "id": "yojvXO-sjrlP"
   },
   "source": [
    "###### Conclusion"
   ]
  },
  {
   "cell_type": "code",
   "execution_count": 1,
   "metadata": {},
   "outputs": [
    {
     "name": "stdout",
     "output_type": "stream",
     "text": [
      "+--------------+--------------+-------------+-----------+---------------+\n",
      "| Architecture | Dropout rate | Kernel size | Test Loss | Test Accuracy |\n",
      "+--------------+--------------+-------------+-----------+---------------+\n",
      "|   3 Layer    |      -       |     3*3     |  0.03057  |     0.9942    |\n",
      "|   5 Layer    |     0.2      |     5*5     |  0.03059  |     0.9919    |\n",
      "|   7 Layer    |     0.2      |     7*7     |  0.03501  |     0.9933    |\n",
      "|   7 Layer    |     0.5      |     7*7     |   0.0306  |     0.9924    |\n",
      "|   7 Layer    |     0.8      |     7*7     |  0.02699  |     0.9933    |\n",
      "+--------------+--------------+-------------+-----------+---------------+\n"
     ]
    }
   ],
   "source": [
    "from prettytable import PrettyTable\n",
    "\n",
    "x = PrettyTable()\n",
    "\n",
    "x.field_names = [\"Architecture\",\"Dropout rate\",\"Kernel size\",\"Test Loss\",\"Test Accuracy\"]\n",
    "x.add_row([\"3 Layer\", \"-\",\"3*3\",0.03057,0.9942])\n",
    "x.add_row([\"5 Layer\", \"0.2\",\"5*5\",0.03059,0.9919])\n",
    "x.add_row([\"7 Layer\", \"0.2\",\"7*7\",0.03501,0.9933])\n",
    "x.add_row([\"7 Layer\", \"0.5\",\"7*7\",0.03060,0.9924])\n",
    "x.add_row([\"7 Layer\", \"0.8\",\"7*7\",0.02699,0.9933])\n",
    "print(x)"
   ]
  },
  {
   "cell_type": "markdown",
   "metadata": {},
   "source": [
    "We see that the simple 3 layer architecture with 3*3 kernel gives us the best test accuracy. Also the dropout rate affects the 7 Layer architecture . If we increase it to 0.5 the accuracy decreases but if we further increase it to 0.8 then accuracy increases !!"
   ]
  },
  {
   "cell_type": "code",
   "execution_count": null,
   "metadata": {},
   "outputs": [],
   "source": []
  }
 ],
 "metadata": {
  "accelerator": "GPU",
  "colab": {
   "collapsed_sections": [],
   "name": "AAIC MNIST CNN Assignment.ipynb",
   "provenance": [],
   "version": "0.3.2"
  },
  "kernelspec": {
   "display_name": "Python 3",
   "language": "python",
   "name": "python3"
  },
  "language_info": {
   "codemirror_mode": {
    "name": "ipython",
    "version": 3
   },
   "file_extension": ".py",
   "mimetype": "text/x-python",
   "name": "python",
   "nbconvert_exporter": "python",
   "pygments_lexer": "ipython3",
   "version": "3.6.5"
  }
 },
 "nbformat": 4,
 "nbformat_minor": 1
}
