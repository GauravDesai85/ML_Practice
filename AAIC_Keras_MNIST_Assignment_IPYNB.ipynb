{
 "cells": [
  {
   "cell_type": "code",
   "execution_count": 0,
   "metadata": {
    "colab": {},
    "colab_type": "code",
    "id": "TDHghNFOOg3z"
   },
   "outputs": [],
   "source": [
    "from keras.utils import np_utils \n",
    "from keras.datasets import mnist \n",
    "import seaborn as sns\n",
    "from keras.initializers import RandomNormal"
   ]
  },
  {
   "cell_type": "code",
   "execution_count": 0,
   "metadata": {
    "colab": {},
    "colab_type": "code",
    "id": "ui1ItNaXOtAN"
   },
   "outputs": [],
   "source": [
    "%matplotlib inline\n",
    "import warnings\n",
    "warnings.filterwarnings(\"ignore\")\n",
    "import matplotlib as mpl\n",
    "import matplotlib.pyplot as plt\n",
    "import numpy as np\n",
    "import time\n",
    "# https://gist.github.com/greydanus/f6eee59eaf1d90fcb3b534a25362cea4\n",
    "# https://stackoverflow.com/a/14434334\n",
    "# this function is used to update the plots for each epoch and error\n",
    "def plt_dynamic(x, vy, ty, ax, colors=['b']):\n",
    "    ax.plot(x, vy, 'b', label=\"Validation Loss\")\n",
    "    ax.plot(x, ty, 'r', label=\"Train Loss\")\n",
    "    plt.legend()\n",
    "    plt.grid()\n",
    "    #plt.show()\n",
    "    fig.canvas.draw()"
   ]
  },
  {
   "cell_type": "code",
   "execution_count": 0,
   "metadata": {
    "colab": {},
    "colab_type": "code",
    "id": "e8T1ikkOO1EE"
   },
   "outputs": [],
   "source": [
    "# the data, shuffled and split between train and test sets \n",
    "(X_train, y_train), (X_test, y_test) = mnist.load_data()"
   ]
  },
  {
   "cell_type": "code",
   "execution_count": 0,
   "metadata": {
    "colab": {
     "base_uri": "https://localhost:8080/",
     "height": 51
    },
    "colab_type": "code",
    "id": "xfB-hBZ0O7TC",
    "outputId": "4fb9b4b9-bd07-4f5c-c46d-1e40bd714691"
   },
   "outputs": [
    {
     "name": "stdout",
     "output_type": "stream",
     "text": [
      "Number of training examples : 60000 and each image is of shape (28, 28)\n",
      "Number of training examples : 10000 and each image is of shape (28, 28)\n"
     ]
    }
   ],
   "source": [
    "print(\"Number of training examples :\", X_train.shape[0], \"and each image is of shape (%d, %d)\"%(X_train.shape[1], X_train.shape[2]))\n",
    "print(\"Number of training examples :\", X_test.shape[0], \"and each image is of shape (%d, %d)\"%(X_test.shape[1], X_test.shape[2]))"
   ]
  },
  {
   "cell_type": "code",
   "execution_count": 0,
   "metadata": {
    "colab": {},
    "colab_type": "code",
    "id": "hw9kNa7OPh2Z"
   },
   "outputs": [],
   "source": [
    "# if you observe the input shape its 3 dimensional vector\n",
    "# for each image we have a (28*28) vector\n",
    "# we will convert the (28*28) vector into single dimensional vector of 1 * 784 \n",
    "\n",
    "X_train = X_train.reshape(X_train.shape[0], X_train.shape[1]*X_train.shape[2]) \n",
    "X_test = X_test.reshape(X_test.shape[0], X_test.shape[1]*X_test.shape[2]) "
   ]
  },
  {
   "cell_type": "code",
   "execution_count": 0,
   "metadata": {
    "colab": {
     "base_uri": "https://localhost:8080/",
     "height": 51
    },
    "colab_type": "code",
    "id": "mRKyW3e7QHMh",
    "outputId": "6a5a9af4-1768-4d99-fb96-3e0275e66d24"
   },
   "outputs": [
    {
     "name": "stdout",
     "output_type": "stream",
     "text": [
      "Number of training examples : 60000 and each image is of shape (784)\n",
      "Number of training examples : 10000 and each image is of shape (784)\n"
     ]
    }
   ],
   "source": [
    "# after converting the input images from 3d to 2d vectors\n",
    "\n",
    "print(\"Number of training examples :\", X_train.shape[0], \"and each image is of shape (%d)\"%(X_train.shape[1]))\n",
    "print(\"Number of training examples :\", X_test.shape[0], \"and each image is of shape (%d)\"%(X_test.shape[1]))"
   ]
  },
  {
   "cell_type": "code",
   "execution_count": 0,
   "metadata": {
    "colab": {
     "base_uri": "https://localhost:8080/",
     "height": 765
    },
    "colab_type": "code",
    "id": "OTk9wbyjQLZY",
    "outputId": "b2bf449f-5dbf-4354-a6ab-48113908a685"
   },
   "outputs": [
    {
     "name": "stdout",
     "output_type": "stream",
     "text": [
      "[  0   0   0   0   0   0   0   0   0   0   0   0   0   0   0   0   0   0\n",
      "   0   0   0   0   0   0   0   0   0   0   0   0   0   0   0   0   0   0\n",
      "   0   0   0   0   0   0   0   0   0   0   0   0   0   0   0   0   0   0\n",
      "   0   0   0   0   0   0   0   0   0   0   0   0   0   0   0   0   0   0\n",
      "   0   0   0   0   0   0   0   0   0   0   0   0   0   0   0   0   0   0\n",
      "   0   0   0   0   0   0   0   0   0   0   0   0   0   0   0   0   0   0\n",
      "   0   0   0   0   0   0   0   0   0   0   0   0   0   0   0   0   0   0\n",
      "   0  51 159 253 159  50   0   0   0   0   0   0   0   0   0   0   0   0\n",
      "   0   0   0   0   0   0   0   0   0   0  48 238 252 252 252 237   0   0\n",
      "   0   0   0   0   0   0   0   0   0   0   0   0   0   0   0   0   0   0\n",
      "   0  54 227 253 252 239 233 252  57   6   0   0   0   0   0   0   0   0\n",
      "   0   0   0   0   0   0   0   0   0  10  60 224 252 253 252 202  84 252\n",
      " 253 122   0   0   0   0   0   0   0   0   0   0   0   0   0   0   0   0\n",
      "   0 163 252 252 252 253 252 252  96 189 253 167   0   0   0   0   0   0\n",
      "   0   0   0   0   0   0   0   0   0   0  51 238 253 253 190 114 253 228\n",
      "  47  79 255 168   0   0   0   0   0   0   0   0   0   0   0   0   0   0\n",
      "   0  48 238 252 252 179  12  75 121  21   0   0 253 243  50   0   0   0\n",
      "   0   0   0   0   0   0   0   0   0   0  38 165 253 233 208  84   0   0\n",
      "   0   0   0   0 253 252 165   0   0   0   0   0   0   0   0   0   0   0\n",
      "   0   7 178 252 240  71  19  28   0   0   0   0   0   0 253 252 195   0\n",
      "   0   0   0   0   0   0   0   0   0   0   0  57 252 252  63   0   0   0\n",
      "   0   0   0   0   0   0 253 252 195   0   0   0   0   0   0   0   0   0\n",
      "   0   0   0 198 253 190   0   0   0   0   0   0   0   0   0   0 255 253\n",
      " 196   0   0   0   0   0   0   0   0   0   0   0  76 246 252 112   0   0\n",
      "   0   0   0   0   0   0   0   0 253 252 148   0   0   0   0   0   0   0\n",
      "   0   0   0   0  85 252 230  25   0   0   0   0   0   0   0   0   7 135\n",
      " 253 186  12   0   0   0   0   0   0   0   0   0   0   0  85 252 223   0\n",
      "   0   0   0   0   0   0   0   7 131 252 225  71   0   0   0   0   0   0\n",
      "   0   0   0   0   0   0  85 252 145   0   0   0   0   0   0   0  48 165\n",
      " 252 173   0   0   0   0   0   0   0   0   0   0   0   0   0   0  86 253\n",
      " 225   0   0   0   0   0   0 114 238 253 162   0   0   0   0   0   0   0\n",
      "   0   0   0   0   0   0   0   0  85 252 249 146  48  29  85 178 225 253\n",
      " 223 167  56   0   0   0   0   0   0   0   0   0   0   0   0   0   0   0\n",
      "  85 252 252 252 229 215 252 252 252 196 130   0   0   0   0   0   0   0\n",
      "   0   0   0   0   0   0   0   0   0   0  28 199 252 252 253 252 252 233\n",
      " 145   0   0   0   0   0   0   0   0   0   0   0   0   0   0   0   0   0\n",
      "   0   0   0  25 128 252 253 252 141  37   0   0   0   0   0   0   0   0\n",
      "   0   0   0   0   0   0   0   0   0   0   0   0   0   0   0   0   0   0\n",
      "   0   0   0   0   0   0   0   0   0   0   0   0   0   0   0   0   0   0\n",
      "   0   0   0   0   0   0   0   0   0   0   0   0   0   0   0   0   0   0\n",
      "   0   0   0   0   0   0   0   0   0   0   0   0   0   0   0   0   0   0\n",
      "   0   0   0   0   0   0   0   0   0   0   0   0   0   0   0   0   0   0\n",
      "   0   0   0   0   0   0   0   0   0   0   0   0   0   0   0   0   0   0\n",
      "   0   0   0   0   0   0   0   0   0   0]\n"
     ]
    }
   ],
   "source": [
    "print(X_train[1])"
   ]
  },
  {
   "cell_type": "code",
   "execution_count": 0,
   "metadata": {
    "colab": {},
    "colab_type": "code",
    "id": "_LJiiGN-QV1W"
   },
   "outputs": [],
   "source": [
    "# if we observe the above matrix each cell is having a value between 0-255\n",
    "# before we move to apply machine learning algorithms lets try to normalize the data\n",
    "# X => (X - Xmin)/(Xmax-Xmin) = X/255\n",
    "\n",
    "X_train = X_train/255\n",
    "X_test = X_test/255"
   ]
  },
  {
   "cell_type": "code",
   "execution_count": 0,
   "metadata": {
    "colab": {
     "base_uri": "https://localhost:8080/",
     "height": 51
    },
    "colab_type": "code",
    "id": "jB3L9iTxQfjC",
    "outputId": "a6da1b75-5f07-4b7f-e80e-3f63e4f92e66"
   },
   "outputs": [
    {
     "name": "stdout",
     "output_type": "stream",
     "text": [
      "Class label of first image : 5\n",
      "After converting the output into a vector :  [0. 0. 0. 0. 0. 1. 0. 0. 0. 0.]\n"
     ]
    }
   ],
   "source": [
    "# here we are having a class number for each image\n",
    "print(\"Class label of first image :\", y_train[0])\n",
    "\n",
    "# lets convert this into a 10 dimensional vector\n",
    "# ex: consider an image is 5 convert it into 5 => [0, 0, 0, 0, 0, 1, 0, 0, 0, 0]\n",
    "# this conversion needed for MLPs \n",
    "\n",
    "Y_train = np_utils.to_categorical(y_train, 10) \n",
    "Y_test = np_utils.to_categorical(y_test, 10)\n",
    "\n",
    "print(\"After converting the output into a vector : \",Y_train[0])"
   ]
  },
  {
   "cell_type": "code",
   "execution_count": 0,
   "metadata": {
    "colab": {},
    "colab_type": "code",
    "id": "i5JBbSanRVB_"
   },
   "outputs": [],
   "source": [
    "from keras.models import Sequential \n",
    "from keras.layers import Dense, Activation \n",
    "from keras.layers import BatchNormalization\n",
    "from keras.layers import Dropout"
   ]
  },
  {
   "cell_type": "code",
   "execution_count": 0,
   "metadata": {
    "colab": {},
    "colab_type": "code",
    "id": "OkeZQl58RsHD"
   },
   "outputs": [],
   "source": [
    "# some model parameters\n",
    "\n",
    "output_dim = 10\n",
    "input_dim = X_train.shape[1]\n",
    "\n",
    "batch_size = 128 \n",
    "nb_epoch = 25"
   ]
  },
  {
   "cell_type": "markdown",
   "metadata": {
    "colab_type": "text",
    "id": "0kdsTpnyQoqV"
   },
   "source": [
    "# **Layer 2 Architecture**"
   ]
  },
  {
   "cell_type": "markdown",
   "metadata": {
    "colab_type": "text",
    "id": "ss7FZU4RRARs"
   },
   "source": [
    "**Without Dropout and Batch Norm**"
   ]
  },
  {
   "cell_type": "code",
   "execution_count": 0,
   "metadata": {
    "colab": {
     "base_uri": "https://localhost:8080/",
     "height": 238
    },
    "colab_type": "code",
    "id": "kp6H4cFbQk9F",
    "outputId": "71f05fd7-9fd5-4d3e-ba2e-643b4bac7cd5"
   },
   "outputs": [
    {
     "name": "stdout",
     "output_type": "stream",
     "text": [
      "_________________________________________________________________\n",
      "Layer (type)                 Output Shape              Param #   \n",
      "=================================================================\n",
      "dense_53 (Dense)             (None, 256)               200960    \n",
      "_________________________________________________________________\n",
      "dense_54 (Dense)             (None, 128)               32896     \n",
      "_________________________________________________________________\n",
      "dense_55 (Dense)             (None, 10)                1290      \n",
      "=================================================================\n",
      "Total params: 235,146\n",
      "Trainable params: 235,146\n",
      "Non-trainable params: 0\n",
      "_________________________________________________________________\n"
     ]
    }
   ],
   "source": [
    "model_2layer=Sequential()\n",
    "model_2layer.add(Dense(256,activation='relu',input_dim=input_dim,))\n",
    "model_2layer.add(Dense(128,activation='relu'))\n",
    "model_2layer.add(Dense(output_dim,activation='softmax'))\n",
    "model_2layer.summary()"
   ]
  },
  {
   "cell_type": "code",
   "execution_count": 0,
   "metadata": {
    "colab": {
     "base_uri": "https://localhost:8080/",
     "height": 884
    },
    "colab_type": "code",
    "id": "xX4DUDX2dEqG",
    "outputId": "9d268cd0-0402-4af1-ed50-24e5face59e4"
   },
   "outputs": [
    {
     "name": "stdout",
     "output_type": "stream",
     "text": [
      "Train on 60000 samples, validate on 10000 samples\n",
      "Epoch 1/25\n",
      "60000/60000 [==============================] - 4s 68us/step - loss: 0.2720 - acc: 0.9219 - val_loss: 0.1321 - val_acc: 0.9601\n",
      "Epoch 2/25\n",
      "60000/60000 [==============================] - 3s 46us/step - loss: 0.1038 - acc: 0.9686 - val_loss: 0.0940 - val_acc: 0.9709\n",
      "Epoch 3/25\n",
      "60000/60000 [==============================] - 3s 46us/step - loss: 0.0671 - acc: 0.9794 - val_loss: 0.0883 - val_acc: 0.9745\n",
      "Epoch 4/25\n",
      "60000/60000 [==============================] - 3s 46us/step - loss: 0.0483 - acc: 0.9854 - val_loss: 0.0854 - val_acc: 0.9753\n",
      "Epoch 5/25\n",
      "60000/60000 [==============================] - 3s 46us/step - loss: 0.0364 - acc: 0.9885 - val_loss: 0.0682 - val_acc: 0.9800\n",
      "Epoch 6/25\n",
      "60000/60000 [==============================] - 3s 47us/step - loss: 0.0260 - acc: 0.9920 - val_loss: 0.0707 - val_acc: 0.9790\n",
      "Epoch 7/25\n",
      "60000/60000 [==============================] - 3s 46us/step - loss: 0.0224 - acc: 0.9927 - val_loss: 0.0787 - val_acc: 0.9773\n",
      "Epoch 8/25\n",
      "60000/60000 [==============================] - 3s 46us/step - loss: 0.0176 - acc: 0.9943 - val_loss: 0.0800 - val_acc: 0.9795\n",
      "Epoch 9/25\n",
      "60000/60000 [==============================] - 3s 47us/step - loss: 0.0177 - acc: 0.9944 - val_loss: 0.0778 - val_acc: 0.9800\n",
      "Epoch 10/25\n",
      "60000/60000 [==============================] - 3s 46us/step - loss: 0.0115 - acc: 0.9962 - val_loss: 0.0945 - val_acc: 0.9746\n",
      "Epoch 11/25\n",
      "60000/60000 [==============================] - 3s 46us/step - loss: 0.0114 - acc: 0.9961 - val_loss: 0.0872 - val_acc: 0.9785\n",
      "Epoch 12/25\n",
      "60000/60000 [==============================] - 3s 46us/step - loss: 0.0139 - acc: 0.9953 - val_loss: 0.0765 - val_acc: 0.9813\n",
      "Epoch 13/25\n",
      "60000/60000 [==============================] - 3s 46us/step - loss: 0.0101 - acc: 0.9966 - val_loss: 0.0876 - val_acc: 0.9781\n",
      "Epoch 14/25\n",
      "60000/60000 [==============================] - 3s 46us/step - loss: 0.0089 - acc: 0.9971 - val_loss: 0.0949 - val_acc: 0.9789\n",
      "Epoch 15/25\n",
      "60000/60000 [==============================] - 3s 46us/step - loss: 0.0077 - acc: 0.9974 - val_loss: 0.1228 - val_acc: 0.9755\n",
      "Epoch 16/25\n",
      "60000/60000 [==============================] - 3s 46us/step - loss: 0.0119 - acc: 0.9960 - val_loss: 0.0786 - val_acc: 0.9823\n",
      "Epoch 17/25\n",
      "60000/60000 [==============================] - 3s 46us/step - loss: 0.0050 - acc: 0.9985 - val_loss: 0.1155 - val_acc: 0.9775\n",
      "Epoch 18/25\n",
      "60000/60000 [==============================] - 3s 46us/step - loss: 0.0076 - acc: 0.9975 - val_loss: 0.0926 - val_acc: 0.9810\n",
      "Epoch 19/25\n",
      "60000/60000 [==============================] - 3s 46us/step - loss: 0.0071 - acc: 0.9977 - val_loss: 0.1046 - val_acc: 0.9791\n",
      "Epoch 20/25\n",
      "60000/60000 [==============================] - 3s 47us/step - loss: 0.0085 - acc: 0.9969 - val_loss: 0.0940 - val_acc: 0.9814\n",
      "Epoch 21/25\n",
      "60000/60000 [==============================] - 3s 46us/step - loss: 0.0053 - acc: 0.9981 - val_loss: 0.0884 - val_acc: 0.9833\n",
      "Epoch 22/25\n",
      "60000/60000 [==============================] - 3s 46us/step - loss: 0.0066 - acc: 0.9980 - val_loss: 0.0957 - val_acc: 0.9815\n",
      "Epoch 23/25\n",
      "60000/60000 [==============================] - 3s 46us/step - loss: 0.0044 - acc: 0.9987 - val_loss: 0.0998 - val_acc: 0.9811\n",
      "Epoch 24/25\n",
      "60000/60000 [==============================] - 3s 46us/step - loss: 0.0079 - acc: 0.9975 - val_loss: 0.0851 - val_acc: 0.9826\n",
      "Epoch 25/25\n",
      "60000/60000 [==============================] - 3s 46us/step - loss: 0.0056 - acc: 0.9983 - val_loss: 0.0895 - val_acc: 0.9832\n"
     ]
    }
   ],
   "source": [
    "model_2layer.compile(optimizer='adam',loss='categorical_crossentropy',metrics=['accuracy'])\n",
    "history=model_2layer.fit(X_train,Y_train,batch_size=batch_size,verbose=1,epochs=nb_epoch,validation_data=(X_test,Y_test))"
   ]
  },
  {
   "cell_type": "code",
   "execution_count": 0,
   "metadata": {
    "colab": {
     "base_uri": "https://localhost:8080/",
     "height": 51
    },
    "colab_type": "code",
    "id": "j59GQ7qVh4II",
    "outputId": "6ef63a54-61ef-4f73-fcb0-bb2d033819c7"
   },
   "outputs": [
    {
     "name": "stdout",
     "output_type": "stream",
     "text": [
      "Test score: 0.08952387685645236\n",
      "Test accuracy: 0.9832\n"
     ]
    }
   ],
   "source": [
    "score = model_2layer.evaluate(X_test, Y_test, verbose=0) \n",
    "print('Test score:', score[0]) \n",
    "print('Test accuracy:', score[1])"
   ]
  },
  {
   "cell_type": "code",
   "execution_count": 0,
   "metadata": {
    "colab": {
     "base_uri": "https://localhost:8080/",
     "height": 279
    },
    "colab_type": "code",
    "id": "SjkeuUwXkpM1",
    "outputId": "8355c61a-82b2-4584-afac-a0401fca7709"
   },
   "outputs": [
    {
     "data": {
      "image/png": "[encoded data removed]",
      "text/plain": [
       "<Figure size 432x288 with 1 Axes>"
      ]
     },
     "metadata": {
      "tags": []
     },
     "output_type": "display_data"
    }
   ],
   "source": [
    "fig,ax = plt.subplots(1,1)\n",
    "ax.set_xlabel('epoch') ; ax.set_ylabel('Categorical Crossentropy Loss')\n",
    "\n",
    "# list of epoch numbers\n",
    "x = list(range(1,nb_epoch+1))\n",
    "vy = history.history['val_loss']\n",
    "ty = history.history['loss']\n",
    "plt_dynamic(x, vy, ty, ax)"
   ]
  },
  {
   "cell_type": "markdown",
   "metadata": {
    "colab_type": "text",
    "id": "pIyrDeoWqLSB"
   },
   "source": [
    "Thus , our validation loss is far more than training loss in this architecture and setting."
   ]
  },
  {
   "cell_type": "code",
   "execution_count": 0,
   "metadata": {
    "colab": {
     "base_uri": "https://localhost:8080/",
     "height": 339
    },
    "colab_type": "code",
    "id": "ODHbnNNSwGjb",
    "outputId": "330032f5-7c04-42cc-e940-64d9bc12d03e"
   },
   "outputs": [
    {
     "data": {
      "image/png": "[encoded data removed]",
      "text/plain": [
       "<Figure size 720x360 with 3 Axes>"
      ]
     },
     "metadata": {
      "tags": []
     },
     "output_type": "display_data"
    }
   ],
   "source": [
    "w_after = model_2layer.get_weights()\n",
    "\n",
    "h1_w = w_after[0].flatten().reshape(-1,1)\n",
    "h2_w = w_after[2].flatten().reshape(-1,1)\n",
    "out_w = w_after[4].flatten().reshape(-1,1)\n",
    "\n",
    "\n",
    "fig = plt.figure(figsize=(10,5))\n",
    "plt.title(\"Weight matrices after model trained\")\n",
    "plt.subplot(1, 3, 1)\n",
    "plt.title(\"Trained model Weights\")\n",
    "ax = sns.violinplot(y=h1_w,color='b')\n",
    "plt.xlabel('Hidden Layer 1')\n",
    "\n",
    "plt.subplot(1, 3, 2)\n",
    "plt.title(\"Trained model Weights\")\n",
    "ax = sns.violinplot(y=h2_w, color='r')\n",
    "plt.xlabel('Hidden Layer 2 ')\n",
    "\n",
    "plt.subplot(1, 3, 3)\n",
    "plt.title(\"Trained model Weights\")\n",
    "ax = sns.violinplot(y=out_w,color='y')\n",
    "plt.xlabel('Output Layer ')\n",
    "plt.show()"
   ]
  },
  {
   "cell_type": "markdown",
   "metadata": {
    "colab_type": "text",
    "id": "BjrjBanXsFnM"
   },
   "source": [
    "**With Batch Norm and without Dropout**"
   ]
  },
  {
   "cell_type": "code",
   "execution_count": 0,
   "metadata": {
    "colab": {
     "base_uri": "https://localhost:8080/",
     "height": 306
    },
    "colab_type": "code",
    "id": "wlR6noE3sU_u",
    "outputId": "6c39e3af-9b83-4917-ba34-591b3d2ba315"
   },
   "outputs": [
    {
     "name": "stdout",
     "output_type": "stream",
     "text": [
      "_________________________________________________________________\n",
      "Layer (type)                 Output Shape              Param #   \n",
      "=================================================================\n",
      "dense_56 (Dense)             (None, 256)               200960    \n",
      "_________________________________________________________________\n",
      "batch_normalization_26 (Batc (None, 256)               1024      \n",
      "_________________________________________________________________\n",
      "dense_57 (Dense)             (None, 128)               32896     \n",
      "_________________________________________________________________\n",
      "batch_normalization_27 (Batc (None, 128)               512       \n",
      "_________________________________________________________________\n",
      "dense_58 (Dense)             (None, 10)                1290      \n",
      "=================================================================\n",
      "Total params: 236,682\n",
      "Trainable params: 235,914\n",
      "Non-trainable params: 768\n",
      "_________________________________________________________________\n"
     ]
    }
   ],
   "source": [
    "model_2layer=Sequential()\n",
    "model_2layer.add(Dense(256,activation='relu',input_dim=input_dim,))\n",
    "model_2layer.add(BatchNormalization())\n",
    "model_2layer.add(Dense(128,activation='relu'))\n",
    "model_2layer.add(BatchNormalization())\n",
    "model_2layer.add(Dense(output_dim,activation='softmax'))\n",
    "model_2layer.summary()"
   ]
  },
  {
   "cell_type": "code",
   "execution_count": 0,
   "metadata": {
    "colab": {
     "base_uri": "https://localhost:8080/",
     "height": 884
    },
    "colab_type": "code",
    "id": "VyWXrGvIySlh",
    "outputId": "d0214006-8950-4ef4-d2c3-7c9a36c2b4c7"
   },
   "outputs": [
    {
     "name": "stdout",
     "output_type": "stream",
     "text": [
      "Train on 60000 samples, validate on 10000 samples\n",
      "Epoch 1/25\n",
      "60000/60000 [==============================] - 6s 108us/step - loss: 0.2060 - acc: 0.9391 - val_loss: 0.1102 - val_acc: 0.9661\n",
      "Epoch 2/25\n",
      "60000/60000 [==============================] - 4s 75us/step - loss: 0.0782 - acc: 0.9757 - val_loss: 0.0885 - val_acc: 0.9719\n",
      "Epoch 3/25\n",
      "60000/60000 [==============================] - 5s 76us/step - loss: 0.0508 - acc: 0.9843 - val_loss: 0.0821 - val_acc: 0.9724\n",
      "Epoch 4/25\n",
      "60000/60000 [==============================] - 4s 75us/step - loss: 0.0365 - acc: 0.9886 - val_loss: 0.0744 - val_acc: 0.9775\n",
      "Epoch 5/25\n",
      "60000/60000 [==============================] - 5s 75us/step - loss: 0.0298 - acc: 0.9903 - val_loss: 0.0836 - val_acc: 0.9751\n",
      "Epoch 6/25\n",
      "60000/60000 [==============================] - 5s 75us/step - loss: 0.0247 - acc: 0.9920 - val_loss: 0.0715 - val_acc: 0.9801\n",
      "Epoch 7/25\n",
      "60000/60000 [==============================] - 4s 75us/step - loss: 0.0198 - acc: 0.9936 - val_loss: 0.0740 - val_acc: 0.9765\n",
      "Epoch 8/25\n",
      "60000/60000 [==============================] - 4s 74us/step - loss: 0.0176 - acc: 0.9941 - val_loss: 0.0793 - val_acc: 0.9776\n",
      "Epoch 9/25\n",
      "60000/60000 [==============================] - 5s 75us/step - loss: 0.0170 - acc: 0.9943 - val_loss: 0.0819 - val_acc: 0.9782\n",
      "Epoch 10/25\n",
      "60000/60000 [==============================] - 5s 75us/step - loss: 0.0145 - acc: 0.9953 - val_loss: 0.0826 - val_acc: 0.9776\n",
      "Epoch 11/25\n",
      "60000/60000 [==============================] - 4s 75us/step - loss: 0.0126 - acc: 0.9956 - val_loss: 0.0966 - val_acc: 0.9747\n",
      "Epoch 12/25\n",
      "60000/60000 [==============================] - 4s 74us/step - loss: 0.0131 - acc: 0.9955 - val_loss: 0.0865 - val_acc: 0.9773\n",
      "Epoch 13/25\n",
      "60000/60000 [==============================] - 4s 74us/step - loss: 0.0117 - acc: 0.9963 - val_loss: 0.0805 - val_acc: 0.9777\n",
      "Epoch 14/25\n",
      "60000/60000 [==============================] - 4s 75us/step - loss: 0.0090 - acc: 0.9970 - val_loss: 0.0961 - val_acc: 0.9756\n",
      "Epoch 15/25\n",
      "60000/60000 [==============================] - 5s 75us/step - loss: 0.0098 - acc: 0.9970 - val_loss: 0.0847 - val_acc: 0.9790\n",
      "Epoch 16/25\n",
      "60000/60000 [==============================] - 4s 75us/step - loss: 0.0112 - acc: 0.9964 - val_loss: 0.0868 - val_acc: 0.9781\n",
      "Epoch 17/25\n",
      "60000/60000 [==============================] - 5s 75us/step - loss: 0.0096 - acc: 0.9969 - val_loss: 0.0776 - val_acc: 0.9806\n",
      "Epoch 18/25\n",
      "60000/60000 [==============================] - 5s 75us/step - loss: 0.0089 - acc: 0.9969 - val_loss: 0.0817 - val_acc: 0.9791\n",
      "Epoch 19/25\n",
      "60000/60000 [==============================] - 5s 75us/step - loss: 0.0072 - acc: 0.9976 - val_loss: 0.0845 - val_acc: 0.9795\n",
      "Epoch 20/25\n",
      "60000/60000 [==============================] - 5s 75us/step - loss: 0.0088 - acc: 0.9969 - val_loss: 0.0867 - val_acc: 0.9801\n",
      "Epoch 21/25\n",
      "60000/60000 [==============================] - 5s 75us/step - loss: 0.0057 - acc: 0.9980 - val_loss: 0.0804 - val_acc: 0.9807\n",
      "Epoch 22/25\n",
      "60000/60000 [==============================] - 5s 75us/step - loss: 0.0064 - acc: 0.9978 - val_loss: 0.0798 - val_acc: 0.9802\n",
      "Epoch 23/25\n",
      "60000/60000 [==============================] - 4s 75us/step - loss: 0.0068 - acc: 0.9976 - val_loss: 0.0866 - val_acc: 0.9801\n",
      "Epoch 24/25\n",
      "60000/60000 [==============================] - 4s 75us/step - loss: 0.0054 - acc: 0.9984 - val_loss: 0.0796 - val_acc: 0.9816\n",
      "Epoch 25/25\n",
      "60000/60000 [==============================] - 4s 75us/step - loss: 0.0059 - acc: 0.9981 - val_loss: 0.0840 - val_acc: 0.9809\n"
     ]
    }
   ],
   "source": [
    "model_2layer.compile(optimizer='adam',loss='categorical_crossentropy',metrics=['accuracy'])\n",
    "history=model_2layer.fit(X_train,Y_train,batch_size=batch_size,verbose=1,epochs=nb_epoch,validation_data=(X_test,Y_test))"
   ]
  },
  {
   "cell_type": "code",
   "execution_count": 0,
   "metadata": {
    "colab": {
     "base_uri": "https://localhost:8080/",
     "height": 279
    },
    "colab_type": "code",
    "id": "RoXoQemHzBP7",
    "outputId": "8ae4aaa4-59a1-4011-f011-2bf53b6ecfe2"
   },
   "outputs": [
    {
     "data": {
      "image/png": "[encoded data removed]",
      "text/plain": [
       "<Figure size 432x288 with 1 Axes>"
      ]
     },
     "metadata": {
      "tags": []
     },
     "output_type": "display_data"
    }
   ],
   "source": [
    "fig,ax = plt.subplots(1,1)\n",
    "ax.set_xlabel('epoch') ; ax.set_ylabel('Categorical Crossentropy Loss')\n",
    "\n",
    "# list of epoch numbers\n",
    "x = list(range(1,nb_epoch+1))\n",
    "vy = history.history['val_loss']\n",
    "ty = history.history['loss']\n",
    "plt_dynamic(x, vy, ty, ax)"
   ]
  },
  {
   "cell_type": "code",
   "execution_count": 0,
   "metadata": {
    "colab": {
     "base_uri": "https://localhost:8080/",
     "height": 339
    },
    "colab_type": "code",
    "id": "iCALnBPn0OLa",
    "outputId": "75581896-0f75-4d9f-f057-2bb6f6fcc9e8"
   },
   "outputs": [
    {
     "data": {
      "image/png": "[encoded data removed]",
      "text/plain": [
       "<Figure size 720x360 with 3 Axes>"
      ]
     },
     "metadata": {
      "tags": []
     },
     "output_type": "display_data"
    }
   ],
   "source": [
    "w_after = model_2layer.get_weights()\n",
    "\n",
    "h1_w = w_after[0].flatten().reshape(-1,1)\n",
    "h2_w = w_after[2].flatten().reshape(-1,1)\n",
    "out_w = w_after[4].flatten().reshape(-1,1)\n",
    "\n",
    "\n",
    "fig = plt.figure(figsize=(10,5))\n",
    "plt.title(\"Weight matrices after model trained\")\n",
    "plt.subplot(1, 3, 1)\n",
    "plt.title(\"Trained model Weights\")\n",
    "ax = sns.violinplot(y=h1_w,color='b')\n",
    "plt.xlabel('Hidden Layer 1')\n",
    "\n",
    "plt.subplot(1, 3, 2)\n",
    "plt.title(\"Trained model Weights\")\n",
    "ax = sns.violinplot(y=h2_w, color='r')\n",
    "plt.xlabel('Hidden Layer 2 ')\n",
    "\n",
    "plt.subplot(1, 3, 3)\n",
    "plt.title(\"Trained model Weights\")\n",
    "ax = sns.violinplot(y=out_w,color='y')\n",
    "plt.xlabel('Output Layer ')\n",
    "plt.show()"
   ]
  },
  {
   "cell_type": "markdown",
   "metadata": {
    "colab_type": "text",
    "id": "OT9KRR7d9pEp"
   },
   "source": [
    "Thus, we see that after adding batchnorm layer we get slightly better accuracy. Also, one thing to notice is that the weight distribution has changed for hidden layer 2 and output layer after applying batchnorm."
   ]
  },
  {
   "cell_type": "markdown",
   "metadata": {
    "colab_type": "text",
    "id": "yUqcCmsj-GFc"
   },
   "source": [
    "**With BatchNorm and Dropout**"
   ]
  },
  {
   "cell_type": "code",
   "execution_count": 0,
   "metadata": {
    "colab": {
     "base_uri": "https://localhost:8080/",
     "height": 374
    },
    "colab_type": "code",
    "id": "KuKroc3m-LeN",
    "outputId": "b55fd885-e0a2-4152-c307-24c5147661d7"
   },
   "outputs": [
    {
     "name": "stdout",
     "output_type": "stream",
     "text": [
      "_________________________________________________________________\n",
      "Layer (type)                 Output Shape              Param #   \n",
      "=================================================================\n",
      "dense_59 (Dense)             (None, 256)               200960    \n",
      "_________________________________________________________________\n",
      "batch_normalization_28 (Batc (None, 256)               1024      \n",
      "_________________________________________________________________\n",
      "dropout_16 (Dropout)         (None, 256)               0         \n",
      "_________________________________________________________________\n",
      "dense_60 (Dense)             (None, 128)               32896     \n",
      "_________________________________________________________________\n",
      "batch_normalization_29 (Batc (None, 128)               512       \n",
      "_________________________________________________________________\n",
      "dropout_17 (Dropout)         (None, 128)               0         \n",
      "_________________________________________________________________\n",
      "dense_61 (Dense)             (None, 10)                1290      \n",
      "=================================================================\n",
      "Total params: 236,682\n",
      "Trainable params: 235,914\n",
      "Non-trainable params: 768\n",
      "_________________________________________________________________\n"
     ]
    }
   ],
   "source": [
    "model_2layer=Sequential()\n",
    "model_2layer.add(Dense(256,activation='relu',input_dim=input_dim,))\n",
    "model_2layer.add(BatchNormalization())\n",
    "model_2layer.add(Dropout(0.5))\n",
    "model_2layer.add(Dense(128,activation='relu'))\n",
    "model_2layer.add(BatchNormalization())\n",
    "model_2layer.add(Dropout(0.5))\n",
    "model_2layer.add(Dense(output_dim,activation='softmax'))\n",
    "model_2layer.summary()"
   ]
  },
  {
   "cell_type": "code",
   "execution_count": 0,
   "metadata": {
    "colab": {
     "base_uri": "https://localhost:8080/",
     "height": 884
    },
    "colab_type": "code",
    "id": "j9UitTs7-miI",
    "outputId": "caafbb74-933d-4c63-a6f2-b387e5fa169c"
   },
   "outputs": [
    {
     "name": "stdout",
     "output_type": "stream",
     "text": [
      "Train on 60000 samples, validate on 10000 samples\n",
      "Epoch 1/25\n",
      "60000/60000 [==============================] - 7s 114us/step - loss: 0.4945 - acc: 0.8497 - val_loss: 0.1751 - val_acc: 0.9456\n",
      "Epoch 2/25\n",
      "60000/60000 [==============================] - 5s 77us/step - loss: 0.2415 - acc: 0.9273 - val_loss: 0.1188 - val_acc: 0.9628\n",
      "Epoch 3/25\n",
      "60000/60000 [==============================] - 5s 78us/step - loss: 0.1950 - acc: 0.9419 - val_loss: 0.1012 - val_acc: 0.9674\n",
      "Epoch 4/25\n",
      "60000/60000 [==============================] - 5s 77us/step - loss: 0.1699 - acc: 0.9501 - val_loss: 0.0898 - val_acc: 0.9719\n",
      "Epoch 5/25\n",
      "60000/60000 [==============================] - 5s 78us/step - loss: 0.1474 - acc: 0.9549 - val_loss: 0.0787 - val_acc: 0.9755\n",
      "Epoch 6/25\n",
      "60000/60000 [==============================] - 5s 77us/step - loss: 0.1371 - acc: 0.9586 - val_loss: 0.0787 - val_acc: 0.9757\n",
      "Epoch 7/25\n",
      "60000/60000 [==============================] - 5s 78us/step - loss: 0.1245 - acc: 0.9620 - val_loss: 0.0771 - val_acc: 0.9759\n",
      "Epoch 8/25\n",
      "60000/60000 [==============================] - 5s 78us/step - loss: 0.1199 - acc: 0.9630 - val_loss: 0.0726 - val_acc: 0.9776\n",
      "Epoch 9/25\n",
      "60000/60000 [==============================] - 5s 78us/step - loss: 0.1121 - acc: 0.9662 - val_loss: 0.0722 - val_acc: 0.9786\n",
      "Epoch 10/25\n",
      "60000/60000 [==============================] - 5s 77us/step - loss: 0.1054 - acc: 0.9676 - val_loss: 0.0742 - val_acc: 0.9778\n",
      "Epoch 11/25\n",
      "60000/60000 [==============================] - 5s 77us/step - loss: 0.0983 - acc: 0.9702 - val_loss: 0.0679 - val_acc: 0.9788\n",
      "Epoch 12/25\n",
      "60000/60000 [==============================] - 5s 77us/step - loss: 0.0967 - acc: 0.9705 - val_loss: 0.0642 - val_acc: 0.9787\n",
      "Epoch 13/25\n",
      "60000/60000 [==============================] - 5s 77us/step - loss: 0.0902 - acc: 0.9725 - val_loss: 0.0668 - val_acc: 0.9793\n",
      "Epoch 14/25\n",
      "60000/60000 [==============================] - 5s 78us/step - loss: 0.0909 - acc: 0.9722 - val_loss: 0.0643 - val_acc: 0.9810\n",
      "Epoch 15/25\n",
      "60000/60000 [==============================] - 5s 77us/step - loss: 0.0868 - acc: 0.9729 - val_loss: 0.0653 - val_acc: 0.9804\n",
      "Epoch 16/25\n",
      "60000/60000 [==============================] - 5s 77us/step - loss: 0.0830 - acc: 0.9747 - val_loss: 0.0619 - val_acc: 0.9822\n",
      "Epoch 17/25\n",
      "60000/60000 [==============================] - 5s 77us/step - loss: 0.0792 - acc: 0.9753 - val_loss: 0.0661 - val_acc: 0.9806\n",
      "Epoch 18/25\n",
      "60000/60000 [==============================] - 5s 77us/step - loss: 0.0766 - acc: 0.9754 - val_loss: 0.0679 - val_acc: 0.9800\n",
      "Epoch 19/25\n",
      "60000/60000 [==============================] - 5s 77us/step - loss: 0.0743 - acc: 0.9767 - val_loss: 0.0622 - val_acc: 0.9816\n",
      "Epoch 20/25\n",
      "60000/60000 [==============================] - 5s 78us/step - loss: 0.0722 - acc: 0.9771 - val_loss: 0.0592 - val_acc: 0.9808\n",
      "Epoch 21/25\n",
      "60000/60000 [==============================] - 5s 77us/step - loss: 0.0732 - acc: 0.9770 - val_loss: 0.0590 - val_acc: 0.9823\n",
      "Epoch 22/25\n",
      "60000/60000 [==============================] - 5s 77us/step - loss: 0.0685 - acc: 0.9782 - val_loss: 0.0570 - val_acc: 0.9816\n",
      "Epoch 23/25\n",
      "60000/60000 [==============================] - 5s 78us/step - loss: 0.0660 - acc: 0.9789 - val_loss: 0.0623 - val_acc: 0.9824\n",
      "Epoch 24/25\n",
      "60000/60000 [==============================] - 5s 78us/step - loss: 0.0661 - acc: 0.9787 - val_loss: 0.0557 - val_acc: 0.9826\n",
      "Epoch 25/25\n",
      "60000/60000 [==============================] - 5s 77us/step - loss: 0.0654 - acc: 0.9793 - val_loss: 0.0580 - val_acc: 0.9824\n"
     ]
    }
   ],
   "source": [
    "model_2layer.compile(optimizer='adam',loss='categorical_crossentropy',metrics=['accuracy'])\n",
    "history=model_2layer.fit(X_train,Y_train,batch_size=batch_size,verbose=1,epochs=nb_epoch,validation_data=(X_test,Y_test))"
   ]
  },
  {
   "cell_type": "code",
   "execution_count": 0,
   "metadata": {
    "colab": {
     "base_uri": "https://localhost:8080/",
     "height": 279
    },
    "colab_type": "code",
    "id": "g8WTKZ2o-uU1",
    "outputId": "288d8e27-99b9-4ec1-9b48-eff90427de11"
   },
   "outputs": [
    {
     "data": {
      "image/png": "[encoded data removed]",
      "text/plain": [
       "<Figure size 432x288 with 1 Axes>"
      ]
     },
     "metadata": {
      "tags": []
     },
     "output_type": "display_data"
    }
   ],
   "source": [
    "fig,ax = plt.subplots(1,1)\n",
    "ax.set_xlabel('epoch') ; ax.set_ylabel('Categorical Crossentropy Loss')\n",
    "\n",
    "# list of epoch numbers\n",
    "x = list(range(1,nb_epoch+1))\n",
    "vy = history.history['val_loss']\n",
    "ty = history.history['loss']\n",
    "plt_dynamic(x, vy, ty, ax)"
   ]
  },
  {
   "cell_type": "code",
   "execution_count": 0,
   "metadata": {
    "colab": {
     "base_uri": "https://localhost:8080/",
     "height": 339
    },
    "colab_type": "code",
    "id": "mHXJHNYp_NgL",
    "outputId": "b3ad3cb6-817d-4fd3-f72d-1ee7f7ec272a"
   },
   "outputs": [
    {
     "data": {
      "image/png": "[encoded data removed]",
      "text/plain": [
       "<Figure size 720x360 with 3 Axes>"
      ]
     },
     "metadata": {
      "tags": []
     },
     "output_type": "display_data"
    }
   ],
   "source": [
    "w_after = model_2layer.get_weights()\n",
    "\n",
    "h1_w = w_after[0].flatten().reshape(-1,1)\n",
    "h2_w = w_after[2].flatten().reshape(-1,1)\n",
    "out_w = w_after[4].flatten().reshape(-1,1)\n",
    "\n",
    "\n",
    "fig = plt.figure(figsize=(10,5))\n",
    "plt.title(\"Weight matrices after model trained\")\n",
    "plt.subplot(1, 3, 1)\n",
    "plt.title(\"Trained model Weights\")\n",
    "ax = sns.violinplot(y=h1_w,color='b')\n",
    "plt.xlabel('Hidden Layer 1')\n",
    "\n",
    "plt.subplot(1, 3, 2)\n",
    "plt.title(\"Trained model Weights\")\n",
    "ax = sns.violinplot(y=h2_w, color='r')\n",
    "plt.xlabel('Hidden Layer 2 ')\n",
    "\n",
    "plt.subplot(1, 3, 3)\n",
    "plt.title(\"Trained model Weights\")\n",
    "ax = sns.violinplot(y=out_w,color='y')\n",
    "plt.xlabel('Output Layer ')\n",
    "plt.show()"
   ]
  },
  {
   "cell_type": "markdown",
   "metadata": {
    "colab_type": "text",
    "id": "Ixomcmbh_dDL"
   },
   "source": [
    "Thus, after adding dropout we see that the train and validation loss are very close to each other. This is generally desired and indicates that our model is not overfitting."
   ]
  },
  {
   "cell_type": "code",
   "execution_count": 0,
   "metadata": {
    "colab": {},
    "colab_type": "code",
    "id": "drHZXX7m_u0R"
   },
   "outputs": [],
   "source": []
  },
  {
   "cell_type": "markdown",
   "metadata": {
    "colab_type": "text",
    "id": "bpJRUeo8__rf"
   },
   "source": [
    "# Layer 3 Architecture"
   ]
  },
  {
   "cell_type": "markdown",
   "metadata": {
    "colab_type": "text",
    "id": "jiQLPZq7DNe8"
   },
   "source": [
    "**Without BatchNorm and Dropout**"
   ]
  },
  {
   "cell_type": "code",
   "execution_count": 0,
   "metadata": {
    "colab": {
     "base_uri": "https://localhost:8080/",
     "height": 272
    },
    "colab_type": "code",
    "id": "IQzbwh0LAFRJ",
    "outputId": "30ad228f-639f-4fc7-db24-52a25deaf06a"
   },
   "outputs": [
    {
     "name": "stdout",
     "output_type": "stream",
     "text": [
      "_________________________________________________________________\n",
      "Layer (type)                 Output Shape              Param #   \n",
      "=================================================================\n",
      "dense_62 (Dense)             (None, 256)               200960    \n",
      "_________________________________________________________________\n",
      "dense_63 (Dense)             (None, 128)               32896     \n",
      "_________________________________________________________________\n",
      "dense_64 (Dense)             (None, 64)                8256      \n",
      "_________________________________________________________________\n",
      "dense_65 (Dense)             (None, 10)                650       \n",
      "=================================================================\n",
      "Total params: 242,762\n",
      "Trainable params: 242,762\n",
      "Non-trainable params: 0\n",
      "_________________________________________________________________\n"
     ]
    }
   ],
   "source": [
    "model_3layer=Sequential()\n",
    "model_3layer.add(Dense(256,activation='relu',input_dim=input_dim,))\n",
    "model_3layer.add(Dense(128,activation='relu'))\n",
    "model_3layer.add(Dense(64,activation='relu'))\n",
    "model_3layer.add(Dense(output_dim,activation='softmax'))\n",
    "model_3layer.summary()"
   ]
  },
  {
   "cell_type": "code",
   "execution_count": 0,
   "metadata": {
    "colab": {
     "base_uri": "https://localhost:8080/",
     "height": 884
    },
    "colab_type": "code",
    "id": "BkNe0_VWDTq5",
    "outputId": "0d03a1b7-6de6-4c20-8ea2-7f959976225b"
   },
   "outputs": [
    {
     "name": "stdout",
     "output_type": "stream",
     "text": [
      "Train on 60000 samples, validate on 10000 samples\n",
      "Epoch 1/25\n",
      "60000/60000 [==============================] - 5s 84us/step - loss: 0.2776 - acc: 0.9185 - val_loss: 0.1231 - val_acc: 0.9627\n",
      "Epoch 2/25\n",
      "60000/60000 [==============================] - 3s 51us/step - loss: 0.1016 - acc: 0.9685 - val_loss: 0.0847 - val_acc: 0.9735\n",
      "Epoch 3/25\n",
      "60000/60000 [==============================] - 3s 51us/step - loss: 0.0649 - acc: 0.9802 - val_loss: 0.0874 - val_acc: 0.9714\n",
      "Epoch 4/25\n",
      "60000/60000 [==============================] - 3s 51us/step - loss: 0.0476 - acc: 0.9847 - val_loss: 0.0850 - val_acc: 0.9738\n",
      "Epoch 5/25\n",
      "60000/60000 [==============================] - 3s 51us/step - loss: 0.0342 - acc: 0.9892 - val_loss: 0.0742 - val_acc: 0.9766\n",
      "Epoch 6/25\n",
      "60000/60000 [==============================] - 3s 51us/step - loss: 0.0281 - acc: 0.9912 - val_loss: 0.0776 - val_acc: 0.9784\n",
      "Epoch 7/25\n",
      "60000/60000 [==============================] - 3s 52us/step - loss: 0.0231 - acc: 0.9922 - val_loss: 0.0814 - val_acc: 0.9770\n",
      "Epoch 8/25\n",
      "60000/60000 [==============================] - 3s 52us/step - loss: 0.0185 - acc: 0.9937 - val_loss: 0.0890 - val_acc: 0.9760\n",
      "Epoch 9/25\n",
      "60000/60000 [==============================] - 3s 51us/step - loss: 0.0159 - acc: 0.9947 - val_loss: 0.0721 - val_acc: 0.9809\n",
      "Epoch 10/25\n",
      "60000/60000 [==============================] - 3s 51us/step - loss: 0.0171 - acc: 0.9944 - val_loss: 0.0915 - val_acc: 0.9780\n",
      "Epoch 11/25\n",
      "60000/60000 [==============================] - 3s 52us/step - loss: 0.0157 - acc: 0.9947 - val_loss: 0.1017 - val_acc: 0.9774\n",
      "Epoch 12/25\n",
      "60000/60000 [==============================] - 3s 51us/step - loss: 0.0120 - acc: 0.9961 - val_loss: 0.0862 - val_acc: 0.9814\n",
      "Epoch 13/25\n",
      "60000/60000 [==============================] - 3s 51us/step - loss: 0.0115 - acc: 0.9962 - val_loss: 0.0927 - val_acc: 0.9781\n",
      "Epoch 14/25\n",
      "60000/60000 [==============================] - 3s 51us/step - loss: 0.0130 - acc: 0.9957 - val_loss: 0.0806 - val_acc: 0.9821\n",
      "Epoch 15/25\n",
      "60000/60000 [==============================] - 3s 51us/step - loss: 0.0103 - acc: 0.9966 - val_loss: 0.0949 - val_acc: 0.9806\n",
      "Epoch 16/25\n",
      "60000/60000 [==============================] - 3s 51us/step - loss: 0.0092 - acc: 0.9970 - val_loss: 0.0903 - val_acc: 0.9787\n",
      "Epoch 17/25\n",
      "60000/60000 [==============================] - 3s 51us/step - loss: 0.0085 - acc: 0.9974 - val_loss: 0.0959 - val_acc: 0.9791\n",
      "Epoch 18/25\n",
      "60000/60000 [==============================] - 3s 51us/step - loss: 0.0110 - acc: 0.9967 - val_loss: 0.0889 - val_acc: 0.9815\n",
      "Epoch 19/25\n",
      "60000/60000 [==============================] - 3s 51us/step - loss: 0.0086 - acc: 0.9971 - val_loss: 0.1046 - val_acc: 0.9790\n",
      "Epoch 20/25\n",
      "60000/60000 [==============================] - 3s 51us/step - loss: 0.0105 - acc: 0.9967 - val_loss: 0.1003 - val_acc: 0.9799\n",
      "Epoch 21/25\n",
      "60000/60000 [==============================] - 3s 52us/step - loss: 0.0083 - acc: 0.9974 - val_loss: 0.0984 - val_acc: 0.9803\n",
      "Epoch 22/25\n",
      "60000/60000 [==============================] - 3s 51us/step - loss: 0.0068 - acc: 0.9976 - val_loss: 0.0922 - val_acc: 0.9810\n",
      "Epoch 23/25\n",
      "60000/60000 [==============================] - 3s 51us/step - loss: 0.0072 - acc: 0.9975 - val_loss: 0.0905 - val_acc: 0.9810\n",
      "Epoch 24/25\n",
      "60000/60000 [==============================] - 3s 51us/step - loss: 0.0042 - acc: 0.9988 - val_loss: 0.1072 - val_acc: 0.9793\n",
      "Epoch 25/25\n",
      "60000/60000 [==============================] - 3s 51us/step - loss: 0.0057 - acc: 0.9981 - val_loss: 0.1244 - val_acc: 0.9768\n"
     ]
    }
   ],
   "source": [
    "model_3layer.compile(optimizer='adam',loss='categorical_crossentropy',metrics=['accuracy'])\n",
    "history3=model_3layer.fit(X_train,Y_train,batch_size=batch_size,verbose=1,epochs=nb_epoch,validation_data=(X_test,Y_test))"
   ]
  },
  {
   "cell_type": "code",
   "execution_count": 0,
   "metadata": {
    "colab": {
     "base_uri": "https://localhost:8080/",
     "height": 279
    },
    "colab_type": "code",
    "id": "eNKOuApBEg5z",
    "outputId": "e46938ed-777f-4437-c7f0-60bca47b2a41"
   },
   "outputs": [
    {
     "data": {
      "image/png": "[encoded data removed]",
      "text/plain": [
       "<Figure size 432x288 with 1 Axes>"
      ]
     },
     "metadata": {
      "tags": []
     },
     "output_type": "display_data"
    }
   ],
   "source": [
    "fig,ax = plt.subplots(1,1)\n",
    "ax.set_xlabel('epoch') ; ax.set_ylabel('Categorical Crossentropy Loss')\n",
    "\n",
    "# list of epoch numbers\n",
    "x = list(range(1,nb_epoch+1))\n",
    "vy = history3.history['val_loss']\n",
    "ty = history3.history['loss']\n",
    "plt_dynamic(x, vy, ty, ax)"
   ]
  },
  {
   "cell_type": "code",
   "execution_count": 0,
   "metadata": {
    "colab": {
     "base_uri": "https://localhost:8080/",
     "height": 339
    },
    "colab_type": "code",
    "id": "SxAbicr1FQvF",
    "outputId": "fa0d5a77-8baa-4303-9c73-eea1aa15c0e9"
   },
   "outputs": [
    {
     "data": {
      "image/png": "[encoded data removed]",
      "text/plain": [
       "<Figure size 720x360 with 4 Axes>"
      ]
     },
     "metadata": {
      "tags": []
     },
     "output_type": "display_data"
    }
   ],
   "source": [
    "w_after = model_3layer.get_weights()\n",
    "\n",
    "h1_w = w_after[0].flatten().reshape(-1,1)\n",
    "h2_w = w_after[2].flatten().reshape(-1,1)\n",
    "h3_w = w_after[4].flatten().reshape(-1,1)\n",
    "out_w = w_after[6].flatten().reshape(-1,1)\n",
    "\n",
    "\n",
    "fig = plt.figure(figsize=(10,5))\n",
    "plt.title(\"Weight matrices after model trained\")\n",
    "plt.subplot(1, 4, 1)\n",
    "plt.title(\"Trained model Weights\")\n",
    "ax = sns.violinplot(y=h1_w,color='b')\n",
    "plt.xlabel('Hidden Layer 1')\n",
    "\n",
    "plt.subplot(1, 4, 2)\n",
    "plt.title(\"Trained model Weights\")\n",
    "ax = sns.violinplot(y=h2_w, color='r')\n",
    "plt.xlabel('Hidden Layer 2 ')\n",
    "\n",
    "plt.subplot(1, 4, 3)\n",
    "plt.title(\"Trained model Weights\")\n",
    "ax = sns.violinplot(y=h3_w, color='r')\n",
    "plt.xlabel('Hidden Layer 3 ')\n",
    "\n",
    "plt.subplot(1, 4, 4)\n",
    "plt.title(\"Trained model Weights\")\n",
    "ax = sns.violinplot(y=out_w,color='y')\n",
    "plt.xlabel('Output Layer ')\n",
    "plt.show()"
   ]
  },
  {
   "cell_type": "markdown",
   "metadata": {
    "colab_type": "text",
    "id": "ArE7THKZH2-x"
   },
   "source": [
    "**With BatchNorm and without Dropout**"
   ]
  },
  {
   "cell_type": "code",
   "execution_count": 0,
   "metadata": {
    "colab": {
     "base_uri": "https://localhost:8080/",
     "height": 374
    },
    "colab_type": "code",
    "id": "LoZfj3E6IDyg",
    "outputId": "6269dec3-dd13-4894-8266-f21c556cde89"
   },
   "outputs": [
    {
     "name": "stdout",
     "output_type": "stream",
     "text": [
      "_________________________________________________________________\n",
      "Layer (type)                 Output Shape              Param #   \n",
      "=================================================================\n",
      "dense_66 (Dense)             (None, 256)               200960    \n",
      "_________________________________________________________________\n",
      "batch_normalization_30 (Batc (None, 256)               1024      \n",
      "_________________________________________________________________\n",
      "dense_67 (Dense)             (None, 128)               32896     \n",
      "_________________________________________________________________\n",
      "batch_normalization_31 (Batc (None, 128)               512       \n",
      "_________________________________________________________________\n",
      "dense_68 (Dense)             (None, 64)                8256      \n",
      "_________________________________________________________________\n",
      "batch_normalization_32 (Batc (None, 64)                256       \n",
      "_________________________________________________________________\n",
      "dense_69 (Dense)             (None, 10)                650       \n",
      "=================================================================\n",
      "Total params: 244,554\n",
      "Trainable params: 243,658\n",
      "Non-trainable params: 896\n",
      "_________________________________________________________________\n"
     ]
    }
   ],
   "source": [
    "model_3layer=Sequential()\n",
    "model_3layer.add(Dense(256,activation='relu',input_dim=input_dim,))\n",
    "model_3layer.add(BatchNormalization())\n",
    "model_3layer.add(Dense(128,activation='relu'))\n",
    "model_3layer.add(BatchNormalization())\n",
    "model_3layer.add(Dense(64,activation='relu'))\n",
    "model_3layer.add(BatchNormalization())\n",
    "model_3layer.add(Dense(output_dim,activation='softmax'))\n",
    "model_3layer.summary()"
   ]
  },
  {
   "cell_type": "code",
   "execution_count": 0,
   "metadata": {
    "colab": {
     "base_uri": "https://localhost:8080/",
     "height": 884
    },
    "colab_type": "code",
    "id": "FixNus4-IuSo",
    "outputId": "5ebf26d4-ca29-4e6e-d0af-404205deffc5"
   },
   "outputs": [
    {
     "name": "stdout",
     "output_type": "stream",
     "text": [
      "Train on 60000 samples, validate on 10000 samples\n",
      "Epoch 1/25\n",
      "60000/60000 [==============================] - 8s 140us/step - loss: 0.2306 - acc: 0.9319 - val_loss: 0.1174 - val_acc: 0.9643\n",
      "Epoch 2/25\n",
      "60000/60000 [==============================] - 6s 95us/step - loss: 0.0852 - acc: 0.9740 - val_loss: 0.0898 - val_acc: 0.9718\n",
      "Epoch 3/25\n",
      "60000/60000 [==============================] - 6s 95us/step - loss: 0.0573 - acc: 0.9822 - val_loss: 0.0883 - val_acc: 0.9725\n",
      "Epoch 4/25\n",
      "60000/60000 [==============================] - 6s 95us/step - loss: 0.0447 - acc: 0.9860 - val_loss: 0.0866 - val_acc: 0.9725\n",
      "Epoch 5/25\n",
      "60000/60000 [==============================] - 6s 95us/step - loss: 0.0334 - acc: 0.9893 - val_loss: 0.0819 - val_acc: 0.9733\n",
      "Epoch 6/25\n",
      "60000/60000 [==============================] - 6s 95us/step - loss: 0.0282 - acc: 0.9912 - val_loss: 0.0832 - val_acc: 0.9746\n",
      "Epoch 7/25\n",
      "60000/60000 [==============================] - 6s 95us/step - loss: 0.0235 - acc: 0.9923 - val_loss: 0.0850 - val_acc: 0.9773\n",
      "Epoch 8/25\n",
      "60000/60000 [==============================] - 6s 95us/step - loss: 0.0219 - acc: 0.9930 - val_loss: 0.0820 - val_acc: 0.9768\n",
      "Epoch 9/25\n",
      "60000/60000 [==============================] - 6s 95us/step - loss: 0.0197 - acc: 0.9934 - val_loss: 0.0817 - val_acc: 0.9777\n",
      "Epoch 10/25\n",
      "60000/60000 [==============================] - 6s 97us/step - loss: 0.0175 - acc: 0.9939 - val_loss: 0.0817 - val_acc: 0.9786\n",
      "Epoch 11/25\n",
      "60000/60000 [==============================] - 6s 96us/step - loss: 0.0138 - acc: 0.9956 - val_loss: 0.0774 - val_acc: 0.9796\n",
      "Epoch 12/25\n",
      "60000/60000 [==============================] - 6s 96us/step - loss: 0.0133 - acc: 0.9958 - val_loss: 0.0775 - val_acc: 0.9784\n",
      "Epoch 13/25\n",
      "60000/60000 [==============================] - 6s 96us/step - loss: 0.0150 - acc: 0.9947 - val_loss: 0.0774 - val_acc: 0.9801\n",
      "Epoch 14/25\n",
      "60000/60000 [==============================] - 6s 96us/step - loss: 0.0148 - acc: 0.9950 - val_loss: 0.0733 - val_acc: 0.9809\n",
      "Epoch 15/25\n",
      "60000/60000 [==============================] - 6s 95us/step - loss: 0.0126 - acc: 0.9956 - val_loss: 0.0888 - val_acc: 0.9792\n",
      "Epoch 16/25\n",
      "60000/60000 [==============================] - 6s 96us/step - loss: 0.0133 - acc: 0.9954 - val_loss: 0.0791 - val_acc: 0.9800\n",
      "Epoch 17/25\n",
      "60000/60000 [==============================] - 6s 96us/step - loss: 0.0099 - acc: 0.9967 - val_loss: 0.0767 - val_acc: 0.9811\n",
      "Epoch 18/25\n",
      "60000/60000 [==============================] - 6s 95us/step - loss: 0.0083 - acc: 0.9974 - val_loss: 0.0744 - val_acc: 0.9807\n",
      "Epoch 19/25\n",
      "60000/60000 [==============================] - 6s 96us/step - loss: 0.0089 - acc: 0.9970 - val_loss: 0.0985 - val_acc: 0.9771\n",
      "Epoch 20/25\n",
      "60000/60000 [==============================] - 6s 95us/step - loss: 0.0119 - acc: 0.9961 - val_loss: 0.0832 - val_acc: 0.9806\n",
      "Epoch 21/25\n",
      "60000/60000 [==============================] - 6s 95us/step - loss: 0.0091 - acc: 0.9970 - val_loss: 0.0885 - val_acc: 0.9807\n",
      "Epoch 22/25\n",
      "60000/60000 [==============================] - 6s 96us/step - loss: 0.0089 - acc: 0.9971 - val_loss: 0.0798 - val_acc: 0.9816\n",
      "Epoch 23/25\n",
      "60000/60000 [==============================] - 6s 95us/step - loss: 0.0076 - acc: 0.9974 - val_loss: 0.0790 - val_acc: 0.9816\n",
      "Epoch 24/25\n",
      "60000/60000 [==============================] - 6s 96us/step - loss: 0.0078 - acc: 0.9975 - val_loss: 0.0949 - val_acc: 0.9797\n",
      "Epoch 25/25\n",
      "60000/60000 [==============================] - 6s 95us/step - loss: 0.0071 - acc: 0.9979 - val_loss: 0.0803 - val_acc: 0.9811\n"
     ]
    }
   ],
   "source": [
    "model_3layer.compile(optimizer='adam',loss='categorical_crossentropy',metrics=['accuracy'])\n",
    "history3=model_3layer.fit(X_train,Y_train,batch_size=batch_size,verbose=1,epochs=nb_epoch,validation_data=(X_test,Y_test))"
   ]
  },
  {
   "cell_type": "code",
   "execution_count": 0,
   "metadata": {
    "colab": {
     "base_uri": "https://localhost:8080/",
     "height": 279
    },
    "colab_type": "code",
    "id": "COHixkPlI3G2",
    "outputId": "3630b19e-ba49-4e7b-cecd-71b4cbcd9a29"
   },
   "outputs": [
    {
     "data": {
      "image/png": "[encoded data removed]",
      "text/plain": [
       "<Figure size 432x288 with 1 Axes>"
      ]
     },
     "metadata": {
      "tags": []
     },
     "output_type": "display_data"
    }
   ],
   "source": [
    "fig,ax = plt.subplots(1,1)\n",
    "ax.set_xlabel('epoch') ; ax.set_ylabel('Categorical Crossentropy Loss')\n",
    "\n",
    "# list of epoch numbers\n",
    "x = list(range(1,nb_epoch+1))\n",
    "vy = history3.history['val_loss']\n",
    "ty = history3.history['loss']\n",
    "plt_dynamic(x, vy, ty, ax)"
   ]
  },
  {
   "cell_type": "markdown",
   "metadata": {
    "colab_type": "text",
    "id": "3-f_2fLZJpTw"
   },
   "source": [
    "Thus, we get slightly better accuracy with batchnorm."
   ]
  },
  {
   "cell_type": "markdown",
   "metadata": {
    "colab_type": "text",
    "id": "Y4nCU_0rJ9AQ"
   },
   "source": [
    "**With Batchnorm and Dropout**"
   ]
  },
  {
   "cell_type": "code",
   "execution_count": 0,
   "metadata": {
    "colab": {
     "base_uri": "https://localhost:8080/",
     "height": 476
    },
    "colab_type": "code",
    "id": "IPUF2obTJuwH",
    "outputId": "3da30ae7-b9e3-49fd-bd55-1ee33728f497"
   },
   "outputs": [
    {
     "name": "stdout",
     "output_type": "stream",
     "text": [
      "_________________________________________________________________\n",
      "Layer (type)                 Output Shape              Param #   \n",
      "=================================================================\n",
      "dense_70 (Dense)             (None, 256)               200960    \n",
      "_________________________________________________________________\n",
      "batch_normalization_33 (Batc (None, 256)               1024      \n",
      "_________________________________________________________________\n",
      "dropout_18 (Dropout)         (None, 256)               0         \n",
      "_________________________________________________________________\n",
      "dense_71 (Dense)             (None, 128)               32896     \n",
      "_________________________________________________________________\n",
      "batch_normalization_34 (Batc (None, 128)               512       \n",
      "_________________________________________________________________\n",
      "dropout_19 (Dropout)         (None, 128)               0         \n",
      "_________________________________________________________________\n",
      "dense_72 (Dense)             (None, 64)                8256      \n",
      "_________________________________________________________________\n",
      "batch_normalization_35 (Batc (None, 64)                256       \n",
      "_________________________________________________________________\n",
      "dropout_20 (Dropout)         (None, 64)                0         \n",
      "_________________________________________________________________\n",
      "dense_73 (Dense)             (None, 10)                650       \n",
      "=================================================================\n",
      "Total params: 244,554\n",
      "Trainable params: 243,658\n",
      "Non-trainable params: 896\n",
      "_________________________________________________________________\n"
     ]
    }
   ],
   "source": [
    "model_3layer=Sequential()\n",
    "model_3layer.add(Dense(256,activation='relu',input_dim=input_dim,))\n",
    "model_3layer.add(BatchNormalization())\n",
    "model_3layer.add(Dropout(0.5))\n",
    "model_3layer.add(Dense(128,activation='relu'))\n",
    "model_3layer.add(BatchNormalization())\n",
    "model_3layer.add(Dropout(0.5))\n",
    "model_3layer.add(Dense(64,activation='relu'))\n",
    "model_3layer.add(BatchNormalization())\n",
    "model_3layer.add(Dropout(0.5))\n",
    "model_3layer.add(Dense(output_dim,activation='softmax'))\n",
    "model_3layer.summary()"
   ]
  },
  {
   "cell_type": "code",
   "execution_count": 0,
   "metadata": {
    "colab": {
     "base_uri": "https://localhost:8080/",
     "height": 884
    },
    "colab_type": "code",
    "id": "4ZuswdESKD6K",
    "outputId": "53da2f91-5dfe-48ef-c568-330854c5b287"
   },
   "outputs": [
    {
     "name": "stdout",
     "output_type": "stream",
     "text": [
      "Train on 60000 samples, validate on 10000 samples\n",
      "Epoch 1/25\n",
      "60000/60000 [==============================] - 9s 152us/step - loss: 0.7513 - acc: 0.7689 - val_loss: 0.2062 - val_acc: 0.9390\n",
      "Epoch 2/25\n",
      "60000/60000 [==============================] - 6s 100us/step - loss: 0.3333 - acc: 0.9056 - val_loss: 0.1491 - val_acc: 0.9561\n",
      "Epoch 3/25\n",
      "60000/60000 [==============================] - 6s 101us/step - loss: 0.2659 - acc: 0.9253 - val_loss: 0.1348 - val_acc: 0.9599\n",
      "Epoch 4/25\n",
      "60000/60000 [==============================] - 6s 99us/step - loss: 0.2265 - acc: 0.9375 - val_loss: 0.1117 - val_acc: 0.9666\n",
      "Epoch 5/25\n",
      "60000/60000 [==============================] - 6s 99us/step - loss: 0.1987 - acc: 0.9449 - val_loss: 0.1026 - val_acc: 0.9712\n",
      "Epoch 6/25\n",
      "60000/60000 [==============================] - 6s 99us/step - loss: 0.1834 - acc: 0.9497 - val_loss: 0.0963 - val_acc: 0.9702\n",
      "Epoch 7/25\n",
      "60000/60000 [==============================] - 6s 99us/step - loss: 0.1646 - acc: 0.9542 - val_loss: 0.0887 - val_acc: 0.9731\n",
      "Epoch 8/25\n",
      "60000/60000 [==============================] - 6s 100us/step - loss: 0.1586 - acc: 0.9547 - val_loss: 0.0904 - val_acc: 0.9739\n",
      "Epoch 9/25\n",
      "60000/60000 [==============================] - 6s 100us/step - loss: 0.1500 - acc: 0.9582 - val_loss: 0.0842 - val_acc: 0.9768\n",
      "Epoch 10/25\n",
      "60000/60000 [==============================] - 6s 99us/step - loss: 0.1386 - acc: 0.9610 - val_loss: 0.0847 - val_acc: 0.9763\n",
      "Epoch 11/25\n",
      "60000/60000 [==============================] - 6s 99us/step - loss: 0.1350 - acc: 0.9630 - val_loss: 0.0740 - val_acc: 0.9785\n",
      "Epoch 12/25\n",
      "60000/60000 [==============================] - 6s 99us/step - loss: 0.1299 - acc: 0.9635 - val_loss: 0.0733 - val_acc: 0.9782\n",
      "Epoch 13/25\n",
      "60000/60000 [==============================] - 6s 101us/step - loss: 0.1231 - acc: 0.9656 - val_loss: 0.0730 - val_acc: 0.9783\n",
      "Epoch 14/25\n",
      "60000/60000 [==============================] - 6s 100us/step - loss: 0.1156 - acc: 0.9673 - val_loss: 0.0710 - val_acc: 0.9773\n",
      "Epoch 15/25\n",
      "60000/60000 [==============================] - 6s 104us/step - loss: 0.1148 - acc: 0.9677 - val_loss: 0.0699 - val_acc: 0.9791\n",
      "Epoch 16/25\n",
      "60000/60000 [==============================] - 6s 99us/step - loss: 0.1105 - acc: 0.9683 - val_loss: 0.0686 - val_acc: 0.9799\n",
      "Epoch 17/25\n",
      "60000/60000 [==============================] - 6s 98us/step - loss: 0.1052 - acc: 0.9707 - val_loss: 0.0727 - val_acc: 0.9787\n",
      "Epoch 18/25\n",
      "60000/60000 [==============================] - 6s 99us/step - loss: 0.1056 - acc: 0.9710 - val_loss: 0.0680 - val_acc: 0.9802\n",
      "Epoch 19/25\n",
      "60000/60000 [==============================] - 6s 101us/step - loss: 0.1003 - acc: 0.9718 - val_loss: 0.0702 - val_acc: 0.9790\n",
      "Epoch 20/25\n",
      "60000/60000 [==============================] - 6s 100us/step - loss: 0.0984 - acc: 0.9712 - val_loss: 0.0713 - val_acc: 0.9802\n",
      "Epoch 21/25\n",
      "60000/60000 [==============================] - 6s 100us/step - loss: 0.0955 - acc: 0.9717 - val_loss: 0.0693 - val_acc: 0.9808\n",
      "Epoch 22/25\n",
      "60000/60000 [==============================] - 6s 99us/step - loss: 0.0953 - acc: 0.9724 - val_loss: 0.0687 - val_acc: 0.9810\n",
      "Epoch 23/25\n",
      "60000/60000 [==============================] - 6s 100us/step - loss: 0.0915 - acc: 0.9742 - val_loss: 0.0680 - val_acc: 0.9815\n",
      "Epoch 24/25\n",
      "60000/60000 [==============================] - 6s 100us/step - loss: 0.0899 - acc: 0.9743 - val_loss: 0.0642 - val_acc: 0.9825\n",
      "Epoch 25/25\n",
      "60000/60000 [==============================] - 6s 100us/step - loss: 0.0885 - acc: 0.9747 - val_loss: 0.0623 - val_acc: 0.9823\n"
     ]
    }
   ],
   "source": [
    "model_3layer.compile(optimizer='adam',loss='categorical_crossentropy',metrics=['accuracy'])\n",
    "history3=model_3layer.fit(X_train,Y_train,batch_size=batch_size,verbose=1,epochs=nb_epoch,validation_data=(X_test,Y_test))"
   ]
  },
  {
   "cell_type": "code",
   "execution_count": 0,
   "metadata": {
    "colab": {
     "base_uri": "https://localhost:8080/",
     "height": 279
    },
    "colab_type": "code",
    "id": "Jjf7-sJPLWXR",
    "outputId": "05de1237-7b18-467f-ac7b-10008dd3449b"
   },
   "outputs": [
    {
     "data": {
      "image/png": "[encoded data removed]",
      "text/plain": [
       "<Figure size 432x288 with 1 Axes>"
      ]
     },
     "metadata": {
      "tags": []
     },
     "output_type": "display_data"
    }
   ],
   "source": [
    "fig,ax = plt.subplots(1,1)\n",
    "ax.set_xlabel('epoch') ; ax.set_ylabel('Categorical Crossentropy Loss')\n",
    "\n",
    "# list of epoch numbers\n",
    "x = list(range(1,nb_epoch+1))\n",
    "vy = history3.history['val_loss']\n",
    "ty = history3.history['loss']\n",
    "plt_dynamic(x, vy, ty, ax)"
   ]
  },
  {
   "cell_type": "markdown",
   "metadata": {
    "colab_type": "text",
    "id": "QmD2DvzvM3mp"
   },
   "source": [
    "Thus, with dropout the accuracy decreases slightly but train and validation loss are very close to one another. Thus, dropout reduces overfitting."
   ]
  },
  {
   "cell_type": "markdown",
   "metadata": {
    "colab_type": "text",
    "id": "aNU285rgNIEB"
   },
   "source": [
    "# Layer 5 Architecture"
   ]
  },
  {
   "cell_type": "markdown",
   "metadata": {
    "colab_type": "text",
    "id": "zPHnXTk2NdK0"
   },
   "source": [
    "**Without Batchnorm and Dropout**"
   ]
  },
  {
   "cell_type": "code",
   "execution_count": 0,
   "metadata": {
    "colab": {
     "base_uri": "https://localhost:8080/",
     "height": 340
    },
    "colab_type": "code",
    "id": "utUwli9GNrVJ",
    "outputId": "a213ee60-25b9-45e7-f418-ad8c521c7bff"
   },
   "outputs": [
    {
     "name": "stdout",
     "output_type": "stream",
     "text": [
      "_________________________________________________________________\n",
      "Layer (type)                 Output Shape              Param #   \n",
      "=================================================================\n",
      "dense_74 (Dense)             (None, 512)               401920    \n",
      "_________________________________________________________________\n",
      "dense_75 (Dense)             (None, 256)               131328    \n",
      "_________________________________________________________________\n",
      "dense_76 (Dense)             (None, 128)               32896     \n",
      "_________________________________________________________________\n",
      "dense_77 (Dense)             (None, 128)               16512     \n",
      "_________________________________________________________________\n",
      "dense_78 (Dense)             (None, 64)                8256      \n",
      "_________________________________________________________________\n",
      "dense_79 (Dense)             (None, 10)                650       \n",
      "=================================================================\n",
      "Total params: 591,562\n",
      "Trainable params: 591,562\n",
      "Non-trainable params: 0\n",
      "_________________________________________________________________\n"
     ]
    }
   ],
   "source": [
    "model_5layer=Sequential()\n",
    "model_5layer.add(Dense(512,activation='relu',input_dim=input_dim,))\n",
    "model_5layer.add(Dense(256,activation='relu'))\n",
    "model_5layer.add(Dense(128,activation='relu'))\n",
    "model_5layer.add(Dense(128,activation='relu'))\n",
    "model_5layer.add(Dense(64,activation='relu'))\n",
    "model_5layer.add(Dense(output_dim,activation='softmax'))\n",
    "model_5layer.summary()"
   ]
  },
  {
   "cell_type": "code",
   "execution_count": 0,
   "metadata": {
    "colab": {
     "base_uri": "https://localhost:8080/",
     "height": 884
    },
    "colab_type": "code",
    "id": "Vf0VfsibOeeo",
    "outputId": "809c16f1-b190-4521-99b1-ceabeb97da50"
   },
   "outputs": [
    {
     "name": "stdout",
     "output_type": "stream",
     "text": [
      "Train on 60000 samples, validate on 10000 samples\n",
      "Epoch 1/25\n",
      "60000/60000 [==============================] - 7s 113us/step - loss: 0.2500 - acc: 0.9243 - val_loss: 0.1170 - val_acc: 0.9641\n",
      "Epoch 2/25\n",
      "60000/60000 [==============================] - 4s 66us/step - loss: 0.0921 - acc: 0.9718 - val_loss: 0.0851 - val_acc: 0.9741\n",
      "Epoch 3/25\n",
      "60000/60000 [==============================] - 4s 66us/step - loss: 0.0604 - acc: 0.9811 - val_loss: 0.0823 - val_acc: 0.9751\n",
      "Epoch 4/25\n",
      "60000/60000 [==============================] - 4s 65us/step - loss: 0.0465 - acc: 0.9853 - val_loss: 0.0706 - val_acc: 0.9792\n",
      "Epoch 5/25\n",
      "60000/60000 [==============================] - 4s 65us/step - loss: 0.0370 - acc: 0.9887 - val_loss: 0.0758 - val_acc: 0.9794\n",
      "Epoch 6/25\n",
      "60000/60000 [==============================] - 4s 66us/step - loss: 0.0329 - acc: 0.9896 - val_loss: 0.0742 - val_acc: 0.9804\n",
      "Epoch 7/25\n",
      "60000/60000 [==============================] - 4s 65us/step - loss: 0.0252 - acc: 0.9920 - val_loss: 0.0844 - val_acc: 0.9794\n",
      "Epoch 8/25\n",
      "60000/60000 [==============================] - 4s 65us/step - loss: 0.0269 - acc: 0.9914 - val_loss: 0.0932 - val_acc: 0.9768\n",
      "Epoch 9/25\n",
      "60000/60000 [==============================] - 4s 65us/step - loss: 0.0225 - acc: 0.9932 - val_loss: 0.1070 - val_acc: 0.9754\n",
      "Epoch 10/25\n",
      "60000/60000 [==============================] - 4s 65us/step - loss: 0.0210 - acc: 0.9934 - val_loss: 0.0827 - val_acc: 0.9791\n",
      "Epoch 11/25\n",
      "60000/60000 [==============================] - 4s 66us/step - loss: 0.0178 - acc: 0.9946 - val_loss: 0.0808 - val_acc: 0.9791\n",
      "Epoch 12/25\n",
      "60000/60000 [==============================] - 4s 66us/step - loss: 0.0173 - acc: 0.9947 - val_loss: 0.0769 - val_acc: 0.9825\n",
      "Epoch 13/25\n",
      "60000/60000 [==============================] - 4s 65us/step - loss: 0.0135 - acc: 0.9958 - val_loss: 0.0743 - val_acc: 0.9816\n",
      "Epoch 14/25\n",
      "60000/60000 [==============================] - 4s 65us/step - loss: 0.0151 - acc: 0.9954 - val_loss: 0.0853 - val_acc: 0.9807\n",
      "Epoch 15/25\n",
      "60000/60000 [==============================] - 4s 66us/step - loss: 0.0162 - acc: 0.9951 - val_loss: 0.0893 - val_acc: 0.9799\n",
      "Epoch 16/25\n",
      "60000/60000 [==============================] - 4s 66us/step - loss: 0.0153 - acc: 0.9953 - val_loss: 0.1080 - val_acc: 0.9779\n",
      "Epoch 17/25\n",
      "60000/60000 [==============================] - 4s 65us/step - loss: 0.0103 - acc: 0.9970 - val_loss: 0.0697 - val_acc: 0.9825\n",
      "Epoch 18/25\n",
      "60000/60000 [==============================] - 4s 65us/step - loss: 0.0100 - acc: 0.9971 - val_loss: 0.0943 - val_acc: 0.9775\n",
      "Epoch 19/25\n",
      "60000/60000 [==============================] - 4s 65us/step - loss: 0.0115 - acc: 0.9965 - val_loss: 0.0876 - val_acc: 0.9819\n",
      "Epoch 20/25\n",
      "60000/60000 [==============================] - 4s 66us/step - loss: 0.0118 - acc: 0.9964 - val_loss: 0.0830 - val_acc: 0.9822\n",
      "Epoch 21/25\n",
      "60000/60000 [==============================] - 4s 66us/step - loss: 0.0094 - acc: 0.9971 - val_loss: 0.0861 - val_acc: 0.9831\n",
      "Epoch 22/25\n",
      "60000/60000 [==============================] - 4s 65us/step - loss: 0.0094 - acc: 0.9972 - val_loss: 0.0801 - val_acc: 0.9842\n",
      "Epoch 23/25\n",
      "60000/60000 [==============================] - 4s 66us/step - loss: 0.0066 - acc: 0.9981 - val_loss: 0.0944 - val_acc: 0.9830\n",
      "Epoch 24/25\n",
      "60000/60000 [==============================] - 4s 66us/step - loss: 0.0084 - acc: 0.9976 - val_loss: 0.0810 - val_acc: 0.9830\n",
      "Epoch 25/25\n",
      "60000/60000 [==============================] - 4s 65us/step - loss: 0.0082 - acc: 0.9977 - val_loss: 0.0930 - val_acc: 0.9809\n"
     ]
    }
   ],
   "source": [
    "model_5layer.compile(optimizer='adam',loss='categorical_crossentropy',metrics=['accuracy'])\n",
    "history5=model_5layer.fit(X_train,Y_train,batch_size=batch_size,verbose=1,epochs=nb_epoch,validation_data=(X_test,Y_test))"
   ]
  },
  {
   "cell_type": "code",
   "execution_count": 0,
   "metadata": {
    "colab": {
     "base_uri": "https://localhost:8080/",
     "height": 279
    },
    "colab_type": "code",
    "id": "6WEUA2xIOpMD",
    "outputId": "ba07d71a-2b51-4bcc-c7c2-2f07cd9d5d0b"
   },
   "outputs": [
    {
     "data": {
      "image/png": "[encoded data removed]",
      "text/plain": [
       "<Figure size 432x288 with 1 Axes>"
      ]
     },
     "metadata": {
      "tags": []
     },
     "output_type": "display_data"
    }
   ],
   "source": [
    "fig,ax = plt.subplots(1,1)\n",
    "ax.set_xlabel('epoch') ; ax.set_ylabel('Categorical Crossentropy Loss')\n",
    "\n",
    "# list of epoch numbers\n",
    "x = list(range(1,nb_epoch+1))\n",
    "vy = history5.history['val_loss']\n",
    "ty = history5.history['loss']\n",
    "plt_dynamic(x, vy, ty, ax)"
   ]
  },
  {
   "cell_type": "markdown",
   "metadata": {
    "colab_type": "text",
    "id": "B99UrGZUPkng"
   },
   "source": [
    "The training loss is smooth but the validation loss has a bumpy curve. The validation loss diverges from training loss and indicates that the model is overfitting."
   ]
  },
  {
   "cell_type": "markdown",
   "metadata": {
    "colab_type": "text",
    "id": "xJMUeUnnQ56h"
   },
   "source": [
    "**With Batchnorm and without Dropout**"
   ]
  },
  {
   "cell_type": "code",
   "execution_count": 0,
   "metadata": {
    "colab": {
     "base_uri": "https://localhost:8080/",
     "height": 510
    },
    "colab_type": "code",
    "id": "IOAbi-YiSTFU",
    "outputId": "14ca3744-8762-4e9a-e391-b503e6bdaef1"
   },
   "outputs": [
    {
     "name": "stdout",
     "output_type": "stream",
     "text": [
      "_________________________________________________________________\n",
      "Layer (type)                 Output Shape              Param #   \n",
      "=================================================================\n",
      "dense_80 (Dense)             (None, 512)               401920    \n",
      "_________________________________________________________________\n",
      "batch_normalization_36 (Batc (None, 512)               2048      \n",
      "_________________________________________________________________\n",
      "dense_81 (Dense)             (None, 256)               131328    \n",
      "_________________________________________________________________\n",
      "batch_normalization_37 (Batc (None, 256)               1024      \n",
      "_________________________________________________________________\n",
      "dense_82 (Dense)             (None, 128)               32896     \n",
      "_________________________________________________________________\n",
      "batch_normalization_38 (Batc (None, 128)               512       \n",
      "_________________________________________________________________\n",
      "dense_83 (Dense)             (None, 128)               16512     \n",
      "_________________________________________________________________\n",
      "batch_normalization_39 (Batc (None, 128)               512       \n",
      "_________________________________________________________________\n",
      "dense_84 (Dense)             (None, 64)                8256      \n",
      "_________________________________________________________________\n",
      "batch_normalization_40 (Batc (None, 64)                256       \n",
      "_________________________________________________________________\n",
      "dense_85 (Dense)             (None, 10)                650       \n",
      "=================================================================\n",
      "Total params: 595,914\n",
      "Trainable params: 593,738\n",
      "Non-trainable params: 2,176\n",
      "_________________________________________________________________\n"
     ]
    }
   ],
   "source": [
    "model_5layer=Sequential()\n",
    "model_5layer.add(Dense(512,activation='relu',input_dim=input_dim,))\n",
    "model_5layer.add(BatchNormalization())\n",
    "model_5layer.add(Dense(256,activation='relu'))\n",
    "model_5layer.add(BatchNormalization())\n",
    "model_5layer.add(Dense(128,activation='relu'))\n",
    "model_5layer.add(BatchNormalization())\n",
    "model_5layer.add(Dense(128,activation='relu'))\n",
    "model_5layer.add(BatchNormalization())\n",
    "model_5layer.add(Dense(64,activation='relu'))\n",
    "model_5layer.add(BatchNormalization())\n",
    "model_5layer.add(Dense(output_dim,activation='softmax'))\n",
    "model_5layer.summary()"
   ]
  },
  {
   "cell_type": "code",
   "execution_count": 0,
   "metadata": {
    "colab": {
     "base_uri": "https://localhost:8080/",
     "height": 884
    },
    "colab_type": "code",
    "id": "rsQzukPwR982",
    "outputId": "c10c1ac2-d356-4171-a20b-30b450e4770c"
   },
   "outputs": [
    {
     "name": "stdout",
     "output_type": "stream",
     "text": [
      "Train on 60000 samples, validate on 10000 samples\n",
      "Epoch 1/25\n",
      "60000/60000 [==============================] - 12s 205us/step - loss: 0.2184 - acc: 0.9349 - val_loss: 0.1225 - val_acc: 0.9615\n",
      "Epoch 2/25\n",
      "60000/60000 [==============================] - 8s 140us/step - loss: 0.0890 - acc: 0.9725 - val_loss: 0.1009 - val_acc: 0.9703\n",
      "Epoch 3/25\n",
      "60000/60000 [==============================] - 8s 139us/step - loss: 0.0654 - acc: 0.9793 - val_loss: 0.0985 - val_acc: 0.9711\n",
      "Epoch 4/25\n",
      "60000/60000 [==============================] - 8s 140us/step - loss: 0.0481 - acc: 0.9850 - val_loss: 0.0991 - val_acc: 0.9698\n",
      "Epoch 5/25\n",
      "60000/60000 [==============================] - 8s 140us/step - loss: 0.0443 - acc: 0.9862 - val_loss: 0.0846 - val_acc: 0.9762\n",
      "Epoch 6/25\n",
      "60000/60000 [==============================] - 8s 140us/step - loss: 0.0401 - acc: 0.9868 - val_loss: 0.0843 - val_acc: 0.9764\n",
      "Epoch 7/25\n",
      "60000/60000 [==============================] - 8s 139us/step - loss: 0.0345 - acc: 0.9890 - val_loss: 0.0746 - val_acc: 0.9792\n",
      "Epoch 8/25\n",
      "60000/60000 [==============================] - 8s 140us/step - loss: 0.0318 - acc: 0.9899 - val_loss: 0.0831 - val_acc: 0.9785\n",
      "Epoch 9/25\n",
      "60000/60000 [==============================] - 9s 144us/step - loss: 0.0258 - acc: 0.9914 - val_loss: 0.0754 - val_acc: 0.9784\n",
      "Epoch 10/25\n",
      "60000/60000 [==============================] - 8s 141us/step - loss: 0.0253 - acc: 0.9914 - val_loss: 0.0810 - val_acc: 0.9780\n",
      "Epoch 11/25\n",
      "60000/60000 [==============================] - 8s 141us/step - loss: 0.0236 - acc: 0.9917 - val_loss: 0.0841 - val_acc: 0.9774\n",
      "Epoch 12/25\n",
      "60000/60000 [==============================] - 9s 142us/step - loss: 0.0222 - acc: 0.9923 - val_loss: 0.0915 - val_acc: 0.9755\n",
      "Epoch 13/25\n",
      "60000/60000 [==============================] - 8s 142us/step - loss: 0.0213 - acc: 0.9929 - val_loss: 0.0839 - val_acc: 0.9799\n",
      "Epoch 14/25\n",
      "60000/60000 [==============================] - 9s 142us/step - loss: 0.0189 - acc: 0.9937 - val_loss: 0.0750 - val_acc: 0.9802\n",
      "Epoch 15/25\n",
      "60000/60000 [==============================] - 8s 141us/step - loss: 0.0171 - acc: 0.9941 - val_loss: 0.0778 - val_acc: 0.9794\n",
      "Epoch 16/25\n",
      "60000/60000 [==============================] - 9s 144us/step - loss: 0.0169 - acc: 0.9941 - val_loss: 0.0738 - val_acc: 0.9815\n",
      "Epoch 17/25\n",
      "60000/60000 [==============================] - 8s 142us/step - loss: 0.0125 - acc: 0.9961 - val_loss: 0.0746 - val_acc: 0.9808\n",
      "Epoch 18/25\n",
      "60000/60000 [==============================] - 8s 140us/step - loss: 0.0161 - acc: 0.9946 - val_loss: 0.0767 - val_acc: 0.9797\n",
      "Epoch 19/25\n",
      "60000/60000 [==============================] - 8s 140us/step - loss: 0.0153 - acc: 0.9949 - val_loss: 0.0845 - val_acc: 0.9794\n",
      "Epoch 20/25\n",
      "60000/60000 [==============================] - 8s 142us/step - loss: 0.0113 - acc: 0.9961 - val_loss: 0.0716 - val_acc: 0.9825\n",
      "Epoch 21/25\n",
      "60000/60000 [==============================] - 8s 142us/step - loss: 0.0097 - acc: 0.9967 - val_loss: 0.0695 - val_acc: 0.9831\n",
      "Epoch 22/25\n",
      "60000/60000 [==============================] - 8s 141us/step - loss: 0.0115 - acc: 0.9964 - val_loss: 0.0785 - val_acc: 0.9816\n",
      "Epoch 23/25\n",
      "60000/60000 [==============================] - 9s 142us/step - loss: 0.0141 - acc: 0.9949 - val_loss: 0.0885 - val_acc: 0.9787\n",
      "Epoch 24/25\n",
      "60000/60000 [==============================] - 9s 142us/step - loss: 0.0101 - acc: 0.9967 - val_loss: 0.0742 - val_acc: 0.9825\n",
      "Epoch 25/25\n",
      "60000/60000 [==============================] - 8s 141us/step - loss: 0.0106 - acc: 0.9964 - val_loss: 0.0895 - val_acc: 0.9788\n"
     ]
    }
   ],
   "source": [
    "model_5layer.compile(optimizer='adam',loss='categorical_crossentropy',metrics=['accuracy'])\n",
    "history5=model_5layer.fit(X_train,Y_train,batch_size=batch_size,verbose=1,epochs=nb_epoch,validation_data=(X_test,Y_test))"
   ]
  },
  {
   "cell_type": "code",
   "execution_count": 0,
   "metadata": {
    "colab": {
     "base_uri": "https://localhost:8080/",
     "height": 279
    },
    "colab_type": "code",
    "id": "R6NGHAB9S_fG",
    "outputId": "524a6bea-87c2-4d02-dabe-42bee96b127c"
   },
   "outputs": [
    {
     "data": {
      "image/png": "[encoded data removed]",
      "text/plain": [
       "<Figure size 432x288 with 1 Axes>"
      ]
     },
     "metadata": {
      "tags": []
     },
     "output_type": "display_data"
    }
   ],
   "source": [
    "fig,ax = plt.subplots(1,1)\n",
    "ax.set_xlabel('epoch') ; ax.set_ylabel('Categorical Crossentropy Loss')\n",
    "\n",
    "# list of epoch numbers\n",
    "x = list(range(1,nb_epoch+1))\n",
    "vy = history5.history['val_loss']\n",
    "ty = history5.history['loss']\n",
    "plt_dynamic(x, vy, ty, ax)"
   ]
  },
  {
   "cell_type": "markdown",
   "metadata": {
    "colab_type": "text",
    "id": "XCCiDgJmT02v"
   },
   "source": [
    "woah!! our traing and test loss go in opposite direction. It seems our model is heavily overfitted."
   ]
  },
  {
   "cell_type": "markdown",
   "metadata": {
    "colab_type": "text",
    "id": "FCtFHxndUI1O"
   },
   "source": [
    "**With Batchnorm and Dropout**"
   ]
  },
  {
   "cell_type": "code",
   "execution_count": 0,
   "metadata": {
    "colab": {
     "base_uri": "https://localhost:8080/",
     "height": 680
    },
    "colab_type": "code",
    "id": "-fMm1OUGU3vp",
    "outputId": "a9ff194f-3e58-497f-ee3a-4bdb7c108994"
   },
   "outputs": [
    {
     "name": "stdout",
     "output_type": "stream",
     "text": [
      "_________________________________________________________________\n",
      "Layer (type)                 Output Shape              Param #   \n",
      "=================================================================\n",
      "dense_86 (Dense)             (None, 512)               401920    \n",
      "_________________________________________________________________\n",
      "batch_normalization_41 (Batc (None, 512)               2048      \n",
      "_________________________________________________________________\n",
      "dropout_21 (Dropout)         (None, 512)               0         \n",
      "_________________________________________________________________\n",
      "dense_87 (Dense)             (None, 256)               131328    \n",
      "_________________________________________________________________\n",
      "batch_normalization_42 (Batc (None, 256)               1024      \n",
      "_________________________________________________________________\n",
      "dropout_22 (Dropout)         (None, 256)               0         \n",
      "_________________________________________________________________\n",
      "dense_88 (Dense)             (None, 128)               32896     \n",
      "_________________________________________________________________\n",
      "batch_normalization_43 (Batc (None, 128)               512       \n",
      "_________________________________________________________________\n",
      "dropout_23 (Dropout)         (None, 128)               0         \n",
      "_________________________________________________________________\n",
      "dense_89 (Dense)             (None, 128)               16512     \n",
      "_________________________________________________________________\n",
      "batch_normalization_44 (Batc (None, 128)               512       \n",
      "_________________________________________________________________\n",
      "dropout_24 (Dropout)         (None, 128)               0         \n",
      "_________________________________________________________________\n",
      "dense_90 (Dense)             (None, 64)                8256      \n",
      "_________________________________________________________________\n",
      "batch_normalization_45 (Batc (None, 64)                256       \n",
      "_________________________________________________________________\n",
      "dropout_25 (Dropout)         (None, 64)                0         \n",
      "_________________________________________________________________\n",
      "dense_91 (Dense)             (None, 10)                650       \n",
      "=================================================================\n",
      "Total params: 595,914\n",
      "Trainable params: 593,738\n",
      "Non-trainable params: 2,176\n",
      "_________________________________________________________________\n"
     ]
    }
   ],
   "source": [
    "model_5layer=Sequential()\n",
    "model_5layer.add(Dense(512,activation='relu',input_dim=input_dim,))\n",
    "model_5layer.add(BatchNormalization())\n",
    "model_5layer.add(Dropout(0.5))\n",
    "model_5layer.add(Dense(256,activation='relu'))\n",
    "model_5layer.add(BatchNormalization())\n",
    "model_5layer.add(Dropout(0.5))\n",
    "model_5layer.add(Dense(128,activation='relu'))\n",
    "model_5layer.add(BatchNormalization())\n",
    "model_5layer.add(Dropout(0.5))\n",
    "model_5layer.add(Dense(128,activation='relu'))\n",
    "model_5layer.add(BatchNormalization())\n",
    "model_5layer.add(Dropout(0.5))\n",
    "model_5layer.add(Dense(64,activation='relu'))\n",
    "model_5layer.add(BatchNormalization())\n",
    "model_5layer.add(Dropout(0.5))\n",
    "model_5layer.add(Dense(output_dim,activation='softmax'))\n",
    "model_5layer.summary()"
   ]
  },
  {
   "cell_type": "code",
   "execution_count": 0,
   "metadata": {
    "colab": {
     "base_uri": "https://localhost:8080/",
     "height": 884
    },
    "colab_type": "code",
    "id": "yE-MggXkVXeu",
    "outputId": "d28da61a-0e90-433d-ed82-3d4dba6b2b1c"
   },
   "outputs": [
    {
     "name": "stdout",
     "output_type": "stream",
     "text": [
      "Train on 60000 samples, validate on 10000 samples\n",
      "Epoch 1/25\n",
      "60000/60000 [==============================] - 13s 223us/step - loss: 1.1768 - acc: 0.6299 - val_loss: 0.2483 - val_acc: 0.9294\n",
      "Epoch 2/25\n",
      "60000/60000 [==============================] - 9s 148us/step - loss: 0.4169 - acc: 0.8847 - val_loss: 0.1695 - val_acc: 0.9516\n",
      "Epoch 3/25\n",
      "60000/60000 [==============================] - 9s 149us/step - loss: 0.2998 - acc: 0.9211 - val_loss: 0.1403 - val_acc: 0.9594\n",
      "Epoch 4/25\n",
      "60000/60000 [==============================] - 9s 148us/step - loss: 0.2542 - acc: 0.9348 - val_loss: 0.1280 - val_acc: 0.9677\n",
      "Epoch 5/25\n",
      "60000/60000 [==============================] - 9s 148us/step - loss: 0.2205 - acc: 0.9433 - val_loss: 0.1193 - val_acc: 0.9690\n",
      "Epoch 6/25\n",
      "60000/60000 [==============================] - 9s 147us/step - loss: 0.2027 - acc: 0.9490 - val_loss: 0.1039 - val_acc: 0.9724\n",
      "Epoch 7/25\n",
      "60000/60000 [==============================] - 9s 148us/step - loss: 0.1856 - acc: 0.9531 - val_loss: 0.1112 - val_acc: 0.9734\n",
      "Epoch 8/25\n",
      "60000/60000 [==============================] - 9s 147us/step - loss: 0.1677 - acc: 0.9574 - val_loss: 0.1009 - val_acc: 0.9740\n",
      "Epoch 9/25\n",
      "60000/60000 [==============================] - 9s 148us/step - loss: 0.1624 - acc: 0.9590 - val_loss: 0.0933 - val_acc: 0.9759\n",
      "Epoch 10/25\n",
      "60000/60000 [==============================] - 9s 148us/step - loss: 0.1545 - acc: 0.9610 - val_loss: 0.0896 - val_acc: 0.9779\n",
      "Epoch 11/25\n",
      "60000/60000 [==============================] - 9s 147us/step - loss: 0.1437 - acc: 0.9639 - val_loss: 0.0896 - val_acc: 0.9772\n",
      "Epoch 12/25\n",
      "60000/60000 [==============================] - 9s 146us/step - loss: 0.1399 - acc: 0.9647 - val_loss: 0.0813 - val_acc: 0.9790\n",
      "Epoch 13/25\n",
      "60000/60000 [==============================] - 9s 148us/step - loss: 0.1359 - acc: 0.9656 - val_loss: 0.0858 - val_acc: 0.9782\n",
      "Epoch 14/25\n",
      "60000/60000 [==============================] - 9s 148us/step - loss: 0.1291 - acc: 0.9669 - val_loss: 0.0804 - val_acc: 0.9810\n",
      "Epoch 15/25\n",
      "60000/60000 [==============================] - 9s 148us/step - loss: 0.1208 - acc: 0.9696 - val_loss: 0.0812 - val_acc: 0.9812\n",
      "Epoch 16/25\n",
      "60000/60000 [==============================] - 9s 148us/step - loss: 0.1191 - acc: 0.9700 - val_loss: 0.0814 - val_acc: 0.9800\n",
      "Epoch 17/25\n",
      "60000/60000 [==============================] - 9s 148us/step - loss: 0.1157 - acc: 0.9709 - val_loss: 0.0746 - val_acc: 0.9811\n",
      "Epoch 18/25\n",
      "60000/60000 [==============================] - 9s 147us/step - loss: 0.1065 - acc: 0.9726 - val_loss: 0.0767 - val_acc: 0.9817\n",
      "Epoch 19/25\n",
      "60000/60000 [==============================] - 9s 148us/step - loss: 0.1059 - acc: 0.9732 - val_loss: 0.0814 - val_acc: 0.9808\n",
      "Epoch 20/25\n",
      "60000/60000 [==============================] - 9s 147us/step - loss: 0.1025 - acc: 0.9740 - val_loss: 0.0726 - val_acc: 0.9822\n",
      "Epoch 21/25\n",
      "60000/60000 [==============================] - 9s 148us/step - loss: 0.1016 - acc: 0.9743 - val_loss: 0.0758 - val_acc: 0.9812\n",
      "Epoch 22/25\n",
      "60000/60000 [==============================] - 9s 148us/step - loss: 0.0955 - acc: 0.9755 - val_loss: 0.0757 - val_acc: 0.9828\n",
      "Epoch 23/25\n",
      "60000/60000 [==============================] - 9s 147us/step - loss: 0.0879 - acc: 0.9777 - val_loss: 0.0746 - val_acc: 0.9825\n",
      "Epoch 24/25\n",
      "60000/60000 [==============================] - 9s 147us/step - loss: 0.0932 - acc: 0.9764 - val_loss: 0.0675 - val_acc: 0.9836\n",
      "Epoch 25/25\n",
      "60000/60000 [==============================] - 9s 147us/step - loss: 0.0947 - acc: 0.9767 - val_loss: 0.0670 - val_acc: 0.9839\n"
     ]
    }
   ],
   "source": [
    "model_5layer.compile(optimizer='adam',loss='categorical_crossentropy',metrics=['accuracy'])\n",
    "history5=model_5layer.fit(X_train,Y_train,batch_size=batch_size,verbose=1,epochs=nb_epoch,validation_data=(X_test,Y_test))"
   ]
  },
  {
   "cell_type": "code",
   "execution_count": 0,
   "metadata": {
    "colab": {
     "base_uri": "https://localhost:8080/",
     "height": 279
    },
    "colab_type": "code",
    "id": "7rGyGzK2VsI6",
    "outputId": "009b3ce5-417d-4586-eb96-a2ffc77f4c25"
   },
   "outputs": [
    {
     "data": {
      "image/png": "[encoded data removed]",
      "text/plain": [
       "<Figure size 432x288 with 1 Axes>"
      ]
     },
     "metadata": {
      "tags": []
     },
     "output_type": "display_data"
    }
   ],
   "source": [
    "fig,ax = plt.subplots(1,1)\n",
    "ax.set_xlabel('epoch') ; ax.set_ylabel('Categorical Crossentropy Loss')\n",
    "\n",
    "# list of epoch numbers\n",
    "x = list(range(1,nb_epoch+1))\n",
    "vy = history5.history['val_loss']\n",
    "ty = history5.history['loss']\n",
    "plt_dynamic(x, vy, ty, ax)"
   ]
  },
  {
   "cell_type": "markdown",
   "metadata": {
    "colab_type": "text",
    "id": "9VyuGYsGWd3T"
   },
   "source": [
    "Even after applying dropout we see that our train and validation loss converge. Thus the model is not overfitting."
   ]
  },
  {
   "cell_type": "markdown",
   "metadata": {
    "colab_type": "text",
    "id": "g03yqKeiXENl"
   },
   "source": [
    "**Trying a different dropuout rate**"
   ]
  },
  {
   "cell_type": "code",
   "execution_count": 0,
   "metadata": {
    "colab": {
     "base_uri": "https://localhost:8080/",
     "height": 680
    },
    "colab_type": "code",
    "id": "fmFZ87FtXVQg",
    "outputId": "e28ae658-c184-4319-de98-6b20fed925a0"
   },
   "outputs": [
    {
     "name": "stdout",
     "output_type": "stream",
     "text": [
      "_________________________________________________________________\n",
      "Layer (type)                 Output Shape              Param #   \n",
      "=================================================================\n",
      "dense_92 (Dense)             (None, 512)               401920    \n",
      "_________________________________________________________________\n",
      "batch_normalization_46 (Batc (None, 512)               2048      \n",
      "_________________________________________________________________\n",
      "dropout_26 (Dropout)         (None, 512)               0         \n",
      "_________________________________________________________________\n",
      "dense_93 (Dense)             (None, 256)               131328    \n",
      "_________________________________________________________________\n",
      "batch_normalization_47 (Batc (None, 256)               1024      \n",
      "_________________________________________________________________\n",
      "dropout_27 (Dropout)         (None, 256)               0         \n",
      "_________________________________________________________________\n",
      "dense_94 (Dense)             (None, 128)               32896     \n",
      "_________________________________________________________________\n",
      "batch_normalization_48 (Batc (None, 128)               512       \n",
      "_________________________________________________________________\n",
      "dropout_28 (Dropout)         (None, 128)               0         \n",
      "_________________________________________________________________\n",
      "dense_95 (Dense)             (None, 128)               16512     \n",
      "_________________________________________________________________\n",
      "batch_normalization_49 (Batc (None, 128)               512       \n",
      "_________________________________________________________________\n",
      "dropout_29 (Dropout)         (None, 128)               0         \n",
      "_________________________________________________________________\n",
      "dense_96 (Dense)             (None, 64)                8256      \n",
      "_________________________________________________________________\n",
      "batch_normalization_50 (Batc (None, 64)                256       \n",
      "_________________________________________________________________\n",
      "dropout_30 (Dropout)         (None, 64)                0         \n",
      "_________________________________________________________________\n",
      "dense_97 (Dense)             (None, 10)                650       \n",
      "=================================================================\n",
      "Total params: 595,914\n",
      "Trainable params: 593,738\n",
      "Non-trainable params: 2,176\n",
      "_________________________________________________________________\n"
     ]
    }
   ],
   "source": [
    "model_5layer=Sequential()\n",
    "model_5layer.add(Dense(512,activation='relu',input_dim=input_dim,))\n",
    "model_5layer.add(BatchNormalization())\n",
    "model_5layer.add(Dropout(0.7))\n",
    "model_5layer.add(Dense(256,activation='relu'))\n",
    "model_5layer.add(BatchNormalization())\n",
    "model_5layer.add(Dropout(0.7))\n",
    "model_5layer.add(Dense(128,activation='relu'))\n",
    "model_5layer.add(BatchNormalization())\n",
    "model_5layer.add(Dropout(0.7))\n",
    "model_5layer.add(Dense(128,activation='relu'))\n",
    "model_5layer.add(BatchNormalization())\n",
    "model_5layer.add(Dropout(0.7))\n",
    "model_5layer.add(Dense(64,activation='relu'))\n",
    "model_5layer.add(BatchNormalization())\n",
    "model_5layer.add(Dropout(0.7))\n",
    "model_5layer.add(Dense(output_dim,activation='softmax'))\n",
    "model_5layer.summary()"
   ]
  },
  {
   "cell_type": "code",
   "execution_count": 0,
   "metadata": {
    "colab": {
     "base_uri": "https://localhost:8080/",
     "height": 884
    },
    "colab_type": "code",
    "id": "CQsSdJP0YwoU",
    "outputId": "ef9f33ce-5db4-44df-a1a7-1ee92774cc03"
   },
   "outputs": [
    {
     "name": "stdout",
     "output_type": "stream",
     "text": [
      "Train on 60000 samples, validate on 10000 samples\n",
      "Epoch 1/25\n",
      "60000/60000 [==============================] - 14s 236us/step - loss: 2.5421 - acc: 0.1952 - val_loss: 1.6784 - val_acc: 0.4748\n",
      "Epoch 2/25\n",
      "60000/60000 [==============================] - 9s 146us/step - loss: 1.5099 - acc: 0.4418 - val_loss: 0.8394 - val_acc: 0.7243\n",
      "Epoch 3/25\n",
      "60000/60000 [==============================] - 9s 149us/step - loss: 1.0685 - acc: 0.6085 - val_loss: 0.5786 - val_acc: 0.8367\n",
      "Epoch 4/25\n",
      "60000/60000 [==============================] - 9s 148us/step - loss: 0.8530 - acc: 0.7070 - val_loss: 0.4272 - val_acc: 0.8908\n",
      "Epoch 5/25\n",
      "60000/60000 [==============================] - 9s 148us/step - loss: 0.7158 - acc: 0.7708 - val_loss: 0.3231 - val_acc: 0.9244\n",
      "Epoch 6/25\n",
      "60000/60000 [==============================] - 9s 149us/step - loss: 0.6231 - acc: 0.8122 - val_loss: 0.2635 - val_acc: 0.9367\n",
      "Epoch 7/25\n",
      "60000/60000 [==============================] - 9s 149us/step - loss: 0.5469 - acc: 0.8442 - val_loss: 0.2270 - val_acc: 0.9418\n",
      "Epoch 8/25\n",
      "60000/60000 [==============================] - 9s 148us/step - loss: 0.4919 - acc: 0.8682 - val_loss: 0.1906 - val_acc: 0.9529\n",
      "Epoch 9/25\n",
      "60000/60000 [==============================] - 9s 148us/step - loss: 0.4471 - acc: 0.8848 - val_loss: 0.1767 - val_acc: 0.9555\n",
      "Epoch 10/25\n",
      "60000/60000 [==============================] - 9s 148us/step - loss: 0.3989 - acc: 0.9011 - val_loss: 0.1676 - val_acc: 0.9598\n",
      "Epoch 11/25\n",
      "60000/60000 [==============================] - 9s 147us/step - loss: 0.3921 - acc: 0.9050 - val_loss: 0.1621 - val_acc: 0.9610\n",
      "Epoch 12/25\n",
      "60000/60000 [==============================] - 9s 148us/step - loss: 0.3658 - acc: 0.9117 - val_loss: 0.1502 - val_acc: 0.9636\n",
      "Epoch 13/25\n",
      "60000/60000 [==============================] - 9s 148us/step - loss: 0.3439 - acc: 0.9201 - val_loss: 0.1462 - val_acc: 0.9650\n",
      "Epoch 14/25\n",
      "60000/60000 [==============================] - 9s 148us/step - loss: 0.3376 - acc: 0.9222 - val_loss: 0.1428 - val_acc: 0.9668\n",
      "Epoch 15/25\n",
      "60000/60000 [==============================] - 9s 148us/step - loss: 0.3229 - acc: 0.9258 - val_loss: 0.1389 - val_acc: 0.9681\n",
      "Epoch 16/25\n",
      "60000/60000 [==============================] - 9s 148us/step - loss: 0.3112 - acc: 0.9287 - val_loss: 0.1307 - val_acc: 0.9697\n",
      "Epoch 17/25\n",
      "60000/60000 [==============================] - 9s 149us/step - loss: 0.3071 - acc: 0.9310 - val_loss: 0.1239 - val_acc: 0.9719\n",
      "Epoch 18/25\n",
      "60000/60000 [==============================] - 9s 148us/step - loss: 0.2977 - acc: 0.9333 - val_loss: 0.1251 - val_acc: 0.9698\n",
      "Epoch 19/25\n",
      "60000/60000 [==============================] - 9s 150us/step - loss: 0.2854 - acc: 0.9353 - val_loss: 0.1194 - val_acc: 0.9726\n",
      "Epoch 20/25\n",
      "60000/60000 [==============================] - 9s 149us/step - loss: 0.2780 - acc: 0.9378 - val_loss: 0.1125 - val_acc: 0.9733\n",
      "Epoch 21/25\n",
      "60000/60000 [==============================] - 9s 146us/step - loss: 0.2768 - acc: 0.9382 - val_loss: 0.1213 - val_acc: 0.9726\n",
      "Epoch 22/25\n",
      "60000/60000 [==============================] - 9s 147us/step - loss: 0.2733 - acc: 0.9407 - val_loss: 0.1186 - val_acc: 0.9730\n",
      "Epoch 23/25\n",
      "60000/60000 [==============================] - 9s 148us/step - loss: 0.2598 - acc: 0.9421 - val_loss: 0.1202 - val_acc: 0.9718\n",
      "Epoch 24/25\n",
      "60000/60000 [==============================] - 9s 148us/step - loss: 0.2583 - acc: 0.9432 - val_loss: 0.1158 - val_acc: 0.9736\n",
      "Epoch 25/25\n",
      "60000/60000 [==============================] - 9s 149us/step - loss: 0.2511 - acc: 0.9451 - val_loss: 0.1102 - val_acc: 0.9736\n"
     ]
    }
   ],
   "source": [
    "model_5layer.compile(optimizer='adam',loss='categorical_crossentropy',metrics=['accuracy'])\n",
    "history5=model_5layer.fit(X_train,Y_train,batch_size=batch_size,verbose=1,epochs=nb_epoch,validation_data=(X_test,Y_test))"
   ]
  },
  {
   "cell_type": "code",
   "execution_count": 0,
   "metadata": {
    "colab": {
     "base_uri": "https://localhost:8080/",
     "height": 279
    },
    "colab_type": "code",
    "id": "iA4X5Rb2hF8s",
    "outputId": "fd39cabf-e6b5-4271-ee6c-c51f88e41615"
   },
   "outputs": [
    {
     "data": {
      "image/png": "[encoded data removed]",
      "text/plain": [
       "<Figure size 432x288 with 1 Axes>"
      ]
     },
     "metadata": {
      "tags": []
     },
     "output_type": "display_data"
    }
   ],
   "source": [
    "fig,ax = plt.subplots(1,1)\n",
    "ax.set_xlabel('epoch') ; ax.set_ylabel('Categorical Crossentropy Loss')\n",
    "\n",
    "# list of epoch numbers\n",
    "x = list(range(1,nb_epoch+1))\n",
    "vy = history5.history['val_loss']\n",
    "ty = history5.history['loss']\n",
    "plt_dynamic(x, vy, ty, ax)"
   ]
  },
  {
   "cell_type": "markdown",
   "metadata": {
    "colab": {},
    "colab_type": "code",
    "id": "45K7LBJihILJ"
   },
   "source": [
    "We have tried various MLP architectures on MNIST data and seen how they perform in terms of thier accuracy and train vs val loss. We also saw the distribution of weights and how it changes with Batchnorm."
   ]
  },
  {
   "cell_type": "code",
   "execution_count": 1,
   "metadata": {},
   "outputs": [
    {
     "name": "stdout",
     "output_type": "stream",
     "text": [
      "+--------------+------------------+--------------------+-----------+---------------+\n",
      "| Architecture | Dropout applied? | BatchNorm applied? | Test Loss | Test Accuracy |\n",
      "+--------------+------------------+--------------------+-----------+---------------+\n",
      "|   2 Layer    |        No        |         No         |   0.0895  |     0.9832    |\n",
      "|   2 Layer    |       Yes        |         No         |   0.084   |     0.9809    |\n",
      "|   2 Layer    |       Yes        |        Yes         |   0.058   |     0.9824    |\n",
      "|   3 Layer    |        No        |         No         |   0.1244  |     0.9768    |\n",
      "|   3 Layer    |       Yes        |         No         |   0.0803  |     0.9813    |\n",
      "|   3 Layer    |       Yes        |        Yes         |   0.0623  |     0.9823    |\n",
      "|   5 Layer    |        No        |         No         |   0.093   |     0.9809    |\n",
      "|   5 Layer    |       Yes        |         No         |   0.0895  |     0.9788    |\n",
      "|   5 Layer    |       Yes        |        Yes         |   0.067   |     0.9839    |\n",
      "+--------------+------------------+--------------------+-----------+---------------+\n"
     ]
    }
   ],
   "source": [
    "from prettytable import PrettyTable\n",
    "\n",
    "x = PrettyTable()\n",
    "\n",
    "x.field_names = [\"Architecture\",\"Dropout applied?\",\"BatchNorm applied?\",\"Test Loss\",\"Test Accuracy\"]\n",
    "x.add_row([\"2 Layer\", \"No\",\"No\",0.0895,0.9832])\n",
    "x.add_row([\"2 Layer\", \"Yes\",\"No\",0.0840,0.9809])\n",
    "x.add_row([\"2 Layer\", \"Yes\",\"Yes\",0.0580,0.9824])\n",
    "x.add_row([\"3 Layer\", \"No\",\"No\",0.1244,0.9768])\n",
    "x.add_row([\"3 Layer\", \"Yes\",\"No\",0.0803,0.9813])\n",
    "x.add_row([\"3 Layer\", \"Yes\",\"Yes\",0.0623,0.9823])\n",
    "x.add_row([\"5 Layer\", \"No\",\"No\",0.0930,0.9809])\n",
    "x.add_row([\"5 Layer\", \"Yes\",\"No\",0.0895,0.9788])\n",
    "x.add_row([\"5 Layer\", \"Yes\",\"Yes\",0.0670,0.9839])\n",
    "print(x)"
   ]
  },
  {
   "cell_type": "code",
   "execution_count": null,
   "metadata": {},
   "outputs": [],
   "source": []
  }
 ],
 "metadata": {
  "accelerator": "GPU",
  "colab": {
   "collapsed_sections": [],
   "name": "AAIC Keras MNIST Assignment.IPYNB",
   "provenance": [],
   "version": "0.3.2"
  },
  "kernelspec": {
   "display_name": "Python 3",
   "language": "python",
   "name": "python3"
  },
  "language_info": {
   "codemirror_mode": {
    "name": "ipython",
    "version": 3
   },
   "file_extension": ".py",
   "mimetype": "text/x-python",
   "name": "python",
   "nbconvert_exporter": "python",
   "pygments_lexer": "ipython3",
   "version": "3.6.5"
  }
 },
 "nbformat": 4,
 "nbformat_minor": 1
}
